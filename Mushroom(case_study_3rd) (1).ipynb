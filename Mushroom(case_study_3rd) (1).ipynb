{
  "nbformat": 4,
  "nbformat_minor": 0,
  "metadata": {
    "colab": {
      "provenance": [],
      "collapsed_sections": []
    },
    "kernelspec": {
      "name": "python3",
      "display_name": "Python 3"
    },
    "language_info": {
      "name": "python"
    }
  },
  "cells": [
    {
      "cell_type": "code",
      "execution_count": 1,
      "metadata": {
        "id": "3MASqT6dB7Cv"
      },
      "outputs": [],
      "source": [
        "# Import library\n",
        "import numpy as np \n",
        "import pandas as pd\n",
        "import matplotlib.pyplot as plt\n",
        "import seaborn as sns"
      ]
    },
    {
      "cell_type": "code",
      "source": [
        "df = pd.read_csv('/content/drive/MyDrive/Bse -Machine Learning/Case Studies/mushrooms.csv') # Read and store data in a variable"
      ],
      "metadata": {
        "id": "4Bc0xhowCYNa"
      },
      "execution_count": 2,
      "outputs": []
    },
    {
      "cell_type": "code",
      "source": [
        "rdf = pd.read_csv('/content/drive/MyDrive/Bse -Machine Learning/Case Studies/mushrooms.csv')"
      ],
      "metadata": {
        "id": "R-u1GN1CXIdb"
      },
      "execution_count": 3,
      "outputs": []
    },
    {
      "cell_type": "code",
      "source": [
        "df.head() # Print or view the head of dataframe"
      ],
      "metadata": {
        "colab": {
          "base_uri": "https://localhost:8080/",
          "height": 352
        },
        "id": "FoFH_xQwCjO8",
        "outputId": "204d6997-8337-45dc-f965-28f6b43a4625"
      },
      "execution_count": 4,
      "outputs": [
        {
          "output_type": "execute_result",
          "data": {
            "text/plain": [
              "  class cap-shape cap-surface cap-color bruises odor gill-attachment  \\\n",
              "0     p         x           s         n       t    p               f   \n",
              "1     e         x           s         y       t    a               f   \n",
              "2     e         b           s         w       t    l               f   \n",
              "3     p         x           y         w       t    p               f   \n",
              "4     e         x           s         g       f    n               f   \n",
              "\n",
              "  gill-spacing gill-size gill-color  ... stalk-surface-below-ring  \\\n",
              "0            c         n          k  ...                        s   \n",
              "1            c         b          k  ...                        s   \n",
              "2            c         b          n  ...                        s   \n",
              "3            c         n          n  ...                        s   \n",
              "4            w         b          k  ...                        s   \n",
              "\n",
              "  stalk-color-above-ring stalk-color-below-ring veil-type veil-color  \\\n",
              "0                      w                      w         p          w   \n",
              "1                      w                      w         p          w   \n",
              "2                      w                      w         p          w   \n",
              "3                      w                      w         p          w   \n",
              "4                      w                      w         p          w   \n",
              "\n",
              "  ring-number ring-type spore-print-color population habitat  \n",
              "0           o         p                 k          s       u  \n",
              "1           o         p                 n          n       g  \n",
              "2           o         p                 n          n       m  \n",
              "3           o         p                 k          s       u  \n",
              "4           o         e                 n          a       g  \n",
              "\n",
              "[5 rows x 23 columns]"
            ],
            "text/html": [
              "\n",
              "  <div id=\"df-2c96bad9-13be-4fcb-b2c9-5f34bffa2e17\">\n",
              "    <div class=\"colab-df-container\">\n",
              "      <div>\n",
              "<style scoped>\n",
              "    .dataframe tbody tr th:only-of-type {\n",
              "        vertical-align: middle;\n",
              "    }\n",
              "\n",
              "    .dataframe tbody tr th {\n",
              "        vertical-align: top;\n",
              "    }\n",
              "\n",
              "    .dataframe thead th {\n",
              "        text-align: right;\n",
              "    }\n",
              "</style>\n",
              "<table border=\"1\" class=\"dataframe\">\n",
              "  <thead>\n",
              "    <tr style=\"text-align: right;\">\n",
              "      <th></th>\n",
              "      <th>class</th>\n",
              "      <th>cap-shape</th>\n",
              "      <th>cap-surface</th>\n",
              "      <th>cap-color</th>\n",
              "      <th>bruises</th>\n",
              "      <th>odor</th>\n",
              "      <th>gill-attachment</th>\n",
              "      <th>gill-spacing</th>\n",
              "      <th>gill-size</th>\n",
              "      <th>gill-color</th>\n",
              "      <th>...</th>\n",
              "      <th>stalk-surface-below-ring</th>\n",
              "      <th>stalk-color-above-ring</th>\n",
              "      <th>stalk-color-below-ring</th>\n",
              "      <th>veil-type</th>\n",
              "      <th>veil-color</th>\n",
              "      <th>ring-number</th>\n",
              "      <th>ring-type</th>\n",
              "      <th>spore-print-color</th>\n",
              "      <th>population</th>\n",
              "      <th>habitat</th>\n",
              "    </tr>\n",
              "  </thead>\n",
              "  <tbody>\n",
              "    <tr>\n",
              "      <th>0</th>\n",
              "      <td>p</td>\n",
              "      <td>x</td>\n",
              "      <td>s</td>\n",
              "      <td>n</td>\n",
              "      <td>t</td>\n",
              "      <td>p</td>\n",
              "      <td>f</td>\n",
              "      <td>c</td>\n",
              "      <td>n</td>\n",
              "      <td>k</td>\n",
              "      <td>...</td>\n",
              "      <td>s</td>\n",
              "      <td>w</td>\n",
              "      <td>w</td>\n",
              "      <td>p</td>\n",
              "      <td>w</td>\n",
              "      <td>o</td>\n",
              "      <td>p</td>\n",
              "      <td>k</td>\n",
              "      <td>s</td>\n",
              "      <td>u</td>\n",
              "    </tr>\n",
              "    <tr>\n",
              "      <th>1</th>\n",
              "      <td>e</td>\n",
              "      <td>x</td>\n",
              "      <td>s</td>\n",
              "      <td>y</td>\n",
              "      <td>t</td>\n",
              "      <td>a</td>\n",
              "      <td>f</td>\n",
              "      <td>c</td>\n",
              "      <td>b</td>\n",
              "      <td>k</td>\n",
              "      <td>...</td>\n",
              "      <td>s</td>\n",
              "      <td>w</td>\n",
              "      <td>w</td>\n",
              "      <td>p</td>\n",
              "      <td>w</td>\n",
              "      <td>o</td>\n",
              "      <td>p</td>\n",
              "      <td>n</td>\n",
              "      <td>n</td>\n",
              "      <td>g</td>\n",
              "    </tr>\n",
              "    <tr>\n",
              "      <th>2</th>\n",
              "      <td>e</td>\n",
              "      <td>b</td>\n",
              "      <td>s</td>\n",
              "      <td>w</td>\n",
              "      <td>t</td>\n",
              "      <td>l</td>\n",
              "      <td>f</td>\n",
              "      <td>c</td>\n",
              "      <td>b</td>\n",
              "      <td>n</td>\n",
              "      <td>...</td>\n",
              "      <td>s</td>\n",
              "      <td>w</td>\n",
              "      <td>w</td>\n",
              "      <td>p</td>\n",
              "      <td>w</td>\n",
              "      <td>o</td>\n",
              "      <td>p</td>\n",
              "      <td>n</td>\n",
              "      <td>n</td>\n",
              "      <td>m</td>\n",
              "    </tr>\n",
              "    <tr>\n",
              "      <th>3</th>\n",
              "      <td>p</td>\n",
              "      <td>x</td>\n",
              "      <td>y</td>\n",
              "      <td>w</td>\n",
              "      <td>t</td>\n",
              "      <td>p</td>\n",
              "      <td>f</td>\n",
              "      <td>c</td>\n",
              "      <td>n</td>\n",
              "      <td>n</td>\n",
              "      <td>...</td>\n",
              "      <td>s</td>\n",
              "      <td>w</td>\n",
              "      <td>w</td>\n",
              "      <td>p</td>\n",
              "      <td>w</td>\n",
              "      <td>o</td>\n",
              "      <td>p</td>\n",
              "      <td>k</td>\n",
              "      <td>s</td>\n",
              "      <td>u</td>\n",
              "    </tr>\n",
              "    <tr>\n",
              "      <th>4</th>\n",
              "      <td>e</td>\n",
              "      <td>x</td>\n",
              "      <td>s</td>\n",
              "      <td>g</td>\n",
              "      <td>f</td>\n",
              "      <td>n</td>\n",
              "      <td>f</td>\n",
              "      <td>w</td>\n",
              "      <td>b</td>\n",
              "      <td>k</td>\n",
              "      <td>...</td>\n",
              "      <td>s</td>\n",
              "      <td>w</td>\n",
              "      <td>w</td>\n",
              "      <td>p</td>\n",
              "      <td>w</td>\n",
              "      <td>o</td>\n",
              "      <td>e</td>\n",
              "      <td>n</td>\n",
              "      <td>a</td>\n",
              "      <td>g</td>\n",
              "    </tr>\n",
              "  </tbody>\n",
              "</table>\n",
              "<p>5 rows × 23 columns</p>\n",
              "</div>\n",
              "      <button class=\"colab-df-convert\" onclick=\"convertToInteractive('df-2c96bad9-13be-4fcb-b2c9-5f34bffa2e17')\"\n",
              "              title=\"Convert this dataframe to an interactive table.\"\n",
              "              style=\"display:none;\">\n",
              "        \n",
              "  <svg xmlns=\"http://www.w3.org/2000/svg\" height=\"24px\"viewBox=\"0 0 24 24\"\n",
              "       width=\"24px\">\n",
              "    <path d=\"M0 0h24v24H0V0z\" fill=\"none\"/>\n",
              "    <path d=\"M18.56 5.44l.94 2.06.94-2.06 2.06-.94-2.06-.94-.94-2.06-.94 2.06-2.06.94zm-11 1L8.5 8.5l.94-2.06 2.06-.94-2.06-.94L8.5 2.5l-.94 2.06-2.06.94zm10 10l.94 2.06.94-2.06 2.06-.94-2.06-.94-.94-2.06-.94 2.06-2.06.94z\"/><path d=\"M17.41 7.96l-1.37-1.37c-.4-.4-.92-.59-1.43-.59-.52 0-1.04.2-1.43.59L10.3 9.45l-7.72 7.72c-.78.78-.78 2.05 0 2.83L4 21.41c.39.39.9.59 1.41.59.51 0 1.02-.2 1.41-.59l7.78-7.78 2.81-2.81c.8-.78.8-2.07 0-2.86zM5.41 20L4 18.59l7.72-7.72 1.47 1.35L5.41 20z\"/>\n",
              "  </svg>\n",
              "      </button>\n",
              "      \n",
              "  <style>\n",
              "    .colab-df-container {\n",
              "      display:flex;\n",
              "      flex-wrap:wrap;\n",
              "      gap: 12px;\n",
              "    }\n",
              "\n",
              "    .colab-df-convert {\n",
              "      background-color: #E8F0FE;\n",
              "      border: none;\n",
              "      border-radius: 50%;\n",
              "      cursor: pointer;\n",
              "      display: none;\n",
              "      fill: #1967D2;\n",
              "      height: 32px;\n",
              "      padding: 0 0 0 0;\n",
              "      width: 32px;\n",
              "    }\n",
              "\n",
              "    .colab-df-convert:hover {\n",
              "      background-color: #E2EBFA;\n",
              "      box-shadow: 0px 1px 2px rgba(60, 64, 67, 0.3), 0px 1px 3px 1px rgba(60, 64, 67, 0.15);\n",
              "      fill: #174EA6;\n",
              "    }\n",
              "\n",
              "    [theme=dark] .colab-df-convert {\n",
              "      background-color: #3B4455;\n",
              "      fill: #D2E3FC;\n",
              "    }\n",
              "\n",
              "    [theme=dark] .colab-df-convert:hover {\n",
              "      background-color: #434B5C;\n",
              "      box-shadow: 0px 1px 3px 1px rgba(0, 0, 0, 0.15);\n",
              "      filter: drop-shadow(0px 1px 2px rgba(0, 0, 0, 0.3));\n",
              "      fill: #FFFFFF;\n",
              "    }\n",
              "  </style>\n",
              "\n",
              "      <script>\n",
              "        const buttonEl =\n",
              "          document.querySelector('#df-2c96bad9-13be-4fcb-b2c9-5f34bffa2e17 button.colab-df-convert');\n",
              "        buttonEl.style.display =\n",
              "          google.colab.kernel.accessAllowed ? 'block' : 'none';\n",
              "\n",
              "        async function convertToInteractive(key) {\n",
              "          const element = document.querySelector('#df-2c96bad9-13be-4fcb-b2c9-5f34bffa2e17');\n",
              "          const dataTable =\n",
              "            await google.colab.kernel.invokeFunction('convertToInteractive',\n",
              "                                                     [key], {});\n",
              "          if (!dataTable) return;\n",
              "\n",
              "          const docLinkHtml = 'Like what you see? Visit the ' +\n",
              "            '<a target=\"_blank\" href=https://colab.research.google.com/notebooks/data_table.ipynb>data table notebook</a>'\n",
              "            + ' to learn more about interactive tables.';\n",
              "          element.innerHTML = '';\n",
              "          dataTable['output_type'] = 'display_data';\n",
              "          await google.colab.output.renderOutput(dataTable, element);\n",
              "          const docLink = document.createElement('div');\n",
              "          docLink.innerHTML = docLinkHtml;\n",
              "          element.appendChild(docLink);\n",
              "        }\n",
              "      </script>\n",
              "    </div>\n",
              "  </div>\n",
              "  "
            ]
          },
          "metadata": {},
          "execution_count": 4
        }
      ]
    },
    {
      "cell_type": "code",
      "source": [
        "df.tail() # Print or view the tail of dataframe"
      ],
      "metadata": {
        "colab": {
          "base_uri": "https://localhost:8080/",
          "height": 352
        },
        "id": "3zyQZ62OCl_d",
        "outputId": "b9a0df2f-5db8-4b7c-f514-926b34db1084"
      },
      "execution_count": 5,
      "outputs": [
        {
          "output_type": "execute_result",
          "data": {
            "text/plain": [
              "     class cap-shape cap-surface cap-color bruises odor gill-attachment  \\\n",
              "8119     e         k           s         n       f    n               a   \n",
              "8120     e         x           s         n       f    n               a   \n",
              "8121     e         f           s         n       f    n               a   \n",
              "8122     p         k           y         n       f    y               f   \n",
              "8123     e         x           s         n       f    n               a   \n",
              "\n",
              "     gill-spacing gill-size gill-color  ... stalk-surface-below-ring  \\\n",
              "8119            c         b          y  ...                        s   \n",
              "8120            c         b          y  ...                        s   \n",
              "8121            c         b          n  ...                        s   \n",
              "8122            c         n          b  ...                        k   \n",
              "8123            c         b          y  ...                        s   \n",
              "\n",
              "     stalk-color-above-ring stalk-color-below-ring veil-type veil-color  \\\n",
              "8119                      o                      o         p          o   \n",
              "8120                      o                      o         p          n   \n",
              "8121                      o                      o         p          o   \n",
              "8122                      w                      w         p          w   \n",
              "8123                      o                      o         p          o   \n",
              "\n",
              "     ring-number ring-type spore-print-color population habitat  \n",
              "8119           o         p                 b          c       l  \n",
              "8120           o         p                 b          v       l  \n",
              "8121           o         p                 b          c       l  \n",
              "8122           o         e                 w          v       l  \n",
              "8123           o         p                 o          c       l  \n",
              "\n",
              "[5 rows x 23 columns]"
            ],
            "text/html": [
              "\n",
              "  <div id=\"df-6a5243ab-42f4-4ee3-a98e-eac03d01ac6a\">\n",
              "    <div class=\"colab-df-container\">\n",
              "      <div>\n",
              "<style scoped>\n",
              "    .dataframe tbody tr th:only-of-type {\n",
              "        vertical-align: middle;\n",
              "    }\n",
              "\n",
              "    .dataframe tbody tr th {\n",
              "        vertical-align: top;\n",
              "    }\n",
              "\n",
              "    .dataframe thead th {\n",
              "        text-align: right;\n",
              "    }\n",
              "</style>\n",
              "<table border=\"1\" class=\"dataframe\">\n",
              "  <thead>\n",
              "    <tr style=\"text-align: right;\">\n",
              "      <th></th>\n",
              "      <th>class</th>\n",
              "      <th>cap-shape</th>\n",
              "      <th>cap-surface</th>\n",
              "      <th>cap-color</th>\n",
              "      <th>bruises</th>\n",
              "      <th>odor</th>\n",
              "      <th>gill-attachment</th>\n",
              "      <th>gill-spacing</th>\n",
              "      <th>gill-size</th>\n",
              "      <th>gill-color</th>\n",
              "      <th>...</th>\n",
              "      <th>stalk-surface-below-ring</th>\n",
              "      <th>stalk-color-above-ring</th>\n",
              "      <th>stalk-color-below-ring</th>\n",
              "      <th>veil-type</th>\n",
              "      <th>veil-color</th>\n",
              "      <th>ring-number</th>\n",
              "      <th>ring-type</th>\n",
              "      <th>spore-print-color</th>\n",
              "      <th>population</th>\n",
              "      <th>habitat</th>\n",
              "    </tr>\n",
              "  </thead>\n",
              "  <tbody>\n",
              "    <tr>\n",
              "      <th>8119</th>\n",
              "      <td>e</td>\n",
              "      <td>k</td>\n",
              "      <td>s</td>\n",
              "      <td>n</td>\n",
              "      <td>f</td>\n",
              "      <td>n</td>\n",
              "      <td>a</td>\n",
              "      <td>c</td>\n",
              "      <td>b</td>\n",
              "      <td>y</td>\n",
              "      <td>...</td>\n",
              "      <td>s</td>\n",
              "      <td>o</td>\n",
              "      <td>o</td>\n",
              "      <td>p</td>\n",
              "      <td>o</td>\n",
              "      <td>o</td>\n",
              "      <td>p</td>\n",
              "      <td>b</td>\n",
              "      <td>c</td>\n",
              "      <td>l</td>\n",
              "    </tr>\n",
              "    <tr>\n",
              "      <th>8120</th>\n",
              "      <td>e</td>\n",
              "      <td>x</td>\n",
              "      <td>s</td>\n",
              "      <td>n</td>\n",
              "      <td>f</td>\n",
              "      <td>n</td>\n",
              "      <td>a</td>\n",
              "      <td>c</td>\n",
              "      <td>b</td>\n",
              "      <td>y</td>\n",
              "      <td>...</td>\n",
              "      <td>s</td>\n",
              "      <td>o</td>\n",
              "      <td>o</td>\n",
              "      <td>p</td>\n",
              "      <td>n</td>\n",
              "      <td>o</td>\n",
              "      <td>p</td>\n",
              "      <td>b</td>\n",
              "      <td>v</td>\n",
              "      <td>l</td>\n",
              "    </tr>\n",
              "    <tr>\n",
              "      <th>8121</th>\n",
              "      <td>e</td>\n",
              "      <td>f</td>\n",
              "      <td>s</td>\n",
              "      <td>n</td>\n",
              "      <td>f</td>\n",
              "      <td>n</td>\n",
              "      <td>a</td>\n",
              "      <td>c</td>\n",
              "      <td>b</td>\n",
              "      <td>n</td>\n",
              "      <td>...</td>\n",
              "      <td>s</td>\n",
              "      <td>o</td>\n",
              "      <td>o</td>\n",
              "      <td>p</td>\n",
              "      <td>o</td>\n",
              "      <td>o</td>\n",
              "      <td>p</td>\n",
              "      <td>b</td>\n",
              "      <td>c</td>\n",
              "      <td>l</td>\n",
              "    </tr>\n",
              "    <tr>\n",
              "      <th>8122</th>\n",
              "      <td>p</td>\n",
              "      <td>k</td>\n",
              "      <td>y</td>\n",
              "      <td>n</td>\n",
              "      <td>f</td>\n",
              "      <td>y</td>\n",
              "      <td>f</td>\n",
              "      <td>c</td>\n",
              "      <td>n</td>\n",
              "      <td>b</td>\n",
              "      <td>...</td>\n",
              "      <td>k</td>\n",
              "      <td>w</td>\n",
              "      <td>w</td>\n",
              "      <td>p</td>\n",
              "      <td>w</td>\n",
              "      <td>o</td>\n",
              "      <td>e</td>\n",
              "      <td>w</td>\n",
              "      <td>v</td>\n",
              "      <td>l</td>\n",
              "    </tr>\n",
              "    <tr>\n",
              "      <th>8123</th>\n",
              "      <td>e</td>\n",
              "      <td>x</td>\n",
              "      <td>s</td>\n",
              "      <td>n</td>\n",
              "      <td>f</td>\n",
              "      <td>n</td>\n",
              "      <td>a</td>\n",
              "      <td>c</td>\n",
              "      <td>b</td>\n",
              "      <td>y</td>\n",
              "      <td>...</td>\n",
              "      <td>s</td>\n",
              "      <td>o</td>\n",
              "      <td>o</td>\n",
              "      <td>p</td>\n",
              "      <td>o</td>\n",
              "      <td>o</td>\n",
              "      <td>p</td>\n",
              "      <td>o</td>\n",
              "      <td>c</td>\n",
              "      <td>l</td>\n",
              "    </tr>\n",
              "  </tbody>\n",
              "</table>\n",
              "<p>5 rows × 23 columns</p>\n",
              "</div>\n",
              "      <button class=\"colab-df-convert\" onclick=\"convertToInteractive('df-6a5243ab-42f4-4ee3-a98e-eac03d01ac6a')\"\n",
              "              title=\"Convert this dataframe to an interactive table.\"\n",
              "              style=\"display:none;\">\n",
              "        \n",
              "  <svg xmlns=\"http://www.w3.org/2000/svg\" height=\"24px\"viewBox=\"0 0 24 24\"\n",
              "       width=\"24px\">\n",
              "    <path d=\"M0 0h24v24H0V0z\" fill=\"none\"/>\n",
              "    <path d=\"M18.56 5.44l.94 2.06.94-2.06 2.06-.94-2.06-.94-.94-2.06-.94 2.06-2.06.94zm-11 1L8.5 8.5l.94-2.06 2.06-.94-2.06-.94L8.5 2.5l-.94 2.06-2.06.94zm10 10l.94 2.06.94-2.06 2.06-.94-2.06-.94-.94-2.06-.94 2.06-2.06.94z\"/><path d=\"M17.41 7.96l-1.37-1.37c-.4-.4-.92-.59-1.43-.59-.52 0-1.04.2-1.43.59L10.3 9.45l-7.72 7.72c-.78.78-.78 2.05 0 2.83L4 21.41c.39.39.9.59 1.41.59.51 0 1.02-.2 1.41-.59l7.78-7.78 2.81-2.81c.8-.78.8-2.07 0-2.86zM5.41 20L4 18.59l7.72-7.72 1.47 1.35L5.41 20z\"/>\n",
              "  </svg>\n",
              "      </button>\n",
              "      \n",
              "  <style>\n",
              "    .colab-df-container {\n",
              "      display:flex;\n",
              "      flex-wrap:wrap;\n",
              "      gap: 12px;\n",
              "    }\n",
              "\n",
              "    .colab-df-convert {\n",
              "      background-color: #E8F0FE;\n",
              "      border: none;\n",
              "      border-radius: 50%;\n",
              "      cursor: pointer;\n",
              "      display: none;\n",
              "      fill: #1967D2;\n",
              "      height: 32px;\n",
              "      padding: 0 0 0 0;\n",
              "      width: 32px;\n",
              "    }\n",
              "\n",
              "    .colab-df-convert:hover {\n",
              "      background-color: #E2EBFA;\n",
              "      box-shadow: 0px 1px 2px rgba(60, 64, 67, 0.3), 0px 1px 3px 1px rgba(60, 64, 67, 0.15);\n",
              "      fill: #174EA6;\n",
              "    }\n",
              "\n",
              "    [theme=dark] .colab-df-convert {\n",
              "      background-color: #3B4455;\n",
              "      fill: #D2E3FC;\n",
              "    }\n",
              "\n",
              "    [theme=dark] .colab-df-convert:hover {\n",
              "      background-color: #434B5C;\n",
              "      box-shadow: 0px 1px 3px 1px rgba(0, 0, 0, 0.15);\n",
              "      filter: drop-shadow(0px 1px 2px rgba(0, 0, 0, 0.3));\n",
              "      fill: #FFFFFF;\n",
              "    }\n",
              "  </style>\n",
              "\n",
              "      <script>\n",
              "        const buttonEl =\n",
              "          document.querySelector('#df-6a5243ab-42f4-4ee3-a98e-eac03d01ac6a button.colab-df-convert');\n",
              "        buttonEl.style.display =\n",
              "          google.colab.kernel.accessAllowed ? 'block' : 'none';\n",
              "\n",
              "        async function convertToInteractive(key) {\n",
              "          const element = document.querySelector('#df-6a5243ab-42f4-4ee3-a98e-eac03d01ac6a');\n",
              "          const dataTable =\n",
              "            await google.colab.kernel.invokeFunction('convertToInteractive',\n",
              "                                                     [key], {});\n",
              "          if (!dataTable) return;\n",
              "\n",
              "          const docLinkHtml = 'Like what you see? Visit the ' +\n",
              "            '<a target=\"_blank\" href=https://colab.research.google.com/notebooks/data_table.ipynb>data table notebook</a>'\n",
              "            + ' to learn more about interactive tables.';\n",
              "          element.innerHTML = '';\n",
              "          dataTable['output_type'] = 'display_data';\n",
              "          await google.colab.output.renderOutput(dataTable, element);\n",
              "          const docLink = document.createElement('div');\n",
              "          docLink.innerHTML = docLinkHtml;\n",
              "          element.appendChild(docLink);\n",
              "        }\n",
              "      </script>\n",
              "    </div>\n",
              "  </div>\n",
              "  "
            ]
          },
          "metadata": {},
          "execution_count": 5
        }
      ]
    },
    {
      "cell_type": "code",
      "source": [
        "df.info() # information of dataframe"
      ],
      "metadata": {
        "colab": {
          "base_uri": "https://localhost:8080/"
        },
        "id": "YFowYofFCoSX",
        "outputId": "f7b0acb4-6d12-48c0-a59d-bac50d540afb"
      },
      "execution_count": 6,
      "outputs": [
        {
          "output_type": "stream",
          "name": "stdout",
          "text": [
            "<class 'pandas.core.frame.DataFrame'>\n",
            "RangeIndex: 8124 entries, 0 to 8123\n",
            "Data columns (total 23 columns):\n",
            " #   Column                    Non-Null Count  Dtype \n",
            "---  ------                    --------------  ----- \n",
            " 0   class                     8124 non-null   object\n",
            " 1   cap-shape                 8124 non-null   object\n",
            " 2   cap-surface               8124 non-null   object\n",
            " 3   cap-color                 8124 non-null   object\n",
            " 4   bruises                   8124 non-null   object\n",
            " 5   odor                      8124 non-null   object\n",
            " 6   gill-attachment           8124 non-null   object\n",
            " 7   gill-spacing              8124 non-null   object\n",
            " 8   gill-size                 8124 non-null   object\n",
            " 9   gill-color                8124 non-null   object\n",
            " 10  stalk-shape               8124 non-null   object\n",
            " 11  stalk-root                8124 non-null   object\n",
            " 12  stalk-surface-above-ring  8124 non-null   object\n",
            " 13  stalk-surface-below-ring  8124 non-null   object\n",
            " 14  stalk-color-above-ring    8124 non-null   object\n",
            " 15  stalk-color-below-ring    8124 non-null   object\n",
            " 16  veil-type                 8124 non-null   object\n",
            " 17  veil-color                8124 non-null   object\n",
            " 18  ring-number               8124 non-null   object\n",
            " 19  ring-type                 8124 non-null   object\n",
            " 20  spore-print-color         8124 non-null   object\n",
            " 21  population                8124 non-null   object\n",
            " 22  habitat                   8124 non-null   object\n",
            "dtypes: object(23)\n",
            "memory usage: 1.4+ MB\n"
          ]
        }
      ]
    },
    {
      "cell_type": "code",
      "source": [
        "df.shape  #shape of the dataframe in terms of row and column"
      ],
      "metadata": {
        "colab": {
          "base_uri": "https://localhost:8080/"
        },
        "id": "fL8CGaLTEHKf",
        "outputId": "051be62f-093c-4b2b-db4d-e7b5d29186f9"
      },
      "execution_count": 7,
      "outputs": [
        {
          "output_type": "execute_result",
          "data": {
            "text/plain": [
              "(8124, 23)"
            ]
          },
          "metadata": {},
          "execution_count": 7
        }
      ]
    },
    {
      "cell_type": "code",
      "source": [
        "len(df) #Length of dataframe"
      ],
      "metadata": {
        "colab": {
          "base_uri": "https://localhost:8080/"
        },
        "id": "gzXAjgmTEKA1",
        "outputId": "37ef27dc-4be0-46fa-e6a9-12cc3d50ce29"
      },
      "execution_count": 8,
      "outputs": [
        {
          "output_type": "execute_result",
          "data": {
            "text/plain": [
              "8124"
            ]
          },
          "metadata": {},
          "execution_count": 8
        }
      ]
    },
    {
      "cell_type": "code",
      "source": [
        "df.columns # Print columns"
      ],
      "metadata": {
        "colab": {
          "base_uri": "https://localhost:8080/"
        },
        "id": "lBpf3wBQEWoB",
        "outputId": "49698fac-3d86-439f-956f-b9318442c641"
      },
      "execution_count": 9,
      "outputs": [
        {
          "output_type": "execute_result",
          "data": {
            "text/plain": [
              "Index(['class', 'cap-shape', 'cap-surface', 'cap-color', 'bruises', 'odor',\n",
              "       'gill-attachment', 'gill-spacing', 'gill-size', 'gill-color',\n",
              "       'stalk-shape', 'stalk-root', 'stalk-surface-above-ring',\n",
              "       'stalk-surface-below-ring', 'stalk-color-above-ring',\n",
              "       'stalk-color-below-ring', 'veil-type', 'veil-color', 'ring-number',\n",
              "       'ring-type', 'spore-print-color', 'population', 'habitat'],\n",
              "      dtype='object')"
            ]
          },
          "metadata": {},
          "execution_count": 9
        }
      ]
    },
    {
      "cell_type": "code",
      "source": [
        "df.count() #counting values of all columns"
      ],
      "metadata": {
        "colab": {
          "base_uri": "https://localhost:8080/"
        },
        "id": "Y-NWN0HeEzjk",
        "outputId": "dc9f57eb-fd79-4e45-8459-6f278b94b4c2"
      },
      "execution_count": 10,
      "outputs": [
        {
          "output_type": "execute_result",
          "data": {
            "text/plain": [
              "class                       8124\n",
              "cap-shape                   8124\n",
              "cap-surface                 8124\n",
              "cap-color                   8124\n",
              "bruises                     8124\n",
              "odor                        8124\n",
              "gill-attachment             8124\n",
              "gill-spacing                8124\n",
              "gill-size                   8124\n",
              "gill-color                  8124\n",
              "stalk-shape                 8124\n",
              "stalk-root                  8124\n",
              "stalk-surface-above-ring    8124\n",
              "stalk-surface-below-ring    8124\n",
              "stalk-color-above-ring      8124\n",
              "stalk-color-below-ring      8124\n",
              "veil-type                   8124\n",
              "veil-color                  8124\n",
              "ring-number                 8124\n",
              "ring-type                   8124\n",
              "spore-print-color           8124\n",
              "population                  8124\n",
              "habitat                     8124\n",
              "dtype: int64"
            ]
          },
          "metadata": {},
          "execution_count": 10
        }
      ]
    },
    {
      "cell_type": "code",
      "source": [
        "df.isnull().sum() # Check Null values in dataframe in the terms of sum"
      ],
      "metadata": {
        "colab": {
          "base_uri": "https://localhost:8080/"
        },
        "id": "YcZsofT_E_ac",
        "outputId": "bec3b047-e6c3-4d91-a6f1-c57a25c54c81"
      },
      "execution_count": 11,
      "outputs": [
        {
          "output_type": "execute_result",
          "data": {
            "text/plain": [
              "class                       0\n",
              "cap-shape                   0\n",
              "cap-surface                 0\n",
              "cap-color                   0\n",
              "bruises                     0\n",
              "odor                        0\n",
              "gill-attachment             0\n",
              "gill-spacing                0\n",
              "gill-size                   0\n",
              "gill-color                  0\n",
              "stalk-shape                 0\n",
              "stalk-root                  0\n",
              "stalk-surface-above-ring    0\n",
              "stalk-surface-below-ring    0\n",
              "stalk-color-above-ring      0\n",
              "stalk-color-below-ring      0\n",
              "veil-type                   0\n",
              "veil-color                  0\n",
              "ring-number                 0\n",
              "ring-type                   0\n",
              "spore-print-color           0\n",
              "population                  0\n",
              "habitat                     0\n",
              "dtype: int64"
            ]
          },
          "metadata": {},
          "execution_count": 11
        }
      ]
    },
    {
      "cell_type": "markdown",
      "source": [
        "# ***Data cleaning***"
      ],
      "metadata": {
        "id": "U2COO--7VKLi"
      }
    },
    {
      "cell_type": "code",
      "source": [
        "df"
      ],
      "metadata": {
        "colab": {
          "base_uri": "https://localhost:8080/",
          "height": 540
        },
        "id": "y6kdsqshWEK3",
        "outputId": "865d9cf6-7b96-48c1-bd77-783cb9e1990c"
      },
      "execution_count": 12,
      "outputs": [
        {
          "output_type": "execute_result",
          "data": {
            "text/plain": [
              "     class cap-shape cap-surface cap-color bruises odor gill-attachment  \\\n",
              "0        p         x           s         n       t    p               f   \n",
              "1        e         x           s         y       t    a               f   \n",
              "2        e         b           s         w       t    l               f   \n",
              "3        p         x           y         w       t    p               f   \n",
              "4        e         x           s         g       f    n               f   \n",
              "...    ...       ...         ...       ...     ...  ...             ...   \n",
              "8119     e         k           s         n       f    n               a   \n",
              "8120     e         x           s         n       f    n               a   \n",
              "8121     e         f           s         n       f    n               a   \n",
              "8122     p         k           y         n       f    y               f   \n",
              "8123     e         x           s         n       f    n               a   \n",
              "\n",
              "     gill-spacing gill-size gill-color  ... stalk-surface-below-ring  \\\n",
              "0               c         n          k  ...                        s   \n",
              "1               c         b          k  ...                        s   \n",
              "2               c         b          n  ...                        s   \n",
              "3               c         n          n  ...                        s   \n",
              "4               w         b          k  ...                        s   \n",
              "...           ...       ...        ...  ...                      ...   \n",
              "8119            c         b          y  ...                        s   \n",
              "8120            c         b          y  ...                        s   \n",
              "8121            c         b          n  ...                        s   \n",
              "8122            c         n          b  ...                        k   \n",
              "8123            c         b          y  ...                        s   \n",
              "\n",
              "     stalk-color-above-ring stalk-color-below-ring veil-type veil-color  \\\n",
              "0                         w                      w         p          w   \n",
              "1                         w                      w         p          w   \n",
              "2                         w                      w         p          w   \n",
              "3                         w                      w         p          w   \n",
              "4                         w                      w         p          w   \n",
              "...                     ...                    ...       ...        ...   \n",
              "8119                      o                      o         p          o   \n",
              "8120                      o                      o         p          n   \n",
              "8121                      o                      o         p          o   \n",
              "8122                      w                      w         p          w   \n",
              "8123                      o                      o         p          o   \n",
              "\n",
              "     ring-number ring-type spore-print-color population habitat  \n",
              "0              o         p                 k          s       u  \n",
              "1              o         p                 n          n       g  \n",
              "2              o         p                 n          n       m  \n",
              "3              o         p                 k          s       u  \n",
              "4              o         e                 n          a       g  \n",
              "...          ...       ...               ...        ...     ...  \n",
              "8119           o         p                 b          c       l  \n",
              "8120           o         p                 b          v       l  \n",
              "8121           o         p                 b          c       l  \n",
              "8122           o         e                 w          v       l  \n",
              "8123           o         p                 o          c       l  \n",
              "\n",
              "[8124 rows x 23 columns]"
            ],
            "text/html": [
              "\n",
              "  <div id=\"df-568406ff-afe7-44c1-80d0-2939bfc7289a\">\n",
              "    <div class=\"colab-df-container\">\n",
              "      <div>\n",
              "<style scoped>\n",
              "    .dataframe tbody tr th:only-of-type {\n",
              "        vertical-align: middle;\n",
              "    }\n",
              "\n",
              "    .dataframe tbody tr th {\n",
              "        vertical-align: top;\n",
              "    }\n",
              "\n",
              "    .dataframe thead th {\n",
              "        text-align: right;\n",
              "    }\n",
              "</style>\n",
              "<table border=\"1\" class=\"dataframe\">\n",
              "  <thead>\n",
              "    <tr style=\"text-align: right;\">\n",
              "      <th></th>\n",
              "      <th>class</th>\n",
              "      <th>cap-shape</th>\n",
              "      <th>cap-surface</th>\n",
              "      <th>cap-color</th>\n",
              "      <th>bruises</th>\n",
              "      <th>odor</th>\n",
              "      <th>gill-attachment</th>\n",
              "      <th>gill-spacing</th>\n",
              "      <th>gill-size</th>\n",
              "      <th>gill-color</th>\n",
              "      <th>...</th>\n",
              "      <th>stalk-surface-below-ring</th>\n",
              "      <th>stalk-color-above-ring</th>\n",
              "      <th>stalk-color-below-ring</th>\n",
              "      <th>veil-type</th>\n",
              "      <th>veil-color</th>\n",
              "      <th>ring-number</th>\n",
              "      <th>ring-type</th>\n",
              "      <th>spore-print-color</th>\n",
              "      <th>population</th>\n",
              "      <th>habitat</th>\n",
              "    </tr>\n",
              "  </thead>\n",
              "  <tbody>\n",
              "    <tr>\n",
              "      <th>0</th>\n",
              "      <td>p</td>\n",
              "      <td>x</td>\n",
              "      <td>s</td>\n",
              "      <td>n</td>\n",
              "      <td>t</td>\n",
              "      <td>p</td>\n",
              "      <td>f</td>\n",
              "      <td>c</td>\n",
              "      <td>n</td>\n",
              "      <td>k</td>\n",
              "      <td>...</td>\n",
              "      <td>s</td>\n",
              "      <td>w</td>\n",
              "      <td>w</td>\n",
              "      <td>p</td>\n",
              "      <td>w</td>\n",
              "      <td>o</td>\n",
              "      <td>p</td>\n",
              "      <td>k</td>\n",
              "      <td>s</td>\n",
              "      <td>u</td>\n",
              "    </tr>\n",
              "    <tr>\n",
              "      <th>1</th>\n",
              "      <td>e</td>\n",
              "      <td>x</td>\n",
              "      <td>s</td>\n",
              "      <td>y</td>\n",
              "      <td>t</td>\n",
              "      <td>a</td>\n",
              "      <td>f</td>\n",
              "      <td>c</td>\n",
              "      <td>b</td>\n",
              "      <td>k</td>\n",
              "      <td>...</td>\n",
              "      <td>s</td>\n",
              "      <td>w</td>\n",
              "      <td>w</td>\n",
              "      <td>p</td>\n",
              "      <td>w</td>\n",
              "      <td>o</td>\n",
              "      <td>p</td>\n",
              "      <td>n</td>\n",
              "      <td>n</td>\n",
              "      <td>g</td>\n",
              "    </tr>\n",
              "    <tr>\n",
              "      <th>2</th>\n",
              "      <td>e</td>\n",
              "      <td>b</td>\n",
              "      <td>s</td>\n",
              "      <td>w</td>\n",
              "      <td>t</td>\n",
              "      <td>l</td>\n",
              "      <td>f</td>\n",
              "      <td>c</td>\n",
              "      <td>b</td>\n",
              "      <td>n</td>\n",
              "      <td>...</td>\n",
              "      <td>s</td>\n",
              "      <td>w</td>\n",
              "      <td>w</td>\n",
              "      <td>p</td>\n",
              "      <td>w</td>\n",
              "      <td>o</td>\n",
              "      <td>p</td>\n",
              "      <td>n</td>\n",
              "      <td>n</td>\n",
              "      <td>m</td>\n",
              "    </tr>\n",
              "    <tr>\n",
              "      <th>3</th>\n",
              "      <td>p</td>\n",
              "      <td>x</td>\n",
              "      <td>y</td>\n",
              "      <td>w</td>\n",
              "      <td>t</td>\n",
              "      <td>p</td>\n",
              "      <td>f</td>\n",
              "      <td>c</td>\n",
              "      <td>n</td>\n",
              "      <td>n</td>\n",
              "      <td>...</td>\n",
              "      <td>s</td>\n",
              "      <td>w</td>\n",
              "      <td>w</td>\n",
              "      <td>p</td>\n",
              "      <td>w</td>\n",
              "      <td>o</td>\n",
              "      <td>p</td>\n",
              "      <td>k</td>\n",
              "      <td>s</td>\n",
              "      <td>u</td>\n",
              "    </tr>\n",
              "    <tr>\n",
              "      <th>4</th>\n",
              "      <td>e</td>\n",
              "      <td>x</td>\n",
              "      <td>s</td>\n",
              "      <td>g</td>\n",
              "      <td>f</td>\n",
              "      <td>n</td>\n",
              "      <td>f</td>\n",
              "      <td>w</td>\n",
              "      <td>b</td>\n",
              "      <td>k</td>\n",
              "      <td>...</td>\n",
              "      <td>s</td>\n",
              "      <td>w</td>\n",
              "      <td>w</td>\n",
              "      <td>p</td>\n",
              "      <td>w</td>\n",
              "      <td>o</td>\n",
              "      <td>e</td>\n",
              "      <td>n</td>\n",
              "      <td>a</td>\n",
              "      <td>g</td>\n",
              "    </tr>\n",
              "    <tr>\n",
              "      <th>...</th>\n",
              "      <td>...</td>\n",
              "      <td>...</td>\n",
              "      <td>...</td>\n",
              "      <td>...</td>\n",
              "      <td>...</td>\n",
              "      <td>...</td>\n",
              "      <td>...</td>\n",
              "      <td>...</td>\n",
              "      <td>...</td>\n",
              "      <td>...</td>\n",
              "      <td>...</td>\n",
              "      <td>...</td>\n",
              "      <td>...</td>\n",
              "      <td>...</td>\n",
              "      <td>...</td>\n",
              "      <td>...</td>\n",
              "      <td>...</td>\n",
              "      <td>...</td>\n",
              "      <td>...</td>\n",
              "      <td>...</td>\n",
              "      <td>...</td>\n",
              "    </tr>\n",
              "    <tr>\n",
              "      <th>8119</th>\n",
              "      <td>e</td>\n",
              "      <td>k</td>\n",
              "      <td>s</td>\n",
              "      <td>n</td>\n",
              "      <td>f</td>\n",
              "      <td>n</td>\n",
              "      <td>a</td>\n",
              "      <td>c</td>\n",
              "      <td>b</td>\n",
              "      <td>y</td>\n",
              "      <td>...</td>\n",
              "      <td>s</td>\n",
              "      <td>o</td>\n",
              "      <td>o</td>\n",
              "      <td>p</td>\n",
              "      <td>o</td>\n",
              "      <td>o</td>\n",
              "      <td>p</td>\n",
              "      <td>b</td>\n",
              "      <td>c</td>\n",
              "      <td>l</td>\n",
              "    </tr>\n",
              "    <tr>\n",
              "      <th>8120</th>\n",
              "      <td>e</td>\n",
              "      <td>x</td>\n",
              "      <td>s</td>\n",
              "      <td>n</td>\n",
              "      <td>f</td>\n",
              "      <td>n</td>\n",
              "      <td>a</td>\n",
              "      <td>c</td>\n",
              "      <td>b</td>\n",
              "      <td>y</td>\n",
              "      <td>...</td>\n",
              "      <td>s</td>\n",
              "      <td>o</td>\n",
              "      <td>o</td>\n",
              "      <td>p</td>\n",
              "      <td>n</td>\n",
              "      <td>o</td>\n",
              "      <td>p</td>\n",
              "      <td>b</td>\n",
              "      <td>v</td>\n",
              "      <td>l</td>\n",
              "    </tr>\n",
              "    <tr>\n",
              "      <th>8121</th>\n",
              "      <td>e</td>\n",
              "      <td>f</td>\n",
              "      <td>s</td>\n",
              "      <td>n</td>\n",
              "      <td>f</td>\n",
              "      <td>n</td>\n",
              "      <td>a</td>\n",
              "      <td>c</td>\n",
              "      <td>b</td>\n",
              "      <td>n</td>\n",
              "      <td>...</td>\n",
              "      <td>s</td>\n",
              "      <td>o</td>\n",
              "      <td>o</td>\n",
              "      <td>p</td>\n",
              "      <td>o</td>\n",
              "      <td>o</td>\n",
              "      <td>p</td>\n",
              "      <td>b</td>\n",
              "      <td>c</td>\n",
              "      <td>l</td>\n",
              "    </tr>\n",
              "    <tr>\n",
              "      <th>8122</th>\n",
              "      <td>p</td>\n",
              "      <td>k</td>\n",
              "      <td>y</td>\n",
              "      <td>n</td>\n",
              "      <td>f</td>\n",
              "      <td>y</td>\n",
              "      <td>f</td>\n",
              "      <td>c</td>\n",
              "      <td>n</td>\n",
              "      <td>b</td>\n",
              "      <td>...</td>\n",
              "      <td>k</td>\n",
              "      <td>w</td>\n",
              "      <td>w</td>\n",
              "      <td>p</td>\n",
              "      <td>w</td>\n",
              "      <td>o</td>\n",
              "      <td>e</td>\n",
              "      <td>w</td>\n",
              "      <td>v</td>\n",
              "      <td>l</td>\n",
              "    </tr>\n",
              "    <tr>\n",
              "      <th>8123</th>\n",
              "      <td>e</td>\n",
              "      <td>x</td>\n",
              "      <td>s</td>\n",
              "      <td>n</td>\n",
              "      <td>f</td>\n",
              "      <td>n</td>\n",
              "      <td>a</td>\n",
              "      <td>c</td>\n",
              "      <td>b</td>\n",
              "      <td>y</td>\n",
              "      <td>...</td>\n",
              "      <td>s</td>\n",
              "      <td>o</td>\n",
              "      <td>o</td>\n",
              "      <td>p</td>\n",
              "      <td>o</td>\n",
              "      <td>o</td>\n",
              "      <td>p</td>\n",
              "      <td>o</td>\n",
              "      <td>c</td>\n",
              "      <td>l</td>\n",
              "    </tr>\n",
              "  </tbody>\n",
              "</table>\n",
              "<p>8124 rows × 23 columns</p>\n",
              "</div>\n",
              "      <button class=\"colab-df-convert\" onclick=\"convertToInteractive('df-568406ff-afe7-44c1-80d0-2939bfc7289a')\"\n",
              "              title=\"Convert this dataframe to an interactive table.\"\n",
              "              style=\"display:none;\">\n",
              "        \n",
              "  <svg xmlns=\"http://www.w3.org/2000/svg\" height=\"24px\"viewBox=\"0 0 24 24\"\n",
              "       width=\"24px\">\n",
              "    <path d=\"M0 0h24v24H0V0z\" fill=\"none\"/>\n",
              "    <path d=\"M18.56 5.44l.94 2.06.94-2.06 2.06-.94-2.06-.94-.94-2.06-.94 2.06-2.06.94zm-11 1L8.5 8.5l.94-2.06 2.06-.94-2.06-.94L8.5 2.5l-.94 2.06-2.06.94zm10 10l.94 2.06.94-2.06 2.06-.94-2.06-.94-.94-2.06-.94 2.06-2.06.94z\"/><path d=\"M17.41 7.96l-1.37-1.37c-.4-.4-.92-.59-1.43-.59-.52 0-1.04.2-1.43.59L10.3 9.45l-7.72 7.72c-.78.78-.78 2.05 0 2.83L4 21.41c.39.39.9.59 1.41.59.51 0 1.02-.2 1.41-.59l7.78-7.78 2.81-2.81c.8-.78.8-2.07 0-2.86zM5.41 20L4 18.59l7.72-7.72 1.47 1.35L5.41 20z\"/>\n",
              "  </svg>\n",
              "      </button>\n",
              "      \n",
              "  <style>\n",
              "    .colab-df-container {\n",
              "      display:flex;\n",
              "      flex-wrap:wrap;\n",
              "      gap: 12px;\n",
              "    }\n",
              "\n",
              "    .colab-df-convert {\n",
              "      background-color: #E8F0FE;\n",
              "      border: none;\n",
              "      border-radius: 50%;\n",
              "      cursor: pointer;\n",
              "      display: none;\n",
              "      fill: #1967D2;\n",
              "      height: 32px;\n",
              "      padding: 0 0 0 0;\n",
              "      width: 32px;\n",
              "    }\n",
              "\n",
              "    .colab-df-convert:hover {\n",
              "      background-color: #E2EBFA;\n",
              "      box-shadow: 0px 1px 2px rgba(60, 64, 67, 0.3), 0px 1px 3px 1px rgba(60, 64, 67, 0.15);\n",
              "      fill: #174EA6;\n",
              "    }\n",
              "\n",
              "    [theme=dark] .colab-df-convert {\n",
              "      background-color: #3B4455;\n",
              "      fill: #D2E3FC;\n",
              "    }\n",
              "\n",
              "    [theme=dark] .colab-df-convert:hover {\n",
              "      background-color: #434B5C;\n",
              "      box-shadow: 0px 1px 3px 1px rgba(0, 0, 0, 0.15);\n",
              "      filter: drop-shadow(0px 1px 2px rgba(0, 0, 0, 0.3));\n",
              "      fill: #FFFFFF;\n",
              "    }\n",
              "  </style>\n",
              "\n",
              "      <script>\n",
              "        const buttonEl =\n",
              "          document.querySelector('#df-568406ff-afe7-44c1-80d0-2939bfc7289a button.colab-df-convert');\n",
              "        buttonEl.style.display =\n",
              "          google.colab.kernel.accessAllowed ? 'block' : 'none';\n",
              "\n",
              "        async function convertToInteractive(key) {\n",
              "          const element = document.querySelector('#df-568406ff-afe7-44c1-80d0-2939bfc7289a');\n",
              "          const dataTable =\n",
              "            await google.colab.kernel.invokeFunction('convertToInteractive',\n",
              "                                                     [key], {});\n",
              "          if (!dataTable) return;\n",
              "\n",
              "          const docLinkHtml = 'Like what you see? Visit the ' +\n",
              "            '<a target=\"_blank\" href=https://colab.research.google.com/notebooks/data_table.ipynb>data table notebook</a>'\n",
              "            + ' to learn more about interactive tables.';\n",
              "          element.innerHTML = '';\n",
              "          dataTable['output_type'] = 'display_data';\n",
              "          await google.colab.output.renderOutput(dataTable, element);\n",
              "          const docLink = document.createElement('div');\n",
              "          docLink.innerHTML = docLinkHtml;\n",
              "          element.appendChild(docLink);\n",
              "        }\n",
              "      </script>\n",
              "    </div>\n",
              "  </div>\n",
              "  "
            ]
          },
          "metadata": {},
          "execution_count": 12
        }
      ]
    },
    {
      "cell_type": "code",
      "source": [
        "df['class'].unique() #edible=e, poisonous=p"
      ],
      "metadata": {
        "colab": {
          "base_uri": "https://localhost:8080/"
        },
        "id": "wa8SxvPGFW9_",
        "outputId": "35a4b8a5-460f-4a38-b8ed-9249a3722237"
      },
      "execution_count": 13,
      "outputs": [
        {
          "output_type": "execute_result",
          "data": {
            "text/plain": [
              "array(['p', 'e'], dtype=object)"
            ]
          },
          "metadata": {},
          "execution_count": 13
        }
      ]
    },
    {
      "cell_type": "code",
      "source": [
        "df['class'] = df['class'].map(lambda x : 'Edible' if x =='e' else 'Poisonous')\n"
      ],
      "metadata": {
        "id": "bVhmssuIJeYO"
      },
      "execution_count": 14,
      "outputs": []
    },
    {
      "cell_type": "code",
      "source": [
        "df.head(2)"
      ],
      "metadata": {
        "colab": {
          "base_uri": "https://localhost:8080/",
          "height": 258
        },
        "id": "IIchgpUGOVV1",
        "outputId": "76bdbbb6-f533-4ed6-cf4f-31c020f1139e"
      },
      "execution_count": 15,
      "outputs": [
        {
          "output_type": "execute_result",
          "data": {
            "text/plain": [
              "       class cap-shape cap-surface cap-color bruises odor gill-attachment  \\\n",
              "0  Poisonous         x           s         n       t    p               f   \n",
              "1     Edible         x           s         y       t    a               f   \n",
              "\n",
              "  gill-spacing gill-size gill-color  ... stalk-surface-below-ring  \\\n",
              "0            c         n          k  ...                        s   \n",
              "1            c         b          k  ...                        s   \n",
              "\n",
              "  stalk-color-above-ring stalk-color-below-ring veil-type veil-color  \\\n",
              "0                      w                      w         p          w   \n",
              "1                      w                      w         p          w   \n",
              "\n",
              "  ring-number ring-type spore-print-color population habitat  \n",
              "0           o         p                 k          s       u  \n",
              "1           o         p                 n          n       g  \n",
              "\n",
              "[2 rows x 23 columns]"
            ],
            "text/html": [
              "\n",
              "  <div id=\"df-0d160eac-7b7c-4c4a-b913-732113597529\">\n",
              "    <div class=\"colab-df-container\">\n",
              "      <div>\n",
              "<style scoped>\n",
              "    .dataframe tbody tr th:only-of-type {\n",
              "        vertical-align: middle;\n",
              "    }\n",
              "\n",
              "    .dataframe tbody tr th {\n",
              "        vertical-align: top;\n",
              "    }\n",
              "\n",
              "    .dataframe thead th {\n",
              "        text-align: right;\n",
              "    }\n",
              "</style>\n",
              "<table border=\"1\" class=\"dataframe\">\n",
              "  <thead>\n",
              "    <tr style=\"text-align: right;\">\n",
              "      <th></th>\n",
              "      <th>class</th>\n",
              "      <th>cap-shape</th>\n",
              "      <th>cap-surface</th>\n",
              "      <th>cap-color</th>\n",
              "      <th>bruises</th>\n",
              "      <th>odor</th>\n",
              "      <th>gill-attachment</th>\n",
              "      <th>gill-spacing</th>\n",
              "      <th>gill-size</th>\n",
              "      <th>gill-color</th>\n",
              "      <th>...</th>\n",
              "      <th>stalk-surface-below-ring</th>\n",
              "      <th>stalk-color-above-ring</th>\n",
              "      <th>stalk-color-below-ring</th>\n",
              "      <th>veil-type</th>\n",
              "      <th>veil-color</th>\n",
              "      <th>ring-number</th>\n",
              "      <th>ring-type</th>\n",
              "      <th>spore-print-color</th>\n",
              "      <th>population</th>\n",
              "      <th>habitat</th>\n",
              "    </tr>\n",
              "  </thead>\n",
              "  <tbody>\n",
              "    <tr>\n",
              "      <th>0</th>\n",
              "      <td>Poisonous</td>\n",
              "      <td>x</td>\n",
              "      <td>s</td>\n",
              "      <td>n</td>\n",
              "      <td>t</td>\n",
              "      <td>p</td>\n",
              "      <td>f</td>\n",
              "      <td>c</td>\n",
              "      <td>n</td>\n",
              "      <td>k</td>\n",
              "      <td>...</td>\n",
              "      <td>s</td>\n",
              "      <td>w</td>\n",
              "      <td>w</td>\n",
              "      <td>p</td>\n",
              "      <td>w</td>\n",
              "      <td>o</td>\n",
              "      <td>p</td>\n",
              "      <td>k</td>\n",
              "      <td>s</td>\n",
              "      <td>u</td>\n",
              "    </tr>\n",
              "    <tr>\n",
              "      <th>1</th>\n",
              "      <td>Edible</td>\n",
              "      <td>x</td>\n",
              "      <td>s</td>\n",
              "      <td>y</td>\n",
              "      <td>t</td>\n",
              "      <td>a</td>\n",
              "      <td>f</td>\n",
              "      <td>c</td>\n",
              "      <td>b</td>\n",
              "      <td>k</td>\n",
              "      <td>...</td>\n",
              "      <td>s</td>\n",
              "      <td>w</td>\n",
              "      <td>w</td>\n",
              "      <td>p</td>\n",
              "      <td>w</td>\n",
              "      <td>o</td>\n",
              "      <td>p</td>\n",
              "      <td>n</td>\n",
              "      <td>n</td>\n",
              "      <td>g</td>\n",
              "    </tr>\n",
              "  </tbody>\n",
              "</table>\n",
              "<p>2 rows × 23 columns</p>\n",
              "</div>\n",
              "      <button class=\"colab-df-convert\" onclick=\"convertToInteractive('df-0d160eac-7b7c-4c4a-b913-732113597529')\"\n",
              "              title=\"Convert this dataframe to an interactive table.\"\n",
              "              style=\"display:none;\">\n",
              "        \n",
              "  <svg xmlns=\"http://www.w3.org/2000/svg\" height=\"24px\"viewBox=\"0 0 24 24\"\n",
              "       width=\"24px\">\n",
              "    <path d=\"M0 0h24v24H0V0z\" fill=\"none\"/>\n",
              "    <path d=\"M18.56 5.44l.94 2.06.94-2.06 2.06-.94-2.06-.94-.94-2.06-.94 2.06-2.06.94zm-11 1L8.5 8.5l.94-2.06 2.06-.94-2.06-.94L8.5 2.5l-.94 2.06-2.06.94zm10 10l.94 2.06.94-2.06 2.06-.94-2.06-.94-.94-2.06-.94 2.06-2.06.94z\"/><path d=\"M17.41 7.96l-1.37-1.37c-.4-.4-.92-.59-1.43-.59-.52 0-1.04.2-1.43.59L10.3 9.45l-7.72 7.72c-.78.78-.78 2.05 0 2.83L4 21.41c.39.39.9.59 1.41.59.51 0 1.02-.2 1.41-.59l7.78-7.78 2.81-2.81c.8-.78.8-2.07 0-2.86zM5.41 20L4 18.59l7.72-7.72 1.47 1.35L5.41 20z\"/>\n",
              "  </svg>\n",
              "      </button>\n",
              "      \n",
              "  <style>\n",
              "    .colab-df-container {\n",
              "      display:flex;\n",
              "      flex-wrap:wrap;\n",
              "      gap: 12px;\n",
              "    }\n",
              "\n",
              "    .colab-df-convert {\n",
              "      background-color: #E8F0FE;\n",
              "      border: none;\n",
              "      border-radius: 50%;\n",
              "      cursor: pointer;\n",
              "      display: none;\n",
              "      fill: #1967D2;\n",
              "      height: 32px;\n",
              "      padding: 0 0 0 0;\n",
              "      width: 32px;\n",
              "    }\n",
              "\n",
              "    .colab-df-convert:hover {\n",
              "      background-color: #E2EBFA;\n",
              "      box-shadow: 0px 1px 2px rgba(60, 64, 67, 0.3), 0px 1px 3px 1px rgba(60, 64, 67, 0.15);\n",
              "      fill: #174EA6;\n",
              "    }\n",
              "\n",
              "    [theme=dark] .colab-df-convert {\n",
              "      background-color: #3B4455;\n",
              "      fill: #D2E3FC;\n",
              "    }\n",
              "\n",
              "    [theme=dark] .colab-df-convert:hover {\n",
              "      background-color: #434B5C;\n",
              "      box-shadow: 0px 1px 3px 1px rgba(0, 0, 0, 0.15);\n",
              "      filter: drop-shadow(0px 1px 2px rgba(0, 0, 0, 0.3));\n",
              "      fill: #FFFFFF;\n",
              "    }\n",
              "  </style>\n",
              "\n",
              "      <script>\n",
              "        const buttonEl =\n",
              "          document.querySelector('#df-0d160eac-7b7c-4c4a-b913-732113597529 button.colab-df-convert');\n",
              "        buttonEl.style.display =\n",
              "          google.colab.kernel.accessAllowed ? 'block' : 'none';\n",
              "\n",
              "        async function convertToInteractive(key) {\n",
              "          const element = document.querySelector('#df-0d160eac-7b7c-4c4a-b913-732113597529');\n",
              "          const dataTable =\n",
              "            await google.colab.kernel.invokeFunction('convertToInteractive',\n",
              "                                                     [key], {});\n",
              "          if (!dataTable) return;\n",
              "\n",
              "          const docLinkHtml = 'Like what you see? Visit the ' +\n",
              "            '<a target=\"_blank\" href=https://colab.research.google.com/notebooks/data_table.ipynb>data table notebook</a>'\n",
              "            + ' to learn more about interactive tables.';\n",
              "          element.innerHTML = '';\n",
              "          dataTable['output_type'] = 'display_data';\n",
              "          await google.colab.output.renderOutput(dataTable, element);\n",
              "          const docLink = document.createElement('div');\n",
              "          docLink.innerHTML = docLinkHtml;\n",
              "          element.appendChild(docLink);\n",
              "        }\n",
              "      </script>\n",
              "    </div>\n",
              "  </div>\n",
              "  "
            ]
          },
          "metadata": {},
          "execution_count": 15
        }
      ]
    },
    {
      "cell_type": "code",
      "source": [
        "df['class'].value_counts() # Print the frequency of specific value in a particular column "
      ],
      "metadata": {
        "colab": {
          "base_uri": "https://localhost:8080/"
        },
        "id": "M6nkv2PqFMot",
        "outputId": "d56c7e65-36d4-4ef4-92be-ceca68caa0ff"
      },
      "execution_count": 16,
      "outputs": [
        {
          "output_type": "execute_result",
          "data": {
            "text/plain": [
              "Edible       4208\n",
              "Poisonous    3916\n",
              "Name: class, dtype: int64"
            ]
          },
          "metadata": {},
          "execution_count": 16
        }
      ]
    },
    {
      "cell_type": "code",
      "source": [
        "df['cap-shape'].unique() #bell=b,conical=c,convex=x,flat=f, knobbed=k,sunken=s"
      ],
      "metadata": {
        "id": "9Zo9nN6sFVZO",
        "colab": {
          "base_uri": "https://localhost:8080/"
        },
        "outputId": "61bf5571-f12a-4d58-9900-0591a492c5ca"
      },
      "execution_count": 17,
      "outputs": [
        {
          "output_type": "execute_result",
          "data": {
            "text/plain": [
              "array(['x', 'b', 's', 'f', 'k', 'c'], dtype=object)"
            ]
          },
          "metadata": {},
          "execution_count": 17
        }
      ]
    },
    {
      "cell_type": "code",
      "source": [
        "def change_capshape(cols):\n",
        " \n",
        " if(cols == 'x'):\n",
        "    return 'Convex'\n",
        " elif(cols =='b'):\n",
        "    return 'Bell'\n",
        " elif(cols =='s'):\n",
        "    return 'Sunken'\n",
        " elif(cols =='f'):\n",
        "   return 'Flat'\n",
        " elif(cols =='k'):\n",
        "   return 'Knobbed'\n",
        " elif(cols =='c'):\n",
        "    return 'Conical'   "
      ],
      "metadata": {
        "id": "Gh7vMManSSaX"
      },
      "execution_count": 18,
      "outputs": []
    },
    {
      "cell_type": "code",
      "source": [
        "df['cap-shape'] = df['cap-shape'].map(change_capshape)"
      ],
      "metadata": {
        "id": "IBrUfmfijUpl"
      },
      "execution_count": 19,
      "outputs": []
    },
    {
      "cell_type": "code",
      "source": [
        "change_capshape('c')"
      ],
      "metadata": {
        "colab": {
          "base_uri": "https://localhost:8080/",
          "height": 35
        },
        "id": "FfmPQdCZiSln",
        "outputId": "32fb131d-f5cd-4e3e-e7f8-053a763fcc08"
      },
      "execution_count": 20,
      "outputs": [
        {
          "output_type": "execute_result",
          "data": {
            "text/plain": [
              "'Conical'"
            ],
            "application/vnd.google.colaboratory.intrinsic+json": {
              "type": "string"
            }
          },
          "metadata": {},
          "execution_count": 20
        }
      ]
    },
    {
      "cell_type": "code",
      "source": [
        "df['cap-shape'].value_counts()"
      ],
      "metadata": {
        "colab": {
          "base_uri": "https://localhost:8080/"
        },
        "id": "KA1rXWHRjoA6",
        "outputId": "2c4a024d-8257-4338-da2e-add7ff1e4b71"
      },
      "execution_count": 21,
      "outputs": [
        {
          "output_type": "execute_result",
          "data": {
            "text/plain": [
              "Convex     3656\n",
              "Flat       3152\n",
              "Knobbed     828\n",
              "Bell        452\n",
              "Sunken       32\n",
              "Conical       4\n",
              "Name: cap-shape, dtype: int64"
            ]
          },
          "metadata": {},
          "execution_count": 21
        }
      ]
    },
    {
      "cell_type": "code",
      "source": [
        "df['cap-surface'].unique() #fibrous=f,grooves=g,scaly=y,smooth=s"
      ],
      "metadata": {
        "colab": {
          "base_uri": "https://localhost:8080/"
        },
        "id": "1OvowSi-Il8j",
        "outputId": "13c91dc1-6cce-4c84-ab1d-8110b96b5006"
      },
      "execution_count": 22,
      "outputs": [
        {
          "output_type": "execute_result",
          "data": {
            "text/plain": [
              "array(['s', 'y', 'f', 'g'], dtype=object)"
            ]
          },
          "metadata": {},
          "execution_count": 22
        }
      ]
    },
    {
      "cell_type": "code",
      "source": [
        "df['cap-surface'] = df['cap-surface'].map(lambda x : 'Smooth' if x =='s' else ('Scaly' if x =='y' else 'Fibrous' if x =='f' else 'Grooves'))"
      ],
      "metadata": {
        "id": "sE2gita_mH1S"
      },
      "execution_count": 23,
      "outputs": []
    },
    {
      "cell_type": "code",
      "source": [
        "df['cap-surface'].value_counts() # Print the frequency of specific value in a particular column "
      ],
      "metadata": {
        "colab": {
          "base_uri": "https://localhost:8080/"
        },
        "id": "7R-B31wfI6Y3",
        "outputId": "2972a07b-4309-4d5a-c536-7c9cb135accf"
      },
      "execution_count": 24,
      "outputs": [
        {
          "output_type": "execute_result",
          "data": {
            "text/plain": [
              "Scaly      3244\n",
              "Smooth     2556\n",
              "Fibrous    2320\n",
              "Grooves       4\n",
              "Name: cap-surface, dtype: int64"
            ]
          },
          "metadata": {},
          "execution_count": 24
        }
      ]
    },
    {
      "cell_type": "code",
      "source": [
        "df['cap-color'].unique() # brown=n,buff=b,cinnamon=c,gray=g,green=r,pink=p,purple=u,red=e,white=w,yellow=y"
      ],
      "metadata": {
        "colab": {
          "base_uri": "https://localhost:8080/"
        },
        "id": "-5GQlM0ntlO_",
        "outputId": "b12f9e9c-6c02-49b7-a49e-eaee9087c562"
      },
      "execution_count": 25,
      "outputs": [
        {
          "output_type": "execute_result",
          "data": {
            "text/plain": [
              "array(['n', 'y', 'w', 'g', 'e', 'p', 'b', 'u', 'c', 'r'], dtype=object)"
            ]
          },
          "metadata": {},
          "execution_count": 25
        }
      ]
    },
    {
      "cell_type": "code",
      "source": [
        "df['cap-color'] = df['cap-color'].map(lambda x : 'brown' if x =='n' else ('Yellow' if x =='y' else 'White' if x =='w' else 'Gray' if x =='g'  else 'Red' if x =='e' else \n",
        "                                                                         'Pink' if x =='p' else 'Buff' if x =='b' else 'Purple' if x =='u' else 'cinnamon' if x =='c' else\n",
        "                                                                          'Green'))"
      ],
      "metadata": {
        "id": "bdAw1-Xwx2KN"
      },
      "execution_count": 26,
      "outputs": []
    },
    {
      "cell_type": "code",
      "source": [
        "df['cap-color'].value_counts()"
      ],
      "metadata": {
        "colab": {
          "base_uri": "https://localhost:8080/"
        },
        "id": "alptsR-QzBmX",
        "outputId": "586d6743-6879-4b04-c614-7e8650d28952"
      },
      "execution_count": 27,
      "outputs": [
        {
          "output_type": "execute_result",
          "data": {
            "text/plain": [
              "brown       2284\n",
              "Gray        1840\n",
              "Red         1500\n",
              "Yellow      1072\n",
              "White       1040\n",
              "Buff         168\n",
              "Pink         144\n",
              "cinnamon      44\n",
              "Purple        16\n",
              "Green         16\n",
              "Name: cap-color, dtype: int64"
            ]
          },
          "metadata": {},
          "execution_count": 27
        }
      ]
    },
    {
      "cell_type": "code",
      "source": [
        "df['bruises'].unique() #bruises=t,no=f"
      ],
      "metadata": {
        "colab": {
          "base_uri": "https://localhost:8080/"
        },
        "id": "sobkAeeZ0rxH",
        "outputId": "73db4986-dd55-4419-b04d-31df0dc4b0dd"
      },
      "execution_count": 28,
      "outputs": [
        {
          "output_type": "execute_result",
          "data": {
            "text/plain": [
              "array(['t', 'f'], dtype=object)"
            ]
          },
          "metadata": {},
          "execution_count": 28
        }
      ]
    },
    {
      "cell_type": "code",
      "source": [
        "df['bruises'] = df['bruises'].map(lambda x : 'Bruises' if x =='t' else 'No')"
      ],
      "metadata": {
        "id": "uarbELaL3KWY"
      },
      "execution_count": 29,
      "outputs": []
    },
    {
      "cell_type": "code",
      "source": [
        "df['bruises'].value_counts()"
      ],
      "metadata": {
        "colab": {
          "base_uri": "https://localhost:8080/"
        },
        "id": "bn2qUL-E3izO",
        "outputId": "15dfe4a8-9ee1-4528-83c1-ebb3754a85ab"
      },
      "execution_count": 30,
      "outputs": [
        {
          "output_type": "execute_result",
          "data": {
            "text/plain": [
              "No         4748\n",
              "Bruises    3376\n",
              "Name: bruises, dtype: int64"
            ]
          },
          "metadata": {},
          "execution_count": 30
        }
      ]
    },
    {
      "cell_type": "code",
      "source": [
        "df['odor'].unique() #almond=a,anise=l,creosote=c,fishy=y,foul=f,musty=m,none=n,pungent=p,spicy=s"
      ],
      "metadata": {
        "colab": {
          "base_uri": "https://localhost:8080/"
        },
        "id": "QJEeJP-N3nPK",
        "outputId": "24e39237-32ff-416a-9e30-77d5edebdf42"
      },
      "execution_count": 31,
      "outputs": [
        {
          "output_type": "execute_result",
          "data": {
            "text/plain": [
              "array(['p', 'a', 'l', 'n', 'f', 'c', 'y', 's', 'm'], dtype=object)"
            ]
          },
          "metadata": {},
          "execution_count": 31
        }
      ]
    },
    {
      "cell_type": "code",
      "source": [
        "df.rename(columns=({ 'odor':'odor(flavor)'}), inplace=True) # Rename the column"
      ],
      "metadata": {
        "id": "JIeTICwy4y43"
      },
      "execution_count": 32,
      "outputs": []
    },
    {
      "cell_type": "code",
      "source": [
        "df.columns"
      ],
      "metadata": {
        "colab": {
          "base_uri": "https://localhost:8080/"
        },
        "id": "rizv5Hx46Cf0",
        "outputId": "df8c42b7-d13d-4b8e-b800-416118c2f075"
      },
      "execution_count": 33,
      "outputs": [
        {
          "output_type": "execute_result",
          "data": {
            "text/plain": [
              "Index(['class', 'cap-shape', 'cap-surface', 'cap-color', 'bruises',\n",
              "       'odor(flavor)', 'gill-attachment', 'gill-spacing', 'gill-size',\n",
              "       'gill-color', 'stalk-shape', 'stalk-root', 'stalk-surface-above-ring',\n",
              "       'stalk-surface-below-ring', 'stalk-color-above-ring',\n",
              "       'stalk-color-below-ring', 'veil-type', 'veil-color', 'ring-number',\n",
              "       'ring-type', 'spore-print-color', 'population', 'habitat'],\n",
              "      dtype='object')"
            ]
          },
          "metadata": {},
          "execution_count": 33
        }
      ]
    },
    {
      "cell_type": "code",
      "source": [
        "df['odor(flavor)'] = df['odor(flavor)'].map(lambda x : 'Almond' if x =='a' else ('Anise' if x =='l' else 'Creosote' if x =='c' else 'Flishy' if x =='y' else 'Foul' if x =='f'\n",
        "                                                                                  else 'Musty' if x =='m' else 'Pungent' if x =='p' else 'Spicy' if x =='s' else 'None'))"
      ],
      "metadata": {
        "id": "v8VnSM5j6FS9"
      },
      "execution_count": 34,
      "outputs": []
    },
    {
      "cell_type": "code",
      "source": [
        "df.head()"
      ],
      "metadata": {
        "colab": {
          "base_uri": "https://localhost:8080/",
          "height": 352
        },
        "id": "2tps1MdU70Z5",
        "outputId": "be31fa30-bef8-4477-cab7-2790c64b860f"
      },
      "execution_count": 35,
      "outputs": [
        {
          "output_type": "execute_result",
          "data": {
            "text/plain": [
              "       class cap-shape cap-surface cap-color  bruises odor(flavor)  \\\n",
              "0  Poisonous    Convex      Smooth     brown  Bruises      Pungent   \n",
              "1     Edible    Convex      Smooth    Yellow  Bruises       Almond   \n",
              "2     Edible      Bell      Smooth     White  Bruises        Anise   \n",
              "3  Poisonous    Convex       Scaly     White  Bruises      Pungent   \n",
              "4     Edible    Convex      Smooth      Gray       No         None   \n",
              "\n",
              "  gill-attachment gill-spacing gill-size gill-color  ...  \\\n",
              "0               f            c         n          k  ...   \n",
              "1               f            c         b          k  ...   \n",
              "2               f            c         b          n  ...   \n",
              "3               f            c         n          n  ...   \n",
              "4               f            w         b          k  ...   \n",
              "\n",
              "  stalk-surface-below-ring stalk-color-above-ring stalk-color-below-ring  \\\n",
              "0                        s                      w                      w   \n",
              "1                        s                      w                      w   \n",
              "2                        s                      w                      w   \n",
              "3                        s                      w                      w   \n",
              "4                        s                      w                      w   \n",
              "\n",
              "  veil-type veil-color ring-number ring-type spore-print-color population  \\\n",
              "0         p          w           o         p                 k          s   \n",
              "1         p          w           o         p                 n          n   \n",
              "2         p          w           o         p                 n          n   \n",
              "3         p          w           o         p                 k          s   \n",
              "4         p          w           o         e                 n          a   \n",
              "\n",
              "  habitat  \n",
              "0       u  \n",
              "1       g  \n",
              "2       m  \n",
              "3       u  \n",
              "4       g  \n",
              "\n",
              "[5 rows x 23 columns]"
            ],
            "text/html": [
              "\n",
              "  <div id=\"df-96f2494f-89d2-4924-8607-0e29382d2547\">\n",
              "    <div class=\"colab-df-container\">\n",
              "      <div>\n",
              "<style scoped>\n",
              "    .dataframe tbody tr th:only-of-type {\n",
              "        vertical-align: middle;\n",
              "    }\n",
              "\n",
              "    .dataframe tbody tr th {\n",
              "        vertical-align: top;\n",
              "    }\n",
              "\n",
              "    .dataframe thead th {\n",
              "        text-align: right;\n",
              "    }\n",
              "</style>\n",
              "<table border=\"1\" class=\"dataframe\">\n",
              "  <thead>\n",
              "    <tr style=\"text-align: right;\">\n",
              "      <th></th>\n",
              "      <th>class</th>\n",
              "      <th>cap-shape</th>\n",
              "      <th>cap-surface</th>\n",
              "      <th>cap-color</th>\n",
              "      <th>bruises</th>\n",
              "      <th>odor(flavor)</th>\n",
              "      <th>gill-attachment</th>\n",
              "      <th>gill-spacing</th>\n",
              "      <th>gill-size</th>\n",
              "      <th>gill-color</th>\n",
              "      <th>...</th>\n",
              "      <th>stalk-surface-below-ring</th>\n",
              "      <th>stalk-color-above-ring</th>\n",
              "      <th>stalk-color-below-ring</th>\n",
              "      <th>veil-type</th>\n",
              "      <th>veil-color</th>\n",
              "      <th>ring-number</th>\n",
              "      <th>ring-type</th>\n",
              "      <th>spore-print-color</th>\n",
              "      <th>population</th>\n",
              "      <th>habitat</th>\n",
              "    </tr>\n",
              "  </thead>\n",
              "  <tbody>\n",
              "    <tr>\n",
              "      <th>0</th>\n",
              "      <td>Poisonous</td>\n",
              "      <td>Convex</td>\n",
              "      <td>Smooth</td>\n",
              "      <td>brown</td>\n",
              "      <td>Bruises</td>\n",
              "      <td>Pungent</td>\n",
              "      <td>f</td>\n",
              "      <td>c</td>\n",
              "      <td>n</td>\n",
              "      <td>k</td>\n",
              "      <td>...</td>\n",
              "      <td>s</td>\n",
              "      <td>w</td>\n",
              "      <td>w</td>\n",
              "      <td>p</td>\n",
              "      <td>w</td>\n",
              "      <td>o</td>\n",
              "      <td>p</td>\n",
              "      <td>k</td>\n",
              "      <td>s</td>\n",
              "      <td>u</td>\n",
              "    </tr>\n",
              "    <tr>\n",
              "      <th>1</th>\n",
              "      <td>Edible</td>\n",
              "      <td>Convex</td>\n",
              "      <td>Smooth</td>\n",
              "      <td>Yellow</td>\n",
              "      <td>Bruises</td>\n",
              "      <td>Almond</td>\n",
              "      <td>f</td>\n",
              "      <td>c</td>\n",
              "      <td>b</td>\n",
              "      <td>k</td>\n",
              "      <td>...</td>\n",
              "      <td>s</td>\n",
              "      <td>w</td>\n",
              "      <td>w</td>\n",
              "      <td>p</td>\n",
              "      <td>w</td>\n",
              "      <td>o</td>\n",
              "      <td>p</td>\n",
              "      <td>n</td>\n",
              "      <td>n</td>\n",
              "      <td>g</td>\n",
              "    </tr>\n",
              "    <tr>\n",
              "      <th>2</th>\n",
              "      <td>Edible</td>\n",
              "      <td>Bell</td>\n",
              "      <td>Smooth</td>\n",
              "      <td>White</td>\n",
              "      <td>Bruises</td>\n",
              "      <td>Anise</td>\n",
              "      <td>f</td>\n",
              "      <td>c</td>\n",
              "      <td>b</td>\n",
              "      <td>n</td>\n",
              "      <td>...</td>\n",
              "      <td>s</td>\n",
              "      <td>w</td>\n",
              "      <td>w</td>\n",
              "      <td>p</td>\n",
              "      <td>w</td>\n",
              "      <td>o</td>\n",
              "      <td>p</td>\n",
              "      <td>n</td>\n",
              "      <td>n</td>\n",
              "      <td>m</td>\n",
              "    </tr>\n",
              "    <tr>\n",
              "      <th>3</th>\n",
              "      <td>Poisonous</td>\n",
              "      <td>Convex</td>\n",
              "      <td>Scaly</td>\n",
              "      <td>White</td>\n",
              "      <td>Bruises</td>\n",
              "      <td>Pungent</td>\n",
              "      <td>f</td>\n",
              "      <td>c</td>\n",
              "      <td>n</td>\n",
              "      <td>n</td>\n",
              "      <td>...</td>\n",
              "      <td>s</td>\n",
              "      <td>w</td>\n",
              "      <td>w</td>\n",
              "      <td>p</td>\n",
              "      <td>w</td>\n",
              "      <td>o</td>\n",
              "      <td>p</td>\n",
              "      <td>k</td>\n",
              "      <td>s</td>\n",
              "      <td>u</td>\n",
              "    </tr>\n",
              "    <tr>\n",
              "      <th>4</th>\n",
              "      <td>Edible</td>\n",
              "      <td>Convex</td>\n",
              "      <td>Smooth</td>\n",
              "      <td>Gray</td>\n",
              "      <td>No</td>\n",
              "      <td>None</td>\n",
              "      <td>f</td>\n",
              "      <td>w</td>\n",
              "      <td>b</td>\n",
              "      <td>k</td>\n",
              "      <td>...</td>\n",
              "      <td>s</td>\n",
              "      <td>w</td>\n",
              "      <td>w</td>\n",
              "      <td>p</td>\n",
              "      <td>w</td>\n",
              "      <td>o</td>\n",
              "      <td>e</td>\n",
              "      <td>n</td>\n",
              "      <td>a</td>\n",
              "      <td>g</td>\n",
              "    </tr>\n",
              "  </tbody>\n",
              "</table>\n",
              "<p>5 rows × 23 columns</p>\n",
              "</div>\n",
              "      <button class=\"colab-df-convert\" onclick=\"convertToInteractive('df-96f2494f-89d2-4924-8607-0e29382d2547')\"\n",
              "              title=\"Convert this dataframe to an interactive table.\"\n",
              "              style=\"display:none;\">\n",
              "        \n",
              "  <svg xmlns=\"http://www.w3.org/2000/svg\" height=\"24px\"viewBox=\"0 0 24 24\"\n",
              "       width=\"24px\">\n",
              "    <path d=\"M0 0h24v24H0V0z\" fill=\"none\"/>\n",
              "    <path d=\"M18.56 5.44l.94 2.06.94-2.06 2.06-.94-2.06-.94-.94-2.06-.94 2.06-2.06.94zm-11 1L8.5 8.5l.94-2.06 2.06-.94-2.06-.94L8.5 2.5l-.94 2.06-2.06.94zm10 10l.94 2.06.94-2.06 2.06-.94-2.06-.94-.94-2.06-.94 2.06-2.06.94z\"/><path d=\"M17.41 7.96l-1.37-1.37c-.4-.4-.92-.59-1.43-.59-.52 0-1.04.2-1.43.59L10.3 9.45l-7.72 7.72c-.78.78-.78 2.05 0 2.83L4 21.41c.39.39.9.59 1.41.59.51 0 1.02-.2 1.41-.59l7.78-7.78 2.81-2.81c.8-.78.8-2.07 0-2.86zM5.41 20L4 18.59l7.72-7.72 1.47 1.35L5.41 20z\"/>\n",
              "  </svg>\n",
              "      </button>\n",
              "      \n",
              "  <style>\n",
              "    .colab-df-container {\n",
              "      display:flex;\n",
              "      flex-wrap:wrap;\n",
              "      gap: 12px;\n",
              "    }\n",
              "\n",
              "    .colab-df-convert {\n",
              "      background-color: #E8F0FE;\n",
              "      border: none;\n",
              "      border-radius: 50%;\n",
              "      cursor: pointer;\n",
              "      display: none;\n",
              "      fill: #1967D2;\n",
              "      height: 32px;\n",
              "      padding: 0 0 0 0;\n",
              "      width: 32px;\n",
              "    }\n",
              "\n",
              "    .colab-df-convert:hover {\n",
              "      background-color: #E2EBFA;\n",
              "      box-shadow: 0px 1px 2px rgba(60, 64, 67, 0.3), 0px 1px 3px 1px rgba(60, 64, 67, 0.15);\n",
              "      fill: #174EA6;\n",
              "    }\n",
              "\n",
              "    [theme=dark] .colab-df-convert {\n",
              "      background-color: #3B4455;\n",
              "      fill: #D2E3FC;\n",
              "    }\n",
              "\n",
              "    [theme=dark] .colab-df-convert:hover {\n",
              "      background-color: #434B5C;\n",
              "      box-shadow: 0px 1px 3px 1px rgba(0, 0, 0, 0.15);\n",
              "      filter: drop-shadow(0px 1px 2px rgba(0, 0, 0, 0.3));\n",
              "      fill: #FFFFFF;\n",
              "    }\n",
              "  </style>\n",
              "\n",
              "      <script>\n",
              "        const buttonEl =\n",
              "          document.querySelector('#df-96f2494f-89d2-4924-8607-0e29382d2547 button.colab-df-convert');\n",
              "        buttonEl.style.display =\n",
              "          google.colab.kernel.accessAllowed ? 'block' : 'none';\n",
              "\n",
              "        async function convertToInteractive(key) {\n",
              "          const element = document.querySelector('#df-96f2494f-89d2-4924-8607-0e29382d2547');\n",
              "          const dataTable =\n",
              "            await google.colab.kernel.invokeFunction('convertToInteractive',\n",
              "                                                     [key], {});\n",
              "          if (!dataTable) return;\n",
              "\n",
              "          const docLinkHtml = 'Like what you see? Visit the ' +\n",
              "            '<a target=\"_blank\" href=https://colab.research.google.com/notebooks/data_table.ipynb>data table notebook</a>'\n",
              "            + ' to learn more about interactive tables.';\n",
              "          element.innerHTML = '';\n",
              "          dataTable['output_type'] = 'display_data';\n",
              "          await google.colab.output.renderOutput(dataTable, element);\n",
              "          const docLink = document.createElement('div');\n",
              "          docLink.innerHTML = docLinkHtml;\n",
              "          element.appendChild(docLink);\n",
              "        }\n",
              "      </script>\n",
              "    </div>\n",
              "  </div>\n",
              "  "
            ]
          },
          "metadata": {},
          "execution_count": 35
        }
      ]
    },
    {
      "cell_type": "code",
      "source": [
        "df['gill-attachment'].unique() #attached=a, descending=d, free=f, notched=n"
      ],
      "metadata": {
        "colab": {
          "base_uri": "https://localhost:8080/"
        },
        "id": "3UEhADQH70Oo",
        "outputId": "c9b27d7e-43d6-44eb-e520-2bab2052dc68"
      },
      "execution_count": 36,
      "outputs": [
        {
          "output_type": "execute_result",
          "data": {
            "text/plain": [
              "array(['f', 'a'], dtype=object)"
            ]
          },
          "metadata": {},
          "execution_count": 36
        }
      ]
    },
    {
      "cell_type": "code",
      "source": [
        "df['gill-attachment'] = df['gill-attachment'].map(lambda x : 'Free' if x =='f' else 'Attached')"
      ],
      "metadata": {
        "id": "RBA0L4dx70J0"
      },
      "execution_count": 37,
      "outputs": []
    },
    {
      "cell_type": "code",
      "source": [
        "df.drop('gill-spacing',axis=1,inplace=True)  # drop/delete column"
      ],
      "metadata": {
        "id": "kBhbVokv70Hk"
      },
      "execution_count": 38,
      "outputs": []
    },
    {
      "cell_type": "code",
      "source": [
        "df['gill-size'].unique() #gill-size: broad=b,narrow=n"
      ],
      "metadata": {
        "colab": {
          "base_uri": "https://localhost:8080/"
        },
        "id": "clNt9Sp2-jE-",
        "outputId": "aca424db-9589-4417-963a-7b6e3a9fb135"
      },
      "execution_count": 39,
      "outputs": [
        {
          "output_type": "execute_result",
          "data": {
            "text/plain": [
              "array(['n', 'b'], dtype=object)"
            ]
          },
          "metadata": {},
          "execution_count": 39
        }
      ]
    },
    {
      "cell_type": "code",
      "source": [
        "df['gill-size'] = df['gill-size'].map(lambda x : 'Narrow' if x =='n' else 'Broad')"
      ],
      "metadata": {
        "id": "UMBJyYWK--X5"
      },
      "execution_count": 40,
      "outputs": []
    },
    {
      "cell_type": "code",
      "source": [
        "df.drop('gill-color',axis=1,inplace=True)  # drop/delete column"
      ],
      "metadata": {
        "id": "6c9-wFzc_NjL"
      },
      "execution_count": 41,
      "outputs": []
    },
    {
      "cell_type": "code",
      "source": [
        "df.head()"
      ],
      "metadata": {
        "colab": {
          "base_uri": "https://localhost:8080/",
          "height": 352
        },
        "id": "k9t7Jool_cow",
        "outputId": "e4ccd591-9c94-4fc3-880b-3f1ff7b15fc4"
      },
      "execution_count": 42,
      "outputs": [
        {
          "output_type": "execute_result",
          "data": {
            "text/plain": [
              "       class cap-shape cap-surface cap-color  bruises odor(flavor)  \\\n",
              "0  Poisonous    Convex      Smooth     brown  Bruises      Pungent   \n",
              "1     Edible    Convex      Smooth    Yellow  Bruises       Almond   \n",
              "2     Edible      Bell      Smooth     White  Bruises        Anise   \n",
              "3  Poisonous    Convex       Scaly     White  Bruises      Pungent   \n",
              "4     Edible    Convex      Smooth      Gray       No         None   \n",
              "\n",
              "  gill-attachment gill-size stalk-shape stalk-root  ...  \\\n",
              "0            Free    Narrow           e          e  ...   \n",
              "1            Free     Broad           e          c  ...   \n",
              "2            Free     Broad           e          c  ...   \n",
              "3            Free    Narrow           e          e  ...   \n",
              "4            Free     Broad           t          e  ...   \n",
              "\n",
              "  stalk-surface-below-ring stalk-color-above-ring stalk-color-below-ring  \\\n",
              "0                        s                      w                      w   \n",
              "1                        s                      w                      w   \n",
              "2                        s                      w                      w   \n",
              "3                        s                      w                      w   \n",
              "4                        s                      w                      w   \n",
              "\n",
              "  veil-type veil-color ring-number ring-type spore-print-color population  \\\n",
              "0         p          w           o         p                 k          s   \n",
              "1         p          w           o         p                 n          n   \n",
              "2         p          w           o         p                 n          n   \n",
              "3         p          w           o         p                 k          s   \n",
              "4         p          w           o         e                 n          a   \n",
              "\n",
              "  habitat  \n",
              "0       u  \n",
              "1       g  \n",
              "2       m  \n",
              "3       u  \n",
              "4       g  \n",
              "\n",
              "[5 rows x 21 columns]"
            ],
            "text/html": [
              "\n",
              "  <div id=\"df-024a9a17-b234-4770-8a65-649e67cae228\">\n",
              "    <div class=\"colab-df-container\">\n",
              "      <div>\n",
              "<style scoped>\n",
              "    .dataframe tbody tr th:only-of-type {\n",
              "        vertical-align: middle;\n",
              "    }\n",
              "\n",
              "    .dataframe tbody tr th {\n",
              "        vertical-align: top;\n",
              "    }\n",
              "\n",
              "    .dataframe thead th {\n",
              "        text-align: right;\n",
              "    }\n",
              "</style>\n",
              "<table border=\"1\" class=\"dataframe\">\n",
              "  <thead>\n",
              "    <tr style=\"text-align: right;\">\n",
              "      <th></th>\n",
              "      <th>class</th>\n",
              "      <th>cap-shape</th>\n",
              "      <th>cap-surface</th>\n",
              "      <th>cap-color</th>\n",
              "      <th>bruises</th>\n",
              "      <th>odor(flavor)</th>\n",
              "      <th>gill-attachment</th>\n",
              "      <th>gill-size</th>\n",
              "      <th>stalk-shape</th>\n",
              "      <th>stalk-root</th>\n",
              "      <th>...</th>\n",
              "      <th>stalk-surface-below-ring</th>\n",
              "      <th>stalk-color-above-ring</th>\n",
              "      <th>stalk-color-below-ring</th>\n",
              "      <th>veil-type</th>\n",
              "      <th>veil-color</th>\n",
              "      <th>ring-number</th>\n",
              "      <th>ring-type</th>\n",
              "      <th>spore-print-color</th>\n",
              "      <th>population</th>\n",
              "      <th>habitat</th>\n",
              "    </tr>\n",
              "  </thead>\n",
              "  <tbody>\n",
              "    <tr>\n",
              "      <th>0</th>\n",
              "      <td>Poisonous</td>\n",
              "      <td>Convex</td>\n",
              "      <td>Smooth</td>\n",
              "      <td>brown</td>\n",
              "      <td>Bruises</td>\n",
              "      <td>Pungent</td>\n",
              "      <td>Free</td>\n",
              "      <td>Narrow</td>\n",
              "      <td>e</td>\n",
              "      <td>e</td>\n",
              "      <td>...</td>\n",
              "      <td>s</td>\n",
              "      <td>w</td>\n",
              "      <td>w</td>\n",
              "      <td>p</td>\n",
              "      <td>w</td>\n",
              "      <td>o</td>\n",
              "      <td>p</td>\n",
              "      <td>k</td>\n",
              "      <td>s</td>\n",
              "      <td>u</td>\n",
              "    </tr>\n",
              "    <tr>\n",
              "      <th>1</th>\n",
              "      <td>Edible</td>\n",
              "      <td>Convex</td>\n",
              "      <td>Smooth</td>\n",
              "      <td>Yellow</td>\n",
              "      <td>Bruises</td>\n",
              "      <td>Almond</td>\n",
              "      <td>Free</td>\n",
              "      <td>Broad</td>\n",
              "      <td>e</td>\n",
              "      <td>c</td>\n",
              "      <td>...</td>\n",
              "      <td>s</td>\n",
              "      <td>w</td>\n",
              "      <td>w</td>\n",
              "      <td>p</td>\n",
              "      <td>w</td>\n",
              "      <td>o</td>\n",
              "      <td>p</td>\n",
              "      <td>n</td>\n",
              "      <td>n</td>\n",
              "      <td>g</td>\n",
              "    </tr>\n",
              "    <tr>\n",
              "      <th>2</th>\n",
              "      <td>Edible</td>\n",
              "      <td>Bell</td>\n",
              "      <td>Smooth</td>\n",
              "      <td>White</td>\n",
              "      <td>Bruises</td>\n",
              "      <td>Anise</td>\n",
              "      <td>Free</td>\n",
              "      <td>Broad</td>\n",
              "      <td>e</td>\n",
              "      <td>c</td>\n",
              "      <td>...</td>\n",
              "      <td>s</td>\n",
              "      <td>w</td>\n",
              "      <td>w</td>\n",
              "      <td>p</td>\n",
              "      <td>w</td>\n",
              "      <td>o</td>\n",
              "      <td>p</td>\n",
              "      <td>n</td>\n",
              "      <td>n</td>\n",
              "      <td>m</td>\n",
              "    </tr>\n",
              "    <tr>\n",
              "      <th>3</th>\n",
              "      <td>Poisonous</td>\n",
              "      <td>Convex</td>\n",
              "      <td>Scaly</td>\n",
              "      <td>White</td>\n",
              "      <td>Bruises</td>\n",
              "      <td>Pungent</td>\n",
              "      <td>Free</td>\n",
              "      <td>Narrow</td>\n",
              "      <td>e</td>\n",
              "      <td>e</td>\n",
              "      <td>...</td>\n",
              "      <td>s</td>\n",
              "      <td>w</td>\n",
              "      <td>w</td>\n",
              "      <td>p</td>\n",
              "      <td>w</td>\n",
              "      <td>o</td>\n",
              "      <td>p</td>\n",
              "      <td>k</td>\n",
              "      <td>s</td>\n",
              "      <td>u</td>\n",
              "    </tr>\n",
              "    <tr>\n",
              "      <th>4</th>\n",
              "      <td>Edible</td>\n",
              "      <td>Convex</td>\n",
              "      <td>Smooth</td>\n",
              "      <td>Gray</td>\n",
              "      <td>No</td>\n",
              "      <td>None</td>\n",
              "      <td>Free</td>\n",
              "      <td>Broad</td>\n",
              "      <td>t</td>\n",
              "      <td>e</td>\n",
              "      <td>...</td>\n",
              "      <td>s</td>\n",
              "      <td>w</td>\n",
              "      <td>w</td>\n",
              "      <td>p</td>\n",
              "      <td>w</td>\n",
              "      <td>o</td>\n",
              "      <td>e</td>\n",
              "      <td>n</td>\n",
              "      <td>a</td>\n",
              "      <td>g</td>\n",
              "    </tr>\n",
              "  </tbody>\n",
              "</table>\n",
              "<p>5 rows × 21 columns</p>\n",
              "</div>\n",
              "      <button class=\"colab-df-convert\" onclick=\"convertToInteractive('df-024a9a17-b234-4770-8a65-649e67cae228')\"\n",
              "              title=\"Convert this dataframe to an interactive table.\"\n",
              "              style=\"display:none;\">\n",
              "        \n",
              "  <svg xmlns=\"http://www.w3.org/2000/svg\" height=\"24px\"viewBox=\"0 0 24 24\"\n",
              "       width=\"24px\">\n",
              "    <path d=\"M0 0h24v24H0V0z\" fill=\"none\"/>\n",
              "    <path d=\"M18.56 5.44l.94 2.06.94-2.06 2.06-.94-2.06-.94-.94-2.06-.94 2.06-2.06.94zm-11 1L8.5 8.5l.94-2.06 2.06-.94-2.06-.94L8.5 2.5l-.94 2.06-2.06.94zm10 10l.94 2.06.94-2.06 2.06-.94-2.06-.94-.94-2.06-.94 2.06-2.06.94z\"/><path d=\"M17.41 7.96l-1.37-1.37c-.4-.4-.92-.59-1.43-.59-.52 0-1.04.2-1.43.59L10.3 9.45l-7.72 7.72c-.78.78-.78 2.05 0 2.83L4 21.41c.39.39.9.59 1.41.59.51 0 1.02-.2 1.41-.59l7.78-7.78 2.81-2.81c.8-.78.8-2.07 0-2.86zM5.41 20L4 18.59l7.72-7.72 1.47 1.35L5.41 20z\"/>\n",
              "  </svg>\n",
              "      </button>\n",
              "      \n",
              "  <style>\n",
              "    .colab-df-container {\n",
              "      display:flex;\n",
              "      flex-wrap:wrap;\n",
              "      gap: 12px;\n",
              "    }\n",
              "\n",
              "    .colab-df-convert {\n",
              "      background-color: #E8F0FE;\n",
              "      border: none;\n",
              "      border-radius: 50%;\n",
              "      cursor: pointer;\n",
              "      display: none;\n",
              "      fill: #1967D2;\n",
              "      height: 32px;\n",
              "      padding: 0 0 0 0;\n",
              "      width: 32px;\n",
              "    }\n",
              "\n",
              "    .colab-df-convert:hover {\n",
              "      background-color: #E2EBFA;\n",
              "      box-shadow: 0px 1px 2px rgba(60, 64, 67, 0.3), 0px 1px 3px 1px rgba(60, 64, 67, 0.15);\n",
              "      fill: #174EA6;\n",
              "    }\n",
              "\n",
              "    [theme=dark] .colab-df-convert {\n",
              "      background-color: #3B4455;\n",
              "      fill: #D2E3FC;\n",
              "    }\n",
              "\n",
              "    [theme=dark] .colab-df-convert:hover {\n",
              "      background-color: #434B5C;\n",
              "      box-shadow: 0px 1px 3px 1px rgba(0, 0, 0, 0.15);\n",
              "      filter: drop-shadow(0px 1px 2px rgba(0, 0, 0, 0.3));\n",
              "      fill: #FFFFFF;\n",
              "    }\n",
              "  </style>\n",
              "\n",
              "      <script>\n",
              "        const buttonEl =\n",
              "          document.querySelector('#df-024a9a17-b234-4770-8a65-649e67cae228 button.colab-df-convert');\n",
              "        buttonEl.style.display =\n",
              "          google.colab.kernel.accessAllowed ? 'block' : 'none';\n",
              "\n",
              "        async function convertToInteractive(key) {\n",
              "          const element = document.querySelector('#df-024a9a17-b234-4770-8a65-649e67cae228');\n",
              "          const dataTable =\n",
              "            await google.colab.kernel.invokeFunction('convertToInteractive',\n",
              "                                                     [key], {});\n",
              "          if (!dataTable) return;\n",
              "\n",
              "          const docLinkHtml = 'Like what you see? Visit the ' +\n",
              "            '<a target=\"_blank\" href=https://colab.research.google.com/notebooks/data_table.ipynb>data table notebook</a>'\n",
              "            + ' to learn more about interactive tables.';\n",
              "          element.innerHTML = '';\n",
              "          dataTable['output_type'] = 'display_data';\n",
              "          await google.colab.output.renderOutput(dataTable, element);\n",
              "          const docLink = document.createElement('div');\n",
              "          docLink.innerHTML = docLinkHtml;\n",
              "          element.appendChild(docLink);\n",
              "        }\n",
              "      </script>\n",
              "    </div>\n",
              "  </div>\n",
              "  "
            ]
          },
          "metadata": {},
          "execution_count": 42
        }
      ]
    },
    {
      "cell_type": "code",
      "source": [
        "df.columns"
      ],
      "metadata": {
        "colab": {
          "base_uri": "https://localhost:8080/"
        },
        "id": "q3GQZvXG_ids",
        "outputId": "4597fcbc-ddb1-47f4-ae58-70949631f3ee"
      },
      "execution_count": 43,
      "outputs": [
        {
          "output_type": "execute_result",
          "data": {
            "text/plain": [
              "Index(['class', 'cap-shape', 'cap-surface', 'cap-color', 'bruises',\n",
              "       'odor(flavor)', 'gill-attachment', 'gill-size', 'stalk-shape',\n",
              "       'stalk-root', 'stalk-surface-above-ring', 'stalk-surface-below-ring',\n",
              "       'stalk-color-above-ring', 'stalk-color-below-ring', 'veil-type',\n",
              "       'veil-color', 'ring-number', 'ring-type', 'spore-print-color',\n",
              "       'population', 'habitat'],\n",
              "      dtype='object')"
            ]
          },
          "metadata": {},
          "execution_count": 43
        }
      ]
    },
    {
      "cell_type": "code",
      "source": [
        "df['stalk-shape'].unique() #enlarging=e,tapering=t"
      ],
      "metadata": {
        "colab": {
          "base_uri": "https://localhost:8080/"
        },
        "id": "yuw4p4qy_rSl",
        "outputId": "a331e53e-dcf4-40a7-a3a6-5a6fa59356a7"
      },
      "execution_count": 44,
      "outputs": [
        {
          "output_type": "execute_result",
          "data": {
            "text/plain": [
              "array(['e', 't'], dtype=object)"
            ]
          },
          "metadata": {},
          "execution_count": 44
        }
      ]
    },
    {
      "cell_type": "code",
      "source": [
        "df['stalk-shape'] = df['stalk-shape'].map(lambda x : 'Tapering' if x =='t' else 'Enlarging')"
      ],
      "metadata": {
        "id": "54egVOxCADST"
      },
      "execution_count": 45,
      "outputs": []
    },
    {
      "cell_type": "code",
      "source": [
        "df.head()"
      ],
      "metadata": {
        "id": "jL1Qc22XEmdq",
        "colab": {
          "base_uri": "https://localhost:8080/",
          "height": 352
        },
        "outputId": "d01e1e76-0579-4488-8374-a32d95196cfd"
      },
      "execution_count": 46,
      "outputs": [
        {
          "output_type": "execute_result",
          "data": {
            "text/plain": [
              "       class cap-shape cap-surface cap-color  bruises odor(flavor)  \\\n",
              "0  Poisonous    Convex      Smooth     brown  Bruises      Pungent   \n",
              "1     Edible    Convex      Smooth    Yellow  Bruises       Almond   \n",
              "2     Edible      Bell      Smooth     White  Bruises        Anise   \n",
              "3  Poisonous    Convex       Scaly     White  Bruises      Pungent   \n",
              "4     Edible    Convex      Smooth      Gray       No         None   \n",
              "\n",
              "  gill-attachment gill-size stalk-shape stalk-root  ...  \\\n",
              "0            Free    Narrow   Enlarging          e  ...   \n",
              "1            Free     Broad   Enlarging          c  ...   \n",
              "2            Free     Broad   Enlarging          c  ...   \n",
              "3            Free    Narrow   Enlarging          e  ...   \n",
              "4            Free     Broad    Tapering          e  ...   \n",
              "\n",
              "  stalk-surface-below-ring stalk-color-above-ring stalk-color-below-ring  \\\n",
              "0                        s                      w                      w   \n",
              "1                        s                      w                      w   \n",
              "2                        s                      w                      w   \n",
              "3                        s                      w                      w   \n",
              "4                        s                      w                      w   \n",
              "\n",
              "  veil-type veil-color ring-number ring-type spore-print-color population  \\\n",
              "0         p          w           o         p                 k          s   \n",
              "1         p          w           o         p                 n          n   \n",
              "2         p          w           o         p                 n          n   \n",
              "3         p          w           o         p                 k          s   \n",
              "4         p          w           o         e                 n          a   \n",
              "\n",
              "  habitat  \n",
              "0       u  \n",
              "1       g  \n",
              "2       m  \n",
              "3       u  \n",
              "4       g  \n",
              "\n",
              "[5 rows x 21 columns]"
            ],
            "text/html": [
              "\n",
              "  <div id=\"df-6227186a-c841-4068-831f-fa35214eac66\">\n",
              "    <div class=\"colab-df-container\">\n",
              "      <div>\n",
              "<style scoped>\n",
              "    .dataframe tbody tr th:only-of-type {\n",
              "        vertical-align: middle;\n",
              "    }\n",
              "\n",
              "    .dataframe tbody tr th {\n",
              "        vertical-align: top;\n",
              "    }\n",
              "\n",
              "    .dataframe thead th {\n",
              "        text-align: right;\n",
              "    }\n",
              "</style>\n",
              "<table border=\"1\" class=\"dataframe\">\n",
              "  <thead>\n",
              "    <tr style=\"text-align: right;\">\n",
              "      <th></th>\n",
              "      <th>class</th>\n",
              "      <th>cap-shape</th>\n",
              "      <th>cap-surface</th>\n",
              "      <th>cap-color</th>\n",
              "      <th>bruises</th>\n",
              "      <th>odor(flavor)</th>\n",
              "      <th>gill-attachment</th>\n",
              "      <th>gill-size</th>\n",
              "      <th>stalk-shape</th>\n",
              "      <th>stalk-root</th>\n",
              "      <th>...</th>\n",
              "      <th>stalk-surface-below-ring</th>\n",
              "      <th>stalk-color-above-ring</th>\n",
              "      <th>stalk-color-below-ring</th>\n",
              "      <th>veil-type</th>\n",
              "      <th>veil-color</th>\n",
              "      <th>ring-number</th>\n",
              "      <th>ring-type</th>\n",
              "      <th>spore-print-color</th>\n",
              "      <th>population</th>\n",
              "      <th>habitat</th>\n",
              "    </tr>\n",
              "  </thead>\n",
              "  <tbody>\n",
              "    <tr>\n",
              "      <th>0</th>\n",
              "      <td>Poisonous</td>\n",
              "      <td>Convex</td>\n",
              "      <td>Smooth</td>\n",
              "      <td>brown</td>\n",
              "      <td>Bruises</td>\n",
              "      <td>Pungent</td>\n",
              "      <td>Free</td>\n",
              "      <td>Narrow</td>\n",
              "      <td>Enlarging</td>\n",
              "      <td>e</td>\n",
              "      <td>...</td>\n",
              "      <td>s</td>\n",
              "      <td>w</td>\n",
              "      <td>w</td>\n",
              "      <td>p</td>\n",
              "      <td>w</td>\n",
              "      <td>o</td>\n",
              "      <td>p</td>\n",
              "      <td>k</td>\n",
              "      <td>s</td>\n",
              "      <td>u</td>\n",
              "    </tr>\n",
              "    <tr>\n",
              "      <th>1</th>\n",
              "      <td>Edible</td>\n",
              "      <td>Convex</td>\n",
              "      <td>Smooth</td>\n",
              "      <td>Yellow</td>\n",
              "      <td>Bruises</td>\n",
              "      <td>Almond</td>\n",
              "      <td>Free</td>\n",
              "      <td>Broad</td>\n",
              "      <td>Enlarging</td>\n",
              "      <td>c</td>\n",
              "      <td>...</td>\n",
              "      <td>s</td>\n",
              "      <td>w</td>\n",
              "      <td>w</td>\n",
              "      <td>p</td>\n",
              "      <td>w</td>\n",
              "      <td>o</td>\n",
              "      <td>p</td>\n",
              "      <td>n</td>\n",
              "      <td>n</td>\n",
              "      <td>g</td>\n",
              "    </tr>\n",
              "    <tr>\n",
              "      <th>2</th>\n",
              "      <td>Edible</td>\n",
              "      <td>Bell</td>\n",
              "      <td>Smooth</td>\n",
              "      <td>White</td>\n",
              "      <td>Bruises</td>\n",
              "      <td>Anise</td>\n",
              "      <td>Free</td>\n",
              "      <td>Broad</td>\n",
              "      <td>Enlarging</td>\n",
              "      <td>c</td>\n",
              "      <td>...</td>\n",
              "      <td>s</td>\n",
              "      <td>w</td>\n",
              "      <td>w</td>\n",
              "      <td>p</td>\n",
              "      <td>w</td>\n",
              "      <td>o</td>\n",
              "      <td>p</td>\n",
              "      <td>n</td>\n",
              "      <td>n</td>\n",
              "      <td>m</td>\n",
              "    </tr>\n",
              "    <tr>\n",
              "      <th>3</th>\n",
              "      <td>Poisonous</td>\n",
              "      <td>Convex</td>\n",
              "      <td>Scaly</td>\n",
              "      <td>White</td>\n",
              "      <td>Bruises</td>\n",
              "      <td>Pungent</td>\n",
              "      <td>Free</td>\n",
              "      <td>Narrow</td>\n",
              "      <td>Enlarging</td>\n",
              "      <td>e</td>\n",
              "      <td>...</td>\n",
              "      <td>s</td>\n",
              "      <td>w</td>\n",
              "      <td>w</td>\n",
              "      <td>p</td>\n",
              "      <td>w</td>\n",
              "      <td>o</td>\n",
              "      <td>p</td>\n",
              "      <td>k</td>\n",
              "      <td>s</td>\n",
              "      <td>u</td>\n",
              "    </tr>\n",
              "    <tr>\n",
              "      <th>4</th>\n",
              "      <td>Edible</td>\n",
              "      <td>Convex</td>\n",
              "      <td>Smooth</td>\n",
              "      <td>Gray</td>\n",
              "      <td>No</td>\n",
              "      <td>None</td>\n",
              "      <td>Free</td>\n",
              "      <td>Broad</td>\n",
              "      <td>Tapering</td>\n",
              "      <td>e</td>\n",
              "      <td>...</td>\n",
              "      <td>s</td>\n",
              "      <td>w</td>\n",
              "      <td>w</td>\n",
              "      <td>p</td>\n",
              "      <td>w</td>\n",
              "      <td>o</td>\n",
              "      <td>e</td>\n",
              "      <td>n</td>\n",
              "      <td>a</td>\n",
              "      <td>g</td>\n",
              "    </tr>\n",
              "  </tbody>\n",
              "</table>\n",
              "<p>5 rows × 21 columns</p>\n",
              "</div>\n",
              "      <button class=\"colab-df-convert\" onclick=\"convertToInteractive('df-6227186a-c841-4068-831f-fa35214eac66')\"\n",
              "              title=\"Convert this dataframe to an interactive table.\"\n",
              "              style=\"display:none;\">\n",
              "        \n",
              "  <svg xmlns=\"http://www.w3.org/2000/svg\" height=\"24px\"viewBox=\"0 0 24 24\"\n",
              "       width=\"24px\">\n",
              "    <path d=\"M0 0h24v24H0V0z\" fill=\"none\"/>\n",
              "    <path d=\"M18.56 5.44l.94 2.06.94-2.06 2.06-.94-2.06-.94-.94-2.06-.94 2.06-2.06.94zm-11 1L8.5 8.5l.94-2.06 2.06-.94-2.06-.94L8.5 2.5l-.94 2.06-2.06.94zm10 10l.94 2.06.94-2.06 2.06-.94-2.06-.94-.94-2.06-.94 2.06-2.06.94z\"/><path d=\"M17.41 7.96l-1.37-1.37c-.4-.4-.92-.59-1.43-.59-.52 0-1.04.2-1.43.59L10.3 9.45l-7.72 7.72c-.78.78-.78 2.05 0 2.83L4 21.41c.39.39.9.59 1.41.59.51 0 1.02-.2 1.41-.59l7.78-7.78 2.81-2.81c.8-.78.8-2.07 0-2.86zM5.41 20L4 18.59l7.72-7.72 1.47 1.35L5.41 20z\"/>\n",
              "  </svg>\n",
              "      </button>\n",
              "      \n",
              "  <style>\n",
              "    .colab-df-container {\n",
              "      display:flex;\n",
              "      flex-wrap:wrap;\n",
              "      gap: 12px;\n",
              "    }\n",
              "\n",
              "    .colab-df-convert {\n",
              "      background-color: #E8F0FE;\n",
              "      border: none;\n",
              "      border-radius: 50%;\n",
              "      cursor: pointer;\n",
              "      display: none;\n",
              "      fill: #1967D2;\n",
              "      height: 32px;\n",
              "      padding: 0 0 0 0;\n",
              "      width: 32px;\n",
              "    }\n",
              "\n",
              "    .colab-df-convert:hover {\n",
              "      background-color: #E2EBFA;\n",
              "      box-shadow: 0px 1px 2px rgba(60, 64, 67, 0.3), 0px 1px 3px 1px rgba(60, 64, 67, 0.15);\n",
              "      fill: #174EA6;\n",
              "    }\n",
              "\n",
              "    [theme=dark] .colab-df-convert {\n",
              "      background-color: #3B4455;\n",
              "      fill: #D2E3FC;\n",
              "    }\n",
              "\n",
              "    [theme=dark] .colab-df-convert:hover {\n",
              "      background-color: #434B5C;\n",
              "      box-shadow: 0px 1px 3px 1px rgba(0, 0, 0, 0.15);\n",
              "      filter: drop-shadow(0px 1px 2px rgba(0, 0, 0, 0.3));\n",
              "      fill: #FFFFFF;\n",
              "    }\n",
              "  </style>\n",
              "\n",
              "      <script>\n",
              "        const buttonEl =\n",
              "          document.querySelector('#df-6227186a-c841-4068-831f-fa35214eac66 button.colab-df-convert');\n",
              "        buttonEl.style.display =\n",
              "          google.colab.kernel.accessAllowed ? 'block' : 'none';\n",
              "\n",
              "        async function convertToInteractive(key) {\n",
              "          const element = document.querySelector('#df-6227186a-c841-4068-831f-fa35214eac66');\n",
              "          const dataTable =\n",
              "            await google.colab.kernel.invokeFunction('convertToInteractive',\n",
              "                                                     [key], {});\n",
              "          if (!dataTable) return;\n",
              "\n",
              "          const docLinkHtml = 'Like what you see? Visit the ' +\n",
              "            '<a target=\"_blank\" href=https://colab.research.google.com/notebooks/data_table.ipynb>data table notebook</a>'\n",
              "            + ' to learn more about interactive tables.';\n",
              "          element.innerHTML = '';\n",
              "          dataTable['output_type'] = 'display_data';\n",
              "          await google.colab.output.renderOutput(dataTable, element);\n",
              "          const docLink = document.createElement('div');\n",
              "          docLink.innerHTML = docLinkHtml;\n",
              "          element.appendChild(docLink);\n",
              "        }\n",
              "      </script>\n",
              "    </div>\n",
              "  </div>\n",
              "  "
            ]
          },
          "metadata": {},
          "execution_count": 46
        }
      ]
    },
    {
      "cell_type": "code",
      "source": [
        "df['stalk-root'].unique() # bulbous=b,club=c,cup=u,equal=e,rhizomorphs=z,rooted=r,missing=?"
      ],
      "metadata": {
        "colab": {
          "base_uri": "https://localhost:8080/"
        },
        "id": "JZNSF2H1EoUU",
        "outputId": "28a02bb0-ccd4-4e9b-dbf6-eb98524cba81"
      },
      "execution_count": 47,
      "outputs": [
        {
          "output_type": "execute_result",
          "data": {
            "text/plain": [
              "array(['e', 'c', 'b', 'r', '?'], dtype=object)"
            ]
          },
          "metadata": {},
          "execution_count": 47
        }
      ]
    },
    {
      "cell_type": "code",
      "source": [
        "df['stalk-root'] = df['stalk-root'].map(lambda x : 'Bulbous' if x =='b' else ('Club' if x =='c' else 'Rhizomorphs' if x =='z' else 'Rooted' if x =='r' else 'Equal' if x =='e' else 'Missing'))"
      ],
      "metadata": {
        "id": "-Ql7TztGE4w_"
      },
      "execution_count": 48,
      "outputs": []
    },
    {
      "cell_type": "code",
      "source": [
        "df['stalk-root'].value_counts()"
      ],
      "metadata": {
        "colab": {
          "base_uri": "https://localhost:8080/"
        },
        "id": "qWutwdirGtwg",
        "outputId": "bbfdb811-cc60-4ac6-f4ae-b38791d390ed"
      },
      "execution_count": 49,
      "outputs": [
        {
          "output_type": "execute_result",
          "data": {
            "text/plain": [
              "Bulbous    3776\n",
              "Missing    2480\n",
              "Equal      1120\n",
              "Club        556\n",
              "Rooted      192\n",
              "Name: stalk-root, dtype: int64"
            ]
          },
          "metadata": {},
          "execution_count": 49
        }
      ]
    },
    {
      "cell_type": "code",
      "source": [
        "df.drop('stalk-color-above-ring',axis=1,inplace=True)  # drop/delete column\n",
        "df.drop('stalk-color-below-ring',axis=1,inplace=True)  # drop/delete column"
      ],
      "metadata": {
        "id": "dPJdZpn_GywY"
      },
      "execution_count": 50,
      "outputs": []
    },
    {
      "cell_type": "code",
      "source": [
        "df.head()"
      ],
      "metadata": {
        "colab": {
          "base_uri": "https://localhost:8080/",
          "height": 322
        },
        "id": "hejfwT37IXhC",
        "outputId": "9658d0db-417f-4119-d2b5-5b27480abac9"
      },
      "execution_count": 51,
      "outputs": [
        {
          "output_type": "execute_result",
          "data": {
            "text/plain": [
              "       class cap-shape cap-surface cap-color  bruises odor(flavor)  \\\n",
              "0  Poisonous    Convex      Smooth     brown  Bruises      Pungent   \n",
              "1     Edible    Convex      Smooth    Yellow  Bruises       Almond   \n",
              "2     Edible      Bell      Smooth     White  Bruises        Anise   \n",
              "3  Poisonous    Convex       Scaly     White  Bruises      Pungent   \n",
              "4     Edible    Convex      Smooth      Gray       No         None   \n",
              "\n",
              "  gill-attachment gill-size stalk-shape stalk-root stalk-surface-above-ring  \\\n",
              "0            Free    Narrow   Enlarging      Equal                        s   \n",
              "1            Free     Broad   Enlarging       Club                        s   \n",
              "2            Free     Broad   Enlarging       Club                        s   \n",
              "3            Free    Narrow   Enlarging      Equal                        s   \n",
              "4            Free     Broad    Tapering      Equal                        s   \n",
              "\n",
              "  stalk-surface-below-ring veil-type veil-color ring-number ring-type  \\\n",
              "0                        s         p          w           o         p   \n",
              "1                        s         p          w           o         p   \n",
              "2                        s         p          w           o         p   \n",
              "3                        s         p          w           o         p   \n",
              "4                        s         p          w           o         e   \n",
              "\n",
              "  spore-print-color population habitat  \n",
              "0                 k          s       u  \n",
              "1                 n          n       g  \n",
              "2                 n          n       m  \n",
              "3                 k          s       u  \n",
              "4                 n          a       g  "
            ],
            "text/html": [
              "\n",
              "  <div id=\"df-b96bf240-d4a9-41c3-bf0f-a09781faea9d\">\n",
              "    <div class=\"colab-df-container\">\n",
              "      <div>\n",
              "<style scoped>\n",
              "    .dataframe tbody tr th:only-of-type {\n",
              "        vertical-align: middle;\n",
              "    }\n",
              "\n",
              "    .dataframe tbody tr th {\n",
              "        vertical-align: top;\n",
              "    }\n",
              "\n",
              "    .dataframe thead th {\n",
              "        text-align: right;\n",
              "    }\n",
              "</style>\n",
              "<table border=\"1\" class=\"dataframe\">\n",
              "  <thead>\n",
              "    <tr style=\"text-align: right;\">\n",
              "      <th></th>\n",
              "      <th>class</th>\n",
              "      <th>cap-shape</th>\n",
              "      <th>cap-surface</th>\n",
              "      <th>cap-color</th>\n",
              "      <th>bruises</th>\n",
              "      <th>odor(flavor)</th>\n",
              "      <th>gill-attachment</th>\n",
              "      <th>gill-size</th>\n",
              "      <th>stalk-shape</th>\n",
              "      <th>stalk-root</th>\n",
              "      <th>stalk-surface-above-ring</th>\n",
              "      <th>stalk-surface-below-ring</th>\n",
              "      <th>veil-type</th>\n",
              "      <th>veil-color</th>\n",
              "      <th>ring-number</th>\n",
              "      <th>ring-type</th>\n",
              "      <th>spore-print-color</th>\n",
              "      <th>population</th>\n",
              "      <th>habitat</th>\n",
              "    </tr>\n",
              "  </thead>\n",
              "  <tbody>\n",
              "    <tr>\n",
              "      <th>0</th>\n",
              "      <td>Poisonous</td>\n",
              "      <td>Convex</td>\n",
              "      <td>Smooth</td>\n",
              "      <td>brown</td>\n",
              "      <td>Bruises</td>\n",
              "      <td>Pungent</td>\n",
              "      <td>Free</td>\n",
              "      <td>Narrow</td>\n",
              "      <td>Enlarging</td>\n",
              "      <td>Equal</td>\n",
              "      <td>s</td>\n",
              "      <td>s</td>\n",
              "      <td>p</td>\n",
              "      <td>w</td>\n",
              "      <td>o</td>\n",
              "      <td>p</td>\n",
              "      <td>k</td>\n",
              "      <td>s</td>\n",
              "      <td>u</td>\n",
              "    </tr>\n",
              "    <tr>\n",
              "      <th>1</th>\n",
              "      <td>Edible</td>\n",
              "      <td>Convex</td>\n",
              "      <td>Smooth</td>\n",
              "      <td>Yellow</td>\n",
              "      <td>Bruises</td>\n",
              "      <td>Almond</td>\n",
              "      <td>Free</td>\n",
              "      <td>Broad</td>\n",
              "      <td>Enlarging</td>\n",
              "      <td>Club</td>\n",
              "      <td>s</td>\n",
              "      <td>s</td>\n",
              "      <td>p</td>\n",
              "      <td>w</td>\n",
              "      <td>o</td>\n",
              "      <td>p</td>\n",
              "      <td>n</td>\n",
              "      <td>n</td>\n",
              "      <td>g</td>\n",
              "    </tr>\n",
              "    <tr>\n",
              "      <th>2</th>\n",
              "      <td>Edible</td>\n",
              "      <td>Bell</td>\n",
              "      <td>Smooth</td>\n",
              "      <td>White</td>\n",
              "      <td>Bruises</td>\n",
              "      <td>Anise</td>\n",
              "      <td>Free</td>\n",
              "      <td>Broad</td>\n",
              "      <td>Enlarging</td>\n",
              "      <td>Club</td>\n",
              "      <td>s</td>\n",
              "      <td>s</td>\n",
              "      <td>p</td>\n",
              "      <td>w</td>\n",
              "      <td>o</td>\n",
              "      <td>p</td>\n",
              "      <td>n</td>\n",
              "      <td>n</td>\n",
              "      <td>m</td>\n",
              "    </tr>\n",
              "    <tr>\n",
              "      <th>3</th>\n",
              "      <td>Poisonous</td>\n",
              "      <td>Convex</td>\n",
              "      <td>Scaly</td>\n",
              "      <td>White</td>\n",
              "      <td>Bruises</td>\n",
              "      <td>Pungent</td>\n",
              "      <td>Free</td>\n",
              "      <td>Narrow</td>\n",
              "      <td>Enlarging</td>\n",
              "      <td>Equal</td>\n",
              "      <td>s</td>\n",
              "      <td>s</td>\n",
              "      <td>p</td>\n",
              "      <td>w</td>\n",
              "      <td>o</td>\n",
              "      <td>p</td>\n",
              "      <td>k</td>\n",
              "      <td>s</td>\n",
              "      <td>u</td>\n",
              "    </tr>\n",
              "    <tr>\n",
              "      <th>4</th>\n",
              "      <td>Edible</td>\n",
              "      <td>Convex</td>\n",
              "      <td>Smooth</td>\n",
              "      <td>Gray</td>\n",
              "      <td>No</td>\n",
              "      <td>None</td>\n",
              "      <td>Free</td>\n",
              "      <td>Broad</td>\n",
              "      <td>Tapering</td>\n",
              "      <td>Equal</td>\n",
              "      <td>s</td>\n",
              "      <td>s</td>\n",
              "      <td>p</td>\n",
              "      <td>w</td>\n",
              "      <td>o</td>\n",
              "      <td>e</td>\n",
              "      <td>n</td>\n",
              "      <td>a</td>\n",
              "      <td>g</td>\n",
              "    </tr>\n",
              "  </tbody>\n",
              "</table>\n",
              "</div>\n",
              "      <button class=\"colab-df-convert\" onclick=\"convertToInteractive('df-b96bf240-d4a9-41c3-bf0f-a09781faea9d')\"\n",
              "              title=\"Convert this dataframe to an interactive table.\"\n",
              "              style=\"display:none;\">\n",
              "        \n",
              "  <svg xmlns=\"http://www.w3.org/2000/svg\" height=\"24px\"viewBox=\"0 0 24 24\"\n",
              "       width=\"24px\">\n",
              "    <path d=\"M0 0h24v24H0V0z\" fill=\"none\"/>\n",
              "    <path d=\"M18.56 5.44l.94 2.06.94-2.06 2.06-.94-2.06-.94-.94-2.06-.94 2.06-2.06.94zm-11 1L8.5 8.5l.94-2.06 2.06-.94-2.06-.94L8.5 2.5l-.94 2.06-2.06.94zm10 10l.94 2.06.94-2.06 2.06-.94-2.06-.94-.94-2.06-.94 2.06-2.06.94z\"/><path d=\"M17.41 7.96l-1.37-1.37c-.4-.4-.92-.59-1.43-.59-.52 0-1.04.2-1.43.59L10.3 9.45l-7.72 7.72c-.78.78-.78 2.05 0 2.83L4 21.41c.39.39.9.59 1.41.59.51 0 1.02-.2 1.41-.59l7.78-7.78 2.81-2.81c.8-.78.8-2.07 0-2.86zM5.41 20L4 18.59l7.72-7.72 1.47 1.35L5.41 20z\"/>\n",
              "  </svg>\n",
              "      </button>\n",
              "      \n",
              "  <style>\n",
              "    .colab-df-container {\n",
              "      display:flex;\n",
              "      flex-wrap:wrap;\n",
              "      gap: 12px;\n",
              "    }\n",
              "\n",
              "    .colab-df-convert {\n",
              "      background-color: #E8F0FE;\n",
              "      border: none;\n",
              "      border-radius: 50%;\n",
              "      cursor: pointer;\n",
              "      display: none;\n",
              "      fill: #1967D2;\n",
              "      height: 32px;\n",
              "      padding: 0 0 0 0;\n",
              "      width: 32px;\n",
              "    }\n",
              "\n",
              "    .colab-df-convert:hover {\n",
              "      background-color: #E2EBFA;\n",
              "      box-shadow: 0px 1px 2px rgba(60, 64, 67, 0.3), 0px 1px 3px 1px rgba(60, 64, 67, 0.15);\n",
              "      fill: #174EA6;\n",
              "    }\n",
              "\n",
              "    [theme=dark] .colab-df-convert {\n",
              "      background-color: #3B4455;\n",
              "      fill: #D2E3FC;\n",
              "    }\n",
              "\n",
              "    [theme=dark] .colab-df-convert:hover {\n",
              "      background-color: #434B5C;\n",
              "      box-shadow: 0px 1px 3px 1px rgba(0, 0, 0, 0.15);\n",
              "      filter: drop-shadow(0px 1px 2px rgba(0, 0, 0, 0.3));\n",
              "      fill: #FFFFFF;\n",
              "    }\n",
              "  </style>\n",
              "\n",
              "      <script>\n",
              "        const buttonEl =\n",
              "          document.querySelector('#df-b96bf240-d4a9-41c3-bf0f-a09781faea9d button.colab-df-convert');\n",
              "        buttonEl.style.display =\n",
              "          google.colab.kernel.accessAllowed ? 'block' : 'none';\n",
              "\n",
              "        async function convertToInteractive(key) {\n",
              "          const element = document.querySelector('#df-b96bf240-d4a9-41c3-bf0f-a09781faea9d');\n",
              "          const dataTable =\n",
              "            await google.colab.kernel.invokeFunction('convertToInteractive',\n",
              "                                                     [key], {});\n",
              "          if (!dataTable) return;\n",
              "\n",
              "          const docLinkHtml = 'Like what you see? Visit the ' +\n",
              "            '<a target=\"_blank\" href=https://colab.research.google.com/notebooks/data_table.ipynb>data table notebook</a>'\n",
              "            + ' to learn more about interactive tables.';\n",
              "          element.innerHTML = '';\n",
              "          dataTable['output_type'] = 'display_data';\n",
              "          await google.colab.output.renderOutput(dataTable, element);\n",
              "          const docLink = document.createElement('div');\n",
              "          docLink.innerHTML = docLinkHtml;\n",
              "          element.appendChild(docLink);\n",
              "        }\n",
              "      </script>\n",
              "    </div>\n",
              "  </div>\n",
              "  "
            ]
          },
          "metadata": {},
          "execution_count": 51
        }
      ]
    },
    {
      "cell_type": "code",
      "source": [
        "df['stalk-surface-above-ring'].unique(),df['stalk-surface-below-ring'].unique() # fibrous=f,scaly=y,silky=k,smooth=s"
      ],
      "metadata": {
        "colab": {
          "base_uri": "https://localhost:8080/"
        },
        "id": "bI0boLcjIaHv",
        "outputId": "cace1a26-8f45-4188-d0e0-91188a759377"
      },
      "execution_count": 52,
      "outputs": [
        {
          "output_type": "execute_result",
          "data": {
            "text/plain": [
              "(array(['s', 'f', 'k', 'y'], dtype=object),\n",
              " array(['s', 'f', 'y', 'k'], dtype=object))"
            ]
          },
          "metadata": {},
          "execution_count": 52
        }
      ]
    },
    {
      "cell_type": "code",
      "source": [
        "df['stalk-surface-above-ring'] = df['stalk-surface-above-ring'].map(lambda x : 'Fibrous' if x =='f' else ('Scaly' if x=='y' else 'Silky' if x =='k' else 'Smooth'))"
      ],
      "metadata": {
        "id": "TMe38cUGIr1Z"
      },
      "execution_count": 53,
      "outputs": []
    },
    {
      "cell_type": "code",
      "source": [
        "df['stalk-surface-below-ring'] = df['stalk-surface-below-ring'].map(lambda x : 'Fibrous' if x =='f' else ('Scaly' if x=='y' else 'Silky' if x =='k' else 'Smooth'))"
      ],
      "metadata": {
        "id": "-7bJEIrEJ5QI"
      },
      "execution_count": 54,
      "outputs": []
    },
    {
      "cell_type": "code",
      "source": [
        "df['veil-type'].unique()"
      ],
      "metadata": {
        "colab": {
          "base_uri": "https://localhost:8080/"
        },
        "id": "bSZ-NVgIKCT6",
        "outputId": "ff84d75a-d5e9-4100-e2a7-636a64523a37"
      },
      "execution_count": 55,
      "outputs": [
        {
          "output_type": "execute_result",
          "data": {
            "text/plain": [
              "array(['p'], dtype=object)"
            ]
          },
          "metadata": {},
          "execution_count": 55
        }
      ]
    },
    {
      "cell_type": "code",
      "source": [
        "df['ring-number'].unique() # none=n,one=o,two=t\n"
      ],
      "metadata": {
        "colab": {
          "base_uri": "https://localhost:8080/"
        },
        "id": "iwnKShPzLMkC",
        "outputId": "2110ce2d-cb55-45b8-c290-6a499c59ea49"
      },
      "execution_count": 56,
      "outputs": [
        {
          "output_type": "execute_result",
          "data": {
            "text/plain": [
              "array(['o', 't', 'n'], dtype=object)"
            ]
          },
          "metadata": {},
          "execution_count": 56
        }
      ]
    },
    {
      "cell_type": "code",
      "source": [
        "df['ring-number'] = df['ring-number'].map(lambda x : 'One' if x =='o' else ('Two' if x =='t' else 'None'))"
      ],
      "metadata": {
        "id": "kl5-DuhEMcZO"
      },
      "execution_count": 57,
      "outputs": []
    },
    {
      "cell_type": "code",
      "source": [
        "df['population'].unique()# abundant=a,clustered=c,numerous=n,scattered=s,several=v,solitary=y"
      ],
      "metadata": {
        "colab": {
          "base_uri": "https://localhost:8080/"
        },
        "id": "7A0fNcdLNLSR",
        "outputId": "f0587265-35ab-4a92-f2be-db2e6e04062c"
      },
      "execution_count": 58,
      "outputs": [
        {
          "output_type": "execute_result",
          "data": {
            "text/plain": [
              "array(['s', 'n', 'a', 'v', 'y', 'c'], dtype=object)"
            ]
          },
          "metadata": {},
          "execution_count": 58
        }
      ]
    },
    {
      "cell_type": "code",
      "source": [
        "df['population'] = df['population'].map(lambda x : 'Abundant' if x =='a' else ('Clustered' if x =='c' else 'Numerous' if x =='n' else 'Scattered' if x =='s'\n",
        "                                                                                else 'Several' if x =='v' else 'Solitary'))"
      ],
      "metadata": {
        "id": "j7XNAAAjNfJc"
      },
      "execution_count": 59,
      "outputs": []
    },
    {
      "cell_type": "code",
      "source": [
        "df['habitat'].unique() # grasses=g,leaves=l,meadows=m,paths=p,urban=u,waste=w,woods=d"
      ],
      "metadata": {
        "colab": {
          "base_uri": "https://localhost:8080/"
        },
        "id": "fK54Ht2NObiB",
        "outputId": "2a5e2911-dbce-4cf0-a3ff-0921026e5013"
      },
      "execution_count": 60,
      "outputs": [
        {
          "output_type": "execute_result",
          "data": {
            "text/plain": [
              "array(['u', 'g', 'm', 'd', 'p', 'w', 'l'], dtype=object)"
            ]
          },
          "metadata": {},
          "execution_count": 60
        }
      ]
    },
    {
      "cell_type": "code",
      "source": [
        "df['habitat'] = df['habitat'].map(lambda x : 'Grasses' if x =='g' else ('Leaves' if x =='l' else 'Meadows' if x =='m' else 'Paths' if x =='p' else 'Urban' if x =='u'\n",
        "                                                                            else 'Waste' if x =='w' else 'Woods'))"
      ],
      "metadata": {
        "id": "E7RDODVxOiPQ"
      },
      "execution_count": 61,
      "outputs": []
    },
    {
      "cell_type": "markdown",
      "source": [
        "# ***Explore data in depth***"
      ],
      "metadata": {
        "id": "a1Q_u4LgXZLq"
      }
    },
    {
      "cell_type": "code",
      "source": [],
      "metadata": {
        "id": "_4Me3QiDXkxS"
      },
      "execution_count": 61,
      "outputs": []
    },
    {
      "cell_type": "code",
      "source": [
        "df.head()"
      ],
      "metadata": {
        "colab": {
          "base_uri": "https://localhost:8080/",
          "height": 322
        },
        "id": "oz2YUbbgPiZr",
        "outputId": "8b89e8d9-8e7a-4b6a-fa17-0b3ccd9fe3cd"
      },
      "execution_count": 62,
      "outputs": [
        {
          "output_type": "execute_result",
          "data": {
            "text/plain": [
              "       class cap-shape cap-surface cap-color  bruises odor(flavor)  \\\n",
              "0  Poisonous    Convex      Smooth     brown  Bruises      Pungent   \n",
              "1     Edible    Convex      Smooth    Yellow  Bruises       Almond   \n",
              "2     Edible      Bell      Smooth     White  Bruises        Anise   \n",
              "3  Poisonous    Convex       Scaly     White  Bruises      Pungent   \n",
              "4     Edible    Convex      Smooth      Gray       No         None   \n",
              "\n",
              "  gill-attachment gill-size stalk-shape stalk-root stalk-surface-above-ring  \\\n",
              "0            Free    Narrow   Enlarging      Equal                   Smooth   \n",
              "1            Free     Broad   Enlarging       Club                   Smooth   \n",
              "2            Free     Broad   Enlarging       Club                   Smooth   \n",
              "3            Free    Narrow   Enlarging      Equal                   Smooth   \n",
              "4            Free     Broad    Tapering      Equal                   Smooth   \n",
              "\n",
              "  stalk-surface-below-ring veil-type veil-color ring-number ring-type  \\\n",
              "0                   Smooth         p          w         One         p   \n",
              "1                   Smooth         p          w         One         p   \n",
              "2                   Smooth         p          w         One         p   \n",
              "3                   Smooth         p          w         One         p   \n",
              "4                   Smooth         p          w         One         e   \n",
              "\n",
              "  spore-print-color population  habitat  \n",
              "0                 k  Scattered    Urban  \n",
              "1                 n   Numerous  Grasses  \n",
              "2                 n   Numerous  Meadows  \n",
              "3                 k  Scattered    Urban  \n",
              "4                 n   Abundant  Grasses  "
            ],
            "text/html": [
              "\n",
              "  <div id=\"df-dd6cdd4c-9692-4438-aa88-cbdb34b3d7e3\">\n",
              "    <div class=\"colab-df-container\">\n",
              "      <div>\n",
              "<style scoped>\n",
              "    .dataframe tbody tr th:only-of-type {\n",
              "        vertical-align: middle;\n",
              "    }\n",
              "\n",
              "    .dataframe tbody tr th {\n",
              "        vertical-align: top;\n",
              "    }\n",
              "\n",
              "    .dataframe thead th {\n",
              "        text-align: right;\n",
              "    }\n",
              "</style>\n",
              "<table border=\"1\" class=\"dataframe\">\n",
              "  <thead>\n",
              "    <tr style=\"text-align: right;\">\n",
              "      <th></th>\n",
              "      <th>class</th>\n",
              "      <th>cap-shape</th>\n",
              "      <th>cap-surface</th>\n",
              "      <th>cap-color</th>\n",
              "      <th>bruises</th>\n",
              "      <th>odor(flavor)</th>\n",
              "      <th>gill-attachment</th>\n",
              "      <th>gill-size</th>\n",
              "      <th>stalk-shape</th>\n",
              "      <th>stalk-root</th>\n",
              "      <th>stalk-surface-above-ring</th>\n",
              "      <th>stalk-surface-below-ring</th>\n",
              "      <th>veil-type</th>\n",
              "      <th>veil-color</th>\n",
              "      <th>ring-number</th>\n",
              "      <th>ring-type</th>\n",
              "      <th>spore-print-color</th>\n",
              "      <th>population</th>\n",
              "      <th>habitat</th>\n",
              "    </tr>\n",
              "  </thead>\n",
              "  <tbody>\n",
              "    <tr>\n",
              "      <th>0</th>\n",
              "      <td>Poisonous</td>\n",
              "      <td>Convex</td>\n",
              "      <td>Smooth</td>\n",
              "      <td>brown</td>\n",
              "      <td>Bruises</td>\n",
              "      <td>Pungent</td>\n",
              "      <td>Free</td>\n",
              "      <td>Narrow</td>\n",
              "      <td>Enlarging</td>\n",
              "      <td>Equal</td>\n",
              "      <td>Smooth</td>\n",
              "      <td>Smooth</td>\n",
              "      <td>p</td>\n",
              "      <td>w</td>\n",
              "      <td>One</td>\n",
              "      <td>p</td>\n",
              "      <td>k</td>\n",
              "      <td>Scattered</td>\n",
              "      <td>Urban</td>\n",
              "    </tr>\n",
              "    <tr>\n",
              "      <th>1</th>\n",
              "      <td>Edible</td>\n",
              "      <td>Convex</td>\n",
              "      <td>Smooth</td>\n",
              "      <td>Yellow</td>\n",
              "      <td>Bruises</td>\n",
              "      <td>Almond</td>\n",
              "      <td>Free</td>\n",
              "      <td>Broad</td>\n",
              "      <td>Enlarging</td>\n",
              "      <td>Club</td>\n",
              "      <td>Smooth</td>\n",
              "      <td>Smooth</td>\n",
              "      <td>p</td>\n",
              "      <td>w</td>\n",
              "      <td>One</td>\n",
              "      <td>p</td>\n",
              "      <td>n</td>\n",
              "      <td>Numerous</td>\n",
              "      <td>Grasses</td>\n",
              "    </tr>\n",
              "    <tr>\n",
              "      <th>2</th>\n",
              "      <td>Edible</td>\n",
              "      <td>Bell</td>\n",
              "      <td>Smooth</td>\n",
              "      <td>White</td>\n",
              "      <td>Bruises</td>\n",
              "      <td>Anise</td>\n",
              "      <td>Free</td>\n",
              "      <td>Broad</td>\n",
              "      <td>Enlarging</td>\n",
              "      <td>Club</td>\n",
              "      <td>Smooth</td>\n",
              "      <td>Smooth</td>\n",
              "      <td>p</td>\n",
              "      <td>w</td>\n",
              "      <td>One</td>\n",
              "      <td>p</td>\n",
              "      <td>n</td>\n",
              "      <td>Numerous</td>\n",
              "      <td>Meadows</td>\n",
              "    </tr>\n",
              "    <tr>\n",
              "      <th>3</th>\n",
              "      <td>Poisonous</td>\n",
              "      <td>Convex</td>\n",
              "      <td>Scaly</td>\n",
              "      <td>White</td>\n",
              "      <td>Bruises</td>\n",
              "      <td>Pungent</td>\n",
              "      <td>Free</td>\n",
              "      <td>Narrow</td>\n",
              "      <td>Enlarging</td>\n",
              "      <td>Equal</td>\n",
              "      <td>Smooth</td>\n",
              "      <td>Smooth</td>\n",
              "      <td>p</td>\n",
              "      <td>w</td>\n",
              "      <td>One</td>\n",
              "      <td>p</td>\n",
              "      <td>k</td>\n",
              "      <td>Scattered</td>\n",
              "      <td>Urban</td>\n",
              "    </tr>\n",
              "    <tr>\n",
              "      <th>4</th>\n",
              "      <td>Edible</td>\n",
              "      <td>Convex</td>\n",
              "      <td>Smooth</td>\n",
              "      <td>Gray</td>\n",
              "      <td>No</td>\n",
              "      <td>None</td>\n",
              "      <td>Free</td>\n",
              "      <td>Broad</td>\n",
              "      <td>Tapering</td>\n",
              "      <td>Equal</td>\n",
              "      <td>Smooth</td>\n",
              "      <td>Smooth</td>\n",
              "      <td>p</td>\n",
              "      <td>w</td>\n",
              "      <td>One</td>\n",
              "      <td>e</td>\n",
              "      <td>n</td>\n",
              "      <td>Abundant</td>\n",
              "      <td>Grasses</td>\n",
              "    </tr>\n",
              "  </tbody>\n",
              "</table>\n",
              "</div>\n",
              "      <button class=\"colab-df-convert\" onclick=\"convertToInteractive('df-dd6cdd4c-9692-4438-aa88-cbdb34b3d7e3')\"\n",
              "              title=\"Convert this dataframe to an interactive table.\"\n",
              "              style=\"display:none;\">\n",
              "        \n",
              "  <svg xmlns=\"http://www.w3.org/2000/svg\" height=\"24px\"viewBox=\"0 0 24 24\"\n",
              "       width=\"24px\">\n",
              "    <path d=\"M0 0h24v24H0V0z\" fill=\"none\"/>\n",
              "    <path d=\"M18.56 5.44l.94 2.06.94-2.06 2.06-.94-2.06-.94-.94-2.06-.94 2.06-2.06.94zm-11 1L8.5 8.5l.94-2.06 2.06-.94-2.06-.94L8.5 2.5l-.94 2.06-2.06.94zm10 10l.94 2.06.94-2.06 2.06-.94-2.06-.94-.94-2.06-.94 2.06-2.06.94z\"/><path d=\"M17.41 7.96l-1.37-1.37c-.4-.4-.92-.59-1.43-.59-.52 0-1.04.2-1.43.59L10.3 9.45l-7.72 7.72c-.78.78-.78 2.05 0 2.83L4 21.41c.39.39.9.59 1.41.59.51 0 1.02-.2 1.41-.59l7.78-7.78 2.81-2.81c.8-.78.8-2.07 0-2.86zM5.41 20L4 18.59l7.72-7.72 1.47 1.35L5.41 20z\"/>\n",
              "  </svg>\n",
              "      </button>\n",
              "      \n",
              "  <style>\n",
              "    .colab-df-container {\n",
              "      display:flex;\n",
              "      flex-wrap:wrap;\n",
              "      gap: 12px;\n",
              "    }\n",
              "\n",
              "    .colab-df-convert {\n",
              "      background-color: #E8F0FE;\n",
              "      border: none;\n",
              "      border-radius: 50%;\n",
              "      cursor: pointer;\n",
              "      display: none;\n",
              "      fill: #1967D2;\n",
              "      height: 32px;\n",
              "      padding: 0 0 0 0;\n",
              "      width: 32px;\n",
              "    }\n",
              "\n",
              "    .colab-df-convert:hover {\n",
              "      background-color: #E2EBFA;\n",
              "      box-shadow: 0px 1px 2px rgba(60, 64, 67, 0.3), 0px 1px 3px 1px rgba(60, 64, 67, 0.15);\n",
              "      fill: #174EA6;\n",
              "    }\n",
              "\n",
              "    [theme=dark] .colab-df-convert {\n",
              "      background-color: #3B4455;\n",
              "      fill: #D2E3FC;\n",
              "    }\n",
              "\n",
              "    [theme=dark] .colab-df-convert:hover {\n",
              "      background-color: #434B5C;\n",
              "      box-shadow: 0px 1px 3px 1px rgba(0, 0, 0, 0.15);\n",
              "      filter: drop-shadow(0px 1px 2px rgba(0, 0, 0, 0.3));\n",
              "      fill: #FFFFFF;\n",
              "    }\n",
              "  </style>\n",
              "\n",
              "      <script>\n",
              "        const buttonEl =\n",
              "          document.querySelector('#df-dd6cdd4c-9692-4438-aa88-cbdb34b3d7e3 button.colab-df-convert');\n",
              "        buttonEl.style.display =\n",
              "          google.colab.kernel.accessAllowed ? 'block' : 'none';\n",
              "\n",
              "        async function convertToInteractive(key) {\n",
              "          const element = document.querySelector('#df-dd6cdd4c-9692-4438-aa88-cbdb34b3d7e3');\n",
              "          const dataTable =\n",
              "            await google.colab.kernel.invokeFunction('convertToInteractive',\n",
              "                                                     [key], {});\n",
              "          if (!dataTable) return;\n",
              "\n",
              "          const docLinkHtml = 'Like what you see? Visit the ' +\n",
              "            '<a target=\"_blank\" href=https://colab.research.google.com/notebooks/data_table.ipynb>data table notebook</a>'\n",
              "            + ' to learn more about interactive tables.';\n",
              "          element.innerHTML = '';\n",
              "          dataTable['output_type'] = 'display_data';\n",
              "          await google.colab.output.renderOutput(dataTable, element);\n",
              "          const docLink = document.createElement('div');\n",
              "          docLink.innerHTML = docLinkHtml;\n",
              "          element.appendChild(docLink);\n",
              "        }\n",
              "      </script>\n",
              "    </div>\n",
              "  </div>\n",
              "  "
            ]
          },
          "metadata": {},
          "execution_count": 62
        }
      ]
    },
    {
      "cell_type": "code",
      "source": [],
      "metadata": {
        "id": "Cv_AtMpFPlFv"
      },
      "execution_count": 62,
      "outputs": []
    },
    {
      "cell_type": "markdown",
      "source": [
        "![2021-01-science-break-fig03.jpg](data:image/jpeg;base64,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)"
      ],
      "metadata": {
        "id": "-0uSYBPZSCAb"
      }
    },
    {
      "cell_type": "code",
      "source": [
        "df.columns"
      ],
      "metadata": {
        "id": "pPaTSStGSNrl",
        "colab": {
          "base_uri": "https://localhost:8080/"
        },
        "outputId": "5102392d-8355-41d3-b7a6-825563bc4335"
      },
      "execution_count": 63,
      "outputs": [
        {
          "output_type": "execute_result",
          "data": {
            "text/plain": [
              "Index(['class', 'cap-shape', 'cap-surface', 'cap-color', 'bruises',\n",
              "       'odor(flavor)', 'gill-attachment', 'gill-size', 'stalk-shape',\n",
              "       'stalk-root', 'stalk-surface-above-ring', 'stalk-surface-below-ring',\n",
              "       'veil-type', 'veil-color', 'ring-number', 'ring-type',\n",
              "       'spore-print-color', 'population', 'habitat'],\n",
              "      dtype='object')"
            ]
          },
          "metadata": {},
          "execution_count": 63
        }
      ]
    },
    {
      "cell_type": "code",
      "source": [
        "df.sample(3)"
      ],
      "metadata": {
        "colab": {
          "base_uri": "https://localhost:8080/",
          "height": 260
        },
        "id": "pkEctT--Yuoc",
        "outputId": "bb4b14c2-7d8d-4f28-e40f-98f533d0ad4b"
      },
      "execution_count": 64,
      "outputs": [
        {
          "output_type": "execute_result",
          "data": {
            "text/plain": [
              "       class cap-shape cap-surface cap-color  bruises odor(flavor)  \\\n",
              "3875  Edible    Convex     Fibrous      Gray  Bruises         None   \n",
              "3866  Edible      Flat       Scaly     brown  Bruises         None   \n",
              "756   Edible      Flat       Scaly    Yellow  Bruises        Anise   \n",
              "\n",
              "     gill-attachment gill-size stalk-shape stalk-root  \\\n",
              "3875            Free     Broad    Tapering    Bulbous   \n",
              "3866            Free     Broad    Tapering    Bulbous   \n",
              "756             Free     Broad   Enlarging     Rooted   \n",
              "\n",
              "     stalk-surface-above-ring stalk-surface-below-ring veil-type veil-color  \\\n",
              "3875                   Smooth                   Smooth         p          w   \n",
              "3866                   Smooth                   Smooth         p          w   \n",
              "756                    Smooth                    Scaly         p          w   \n",
              "\n",
              "     ring-number ring-type spore-print-color population  habitat  \n",
              "3875         One         p                 k    Several    Woods  \n",
              "3866         One         p                 k   Solitary    Woods  \n",
              "756          One         p                 n   Solitary  Grasses  "
            ],
            "text/html": [
              "\n",
              "  <div id=\"df-7714eaac-aa39-4250-a2e2-8cd6a0848fbc\">\n",
              "    <div class=\"colab-df-container\">\n",
              "      <div>\n",
              "<style scoped>\n",
              "    .dataframe tbody tr th:only-of-type {\n",
              "        vertical-align: middle;\n",
              "    }\n",
              "\n",
              "    .dataframe tbody tr th {\n",
              "        vertical-align: top;\n",
              "    }\n",
              "\n",
              "    .dataframe thead th {\n",
              "        text-align: right;\n",
              "    }\n",
              "</style>\n",
              "<table border=\"1\" class=\"dataframe\">\n",
              "  <thead>\n",
              "    <tr style=\"text-align: right;\">\n",
              "      <th></th>\n",
              "      <th>class</th>\n",
              "      <th>cap-shape</th>\n",
              "      <th>cap-surface</th>\n",
              "      <th>cap-color</th>\n",
              "      <th>bruises</th>\n",
              "      <th>odor(flavor)</th>\n",
              "      <th>gill-attachment</th>\n",
              "      <th>gill-size</th>\n",
              "      <th>stalk-shape</th>\n",
              "      <th>stalk-root</th>\n",
              "      <th>stalk-surface-above-ring</th>\n",
              "      <th>stalk-surface-below-ring</th>\n",
              "      <th>veil-type</th>\n",
              "      <th>veil-color</th>\n",
              "      <th>ring-number</th>\n",
              "      <th>ring-type</th>\n",
              "      <th>spore-print-color</th>\n",
              "      <th>population</th>\n",
              "      <th>habitat</th>\n",
              "    </tr>\n",
              "  </thead>\n",
              "  <tbody>\n",
              "    <tr>\n",
              "      <th>3875</th>\n",
              "      <td>Edible</td>\n",
              "      <td>Convex</td>\n",
              "      <td>Fibrous</td>\n",
              "      <td>Gray</td>\n",
              "      <td>Bruises</td>\n",
              "      <td>None</td>\n",
              "      <td>Free</td>\n",
              "      <td>Broad</td>\n",
              "      <td>Tapering</td>\n",
              "      <td>Bulbous</td>\n",
              "      <td>Smooth</td>\n",
              "      <td>Smooth</td>\n",
              "      <td>p</td>\n",
              "      <td>w</td>\n",
              "      <td>One</td>\n",
              "      <td>p</td>\n",
              "      <td>k</td>\n",
              "      <td>Several</td>\n",
              "      <td>Woods</td>\n",
              "    </tr>\n",
              "    <tr>\n",
              "      <th>3866</th>\n",
              "      <td>Edible</td>\n",
              "      <td>Flat</td>\n",
              "      <td>Scaly</td>\n",
              "      <td>brown</td>\n",
              "      <td>Bruises</td>\n",
              "      <td>None</td>\n",
              "      <td>Free</td>\n",
              "      <td>Broad</td>\n",
              "      <td>Tapering</td>\n",
              "      <td>Bulbous</td>\n",
              "      <td>Smooth</td>\n",
              "      <td>Smooth</td>\n",
              "      <td>p</td>\n",
              "      <td>w</td>\n",
              "      <td>One</td>\n",
              "      <td>p</td>\n",
              "      <td>k</td>\n",
              "      <td>Solitary</td>\n",
              "      <td>Woods</td>\n",
              "    </tr>\n",
              "    <tr>\n",
              "      <th>756</th>\n",
              "      <td>Edible</td>\n",
              "      <td>Flat</td>\n",
              "      <td>Scaly</td>\n",
              "      <td>Yellow</td>\n",
              "      <td>Bruises</td>\n",
              "      <td>Anise</td>\n",
              "      <td>Free</td>\n",
              "      <td>Broad</td>\n",
              "      <td>Enlarging</td>\n",
              "      <td>Rooted</td>\n",
              "      <td>Smooth</td>\n",
              "      <td>Scaly</td>\n",
              "      <td>p</td>\n",
              "      <td>w</td>\n",
              "      <td>One</td>\n",
              "      <td>p</td>\n",
              "      <td>n</td>\n",
              "      <td>Solitary</td>\n",
              "      <td>Grasses</td>\n",
              "    </tr>\n",
              "  </tbody>\n",
              "</table>\n",
              "</div>\n",
              "      <button class=\"colab-df-convert\" onclick=\"convertToInteractive('df-7714eaac-aa39-4250-a2e2-8cd6a0848fbc')\"\n",
              "              title=\"Convert this dataframe to an interactive table.\"\n",
              "              style=\"display:none;\">\n",
              "        \n",
              "  <svg xmlns=\"http://www.w3.org/2000/svg\" height=\"24px\"viewBox=\"0 0 24 24\"\n",
              "       width=\"24px\">\n",
              "    <path d=\"M0 0h24v24H0V0z\" fill=\"none\"/>\n",
              "    <path d=\"M18.56 5.44l.94 2.06.94-2.06 2.06-.94-2.06-.94-.94-2.06-.94 2.06-2.06.94zm-11 1L8.5 8.5l.94-2.06 2.06-.94-2.06-.94L8.5 2.5l-.94 2.06-2.06.94zm10 10l.94 2.06.94-2.06 2.06-.94-2.06-.94-.94-2.06-.94 2.06-2.06.94z\"/><path d=\"M17.41 7.96l-1.37-1.37c-.4-.4-.92-.59-1.43-.59-.52 0-1.04.2-1.43.59L10.3 9.45l-7.72 7.72c-.78.78-.78 2.05 0 2.83L4 21.41c.39.39.9.59 1.41.59.51 0 1.02-.2 1.41-.59l7.78-7.78 2.81-2.81c.8-.78.8-2.07 0-2.86zM5.41 20L4 18.59l7.72-7.72 1.47 1.35L5.41 20z\"/>\n",
              "  </svg>\n",
              "      </button>\n",
              "      \n",
              "  <style>\n",
              "    .colab-df-container {\n",
              "      display:flex;\n",
              "      flex-wrap:wrap;\n",
              "      gap: 12px;\n",
              "    }\n",
              "\n",
              "    .colab-df-convert {\n",
              "      background-color: #E8F0FE;\n",
              "      border: none;\n",
              "      border-radius: 50%;\n",
              "      cursor: pointer;\n",
              "      display: none;\n",
              "      fill: #1967D2;\n",
              "      height: 32px;\n",
              "      padding: 0 0 0 0;\n",
              "      width: 32px;\n",
              "    }\n",
              "\n",
              "    .colab-df-convert:hover {\n",
              "      background-color: #E2EBFA;\n",
              "      box-shadow: 0px 1px 2px rgba(60, 64, 67, 0.3), 0px 1px 3px 1px rgba(60, 64, 67, 0.15);\n",
              "      fill: #174EA6;\n",
              "    }\n",
              "\n",
              "    [theme=dark] .colab-df-convert {\n",
              "      background-color: #3B4455;\n",
              "      fill: #D2E3FC;\n",
              "    }\n",
              "\n",
              "    [theme=dark] .colab-df-convert:hover {\n",
              "      background-color: #434B5C;\n",
              "      box-shadow: 0px 1px 3px 1px rgba(0, 0, 0, 0.15);\n",
              "      filter: drop-shadow(0px 1px 2px rgba(0, 0, 0, 0.3));\n",
              "      fill: #FFFFFF;\n",
              "    }\n",
              "  </style>\n",
              "\n",
              "      <script>\n",
              "        const buttonEl =\n",
              "          document.querySelector('#df-7714eaac-aa39-4250-a2e2-8cd6a0848fbc button.colab-df-convert');\n",
              "        buttonEl.style.display =\n",
              "          google.colab.kernel.accessAllowed ? 'block' : 'none';\n",
              "\n",
              "        async function convertToInteractive(key) {\n",
              "          const element = document.querySelector('#df-7714eaac-aa39-4250-a2e2-8cd6a0848fbc');\n",
              "          const dataTable =\n",
              "            await google.colab.kernel.invokeFunction('convertToInteractive',\n",
              "                                                     [key], {});\n",
              "          if (!dataTable) return;\n",
              "\n",
              "          const docLinkHtml = 'Like what you see? Visit the ' +\n",
              "            '<a target=\"_blank\" href=https://colab.research.google.com/notebooks/data_table.ipynb>data table notebook</a>'\n",
              "            + ' to learn more about interactive tables.';\n",
              "          element.innerHTML = '';\n",
              "          dataTable['output_type'] = 'display_data';\n",
              "          await google.colab.output.renderOutput(dataTable, element);\n",
              "          const docLink = document.createElement('div');\n",
              "          docLink.innerHTML = docLinkHtml;\n",
              "          element.appendChild(docLink);\n",
              "        }\n",
              "      </script>\n",
              "    </div>\n",
              "  </div>\n",
              "  "
            ]
          },
          "metadata": {},
          "execution_count": 64
        }
      ]
    },
    {
      "cell_type": "code",
      "source": [
        "df.shape"
      ],
      "metadata": {
        "colab": {
          "base_uri": "https://localhost:8080/"
        },
        "id": "t2O8hcMrb6CX",
        "outputId": "3534cc60-b694-4c3f-9cd6-1aaeb946fedc"
      },
      "execution_count": 65,
      "outputs": [
        {
          "output_type": "execute_result",
          "data": {
            "text/plain": [
              "(8124, 19)"
            ]
          },
          "metadata": {},
          "execution_count": 65
        }
      ]
    },
    {
      "cell_type": "code",
      "source": [
        "len(df)"
      ],
      "metadata": {
        "colab": {
          "base_uri": "https://localhost:8080/"
        },
        "id": "5IrZK-mbb_v8",
        "outputId": "4cb21f77-e6ca-4186-b6d2-417b98d5f033"
      },
      "execution_count": 66,
      "outputs": [
        {
          "output_type": "execute_result",
          "data": {
            "text/plain": [
              "8124"
            ]
          },
          "metadata": {},
          "execution_count": 66
        }
      ]
    },
    {
      "cell_type": "code",
      "source": [
        "df[0:11]"
      ],
      "metadata": {
        "colab": {
          "base_uri": "https://localhost:8080/",
          "height": 510
        },
        "id": "Ra8zcptpcA1x",
        "outputId": "79cc6c5a-1bb3-4ade-eeac-4845e920043a"
      },
      "execution_count": 67,
      "outputs": [
        {
          "output_type": "execute_result",
          "data": {
            "text/plain": [
              "        class cap-shape cap-surface cap-color  bruises odor(flavor)  \\\n",
              "0   Poisonous    Convex      Smooth     brown  Bruises      Pungent   \n",
              "1      Edible    Convex      Smooth    Yellow  Bruises       Almond   \n",
              "2      Edible      Bell      Smooth     White  Bruises        Anise   \n",
              "3   Poisonous    Convex       Scaly     White  Bruises      Pungent   \n",
              "4      Edible    Convex      Smooth      Gray       No         None   \n",
              "5      Edible    Convex       Scaly    Yellow  Bruises       Almond   \n",
              "6      Edible      Bell      Smooth     White  Bruises       Almond   \n",
              "7      Edible      Bell       Scaly     White  Bruises        Anise   \n",
              "8   Poisonous    Convex       Scaly     White  Bruises      Pungent   \n",
              "9      Edible      Bell      Smooth    Yellow  Bruises       Almond   \n",
              "10     Edible    Convex       Scaly    Yellow  Bruises        Anise   \n",
              "\n",
              "   gill-attachment gill-size stalk-shape stalk-root stalk-surface-above-ring  \\\n",
              "0             Free    Narrow   Enlarging      Equal                   Smooth   \n",
              "1             Free     Broad   Enlarging       Club                   Smooth   \n",
              "2             Free     Broad   Enlarging       Club                   Smooth   \n",
              "3             Free    Narrow   Enlarging      Equal                   Smooth   \n",
              "4             Free     Broad    Tapering      Equal                   Smooth   \n",
              "5             Free     Broad   Enlarging       Club                   Smooth   \n",
              "6             Free     Broad   Enlarging       Club                   Smooth   \n",
              "7             Free     Broad   Enlarging       Club                   Smooth   \n",
              "8             Free    Narrow   Enlarging      Equal                   Smooth   \n",
              "9             Free     Broad   Enlarging       Club                   Smooth   \n",
              "10            Free     Broad   Enlarging       Club                   Smooth   \n",
              "\n",
              "   stalk-surface-below-ring veil-type veil-color ring-number ring-type  \\\n",
              "0                    Smooth         p          w         One         p   \n",
              "1                    Smooth         p          w         One         p   \n",
              "2                    Smooth         p          w         One         p   \n",
              "3                    Smooth         p          w         One         p   \n",
              "4                    Smooth         p          w         One         e   \n",
              "5                    Smooth         p          w         One         p   \n",
              "6                    Smooth         p          w         One         p   \n",
              "7                    Smooth         p          w         One         p   \n",
              "8                    Smooth         p          w         One         p   \n",
              "9                    Smooth         p          w         One         p   \n",
              "10                   Smooth         p          w         One         p   \n",
              "\n",
              "   spore-print-color population  habitat  \n",
              "0                  k  Scattered    Urban  \n",
              "1                  n   Numerous  Grasses  \n",
              "2                  n   Numerous  Meadows  \n",
              "3                  k  Scattered    Urban  \n",
              "4                  n   Abundant  Grasses  \n",
              "5                  k   Numerous  Grasses  \n",
              "6                  k   Numerous  Meadows  \n",
              "7                  n  Scattered  Meadows  \n",
              "8                  k    Several  Grasses  \n",
              "9                  k  Scattered  Meadows  \n",
              "10                 n   Numerous  Grasses  "
            ],
            "text/html": [
              "\n",
              "  <div id=\"df-00ed5cbb-9b54-44e8-85d3-7a9e706b4c67\">\n",
              "    <div class=\"colab-df-container\">\n",
              "      <div>\n",
              "<style scoped>\n",
              "    .dataframe tbody tr th:only-of-type {\n",
              "        vertical-align: middle;\n",
              "    }\n",
              "\n",
              "    .dataframe tbody tr th {\n",
              "        vertical-align: top;\n",
              "    }\n",
              "\n",
              "    .dataframe thead th {\n",
              "        text-align: right;\n",
              "    }\n",
              "</style>\n",
              "<table border=\"1\" class=\"dataframe\">\n",
              "  <thead>\n",
              "    <tr style=\"text-align: right;\">\n",
              "      <th></th>\n",
              "      <th>class</th>\n",
              "      <th>cap-shape</th>\n",
              "      <th>cap-surface</th>\n",
              "      <th>cap-color</th>\n",
              "      <th>bruises</th>\n",
              "      <th>odor(flavor)</th>\n",
              "      <th>gill-attachment</th>\n",
              "      <th>gill-size</th>\n",
              "      <th>stalk-shape</th>\n",
              "      <th>stalk-root</th>\n",
              "      <th>stalk-surface-above-ring</th>\n",
              "      <th>stalk-surface-below-ring</th>\n",
              "      <th>veil-type</th>\n",
              "      <th>veil-color</th>\n",
              "      <th>ring-number</th>\n",
              "      <th>ring-type</th>\n",
              "      <th>spore-print-color</th>\n",
              "      <th>population</th>\n",
              "      <th>habitat</th>\n",
              "    </tr>\n",
              "  </thead>\n",
              "  <tbody>\n",
              "    <tr>\n",
              "      <th>0</th>\n",
              "      <td>Poisonous</td>\n",
              "      <td>Convex</td>\n",
              "      <td>Smooth</td>\n",
              "      <td>brown</td>\n",
              "      <td>Bruises</td>\n",
              "      <td>Pungent</td>\n",
              "      <td>Free</td>\n",
              "      <td>Narrow</td>\n",
              "      <td>Enlarging</td>\n",
              "      <td>Equal</td>\n",
              "      <td>Smooth</td>\n",
              "      <td>Smooth</td>\n",
              "      <td>p</td>\n",
              "      <td>w</td>\n",
              "      <td>One</td>\n",
              "      <td>p</td>\n",
              "      <td>k</td>\n",
              "      <td>Scattered</td>\n",
              "      <td>Urban</td>\n",
              "    </tr>\n",
              "    <tr>\n",
              "      <th>1</th>\n",
              "      <td>Edible</td>\n",
              "      <td>Convex</td>\n",
              "      <td>Smooth</td>\n",
              "      <td>Yellow</td>\n",
              "      <td>Bruises</td>\n",
              "      <td>Almond</td>\n",
              "      <td>Free</td>\n",
              "      <td>Broad</td>\n",
              "      <td>Enlarging</td>\n",
              "      <td>Club</td>\n",
              "      <td>Smooth</td>\n",
              "      <td>Smooth</td>\n",
              "      <td>p</td>\n",
              "      <td>w</td>\n",
              "      <td>One</td>\n",
              "      <td>p</td>\n",
              "      <td>n</td>\n",
              "      <td>Numerous</td>\n",
              "      <td>Grasses</td>\n",
              "    </tr>\n",
              "    <tr>\n",
              "      <th>2</th>\n",
              "      <td>Edible</td>\n",
              "      <td>Bell</td>\n",
              "      <td>Smooth</td>\n",
              "      <td>White</td>\n",
              "      <td>Bruises</td>\n",
              "      <td>Anise</td>\n",
              "      <td>Free</td>\n",
              "      <td>Broad</td>\n",
              "      <td>Enlarging</td>\n",
              "      <td>Club</td>\n",
              "      <td>Smooth</td>\n",
              "      <td>Smooth</td>\n",
              "      <td>p</td>\n",
              "      <td>w</td>\n",
              "      <td>One</td>\n",
              "      <td>p</td>\n",
              "      <td>n</td>\n",
              "      <td>Numerous</td>\n",
              "      <td>Meadows</td>\n",
              "    </tr>\n",
              "    <tr>\n",
              "      <th>3</th>\n",
              "      <td>Poisonous</td>\n",
              "      <td>Convex</td>\n",
              "      <td>Scaly</td>\n",
              "      <td>White</td>\n",
              "      <td>Bruises</td>\n",
              "      <td>Pungent</td>\n",
              "      <td>Free</td>\n",
              "      <td>Narrow</td>\n",
              "      <td>Enlarging</td>\n",
              "      <td>Equal</td>\n",
              "      <td>Smooth</td>\n",
              "      <td>Smooth</td>\n",
              "      <td>p</td>\n",
              "      <td>w</td>\n",
              "      <td>One</td>\n",
              "      <td>p</td>\n",
              "      <td>k</td>\n",
              "      <td>Scattered</td>\n",
              "      <td>Urban</td>\n",
              "    </tr>\n",
              "    <tr>\n",
              "      <th>4</th>\n",
              "      <td>Edible</td>\n",
              "      <td>Convex</td>\n",
              "      <td>Smooth</td>\n",
              "      <td>Gray</td>\n",
              "      <td>No</td>\n",
              "      <td>None</td>\n",
              "      <td>Free</td>\n",
              "      <td>Broad</td>\n",
              "      <td>Tapering</td>\n",
              "      <td>Equal</td>\n",
              "      <td>Smooth</td>\n",
              "      <td>Smooth</td>\n",
              "      <td>p</td>\n",
              "      <td>w</td>\n",
              "      <td>One</td>\n",
              "      <td>e</td>\n",
              "      <td>n</td>\n",
              "      <td>Abundant</td>\n",
              "      <td>Grasses</td>\n",
              "    </tr>\n",
              "    <tr>\n",
              "      <th>5</th>\n",
              "      <td>Edible</td>\n",
              "      <td>Convex</td>\n",
              "      <td>Scaly</td>\n",
              "      <td>Yellow</td>\n",
              "      <td>Bruises</td>\n",
              "      <td>Almond</td>\n",
              "      <td>Free</td>\n",
              "      <td>Broad</td>\n",
              "      <td>Enlarging</td>\n",
              "      <td>Club</td>\n",
              "      <td>Smooth</td>\n",
              "      <td>Smooth</td>\n",
              "      <td>p</td>\n",
              "      <td>w</td>\n",
              "      <td>One</td>\n",
              "      <td>p</td>\n",
              "      <td>k</td>\n",
              "      <td>Numerous</td>\n",
              "      <td>Grasses</td>\n",
              "    </tr>\n",
              "    <tr>\n",
              "      <th>6</th>\n",
              "      <td>Edible</td>\n",
              "      <td>Bell</td>\n",
              "      <td>Smooth</td>\n",
              "      <td>White</td>\n",
              "      <td>Bruises</td>\n",
              "      <td>Almond</td>\n",
              "      <td>Free</td>\n",
              "      <td>Broad</td>\n",
              "      <td>Enlarging</td>\n",
              "      <td>Club</td>\n",
              "      <td>Smooth</td>\n",
              "      <td>Smooth</td>\n",
              "      <td>p</td>\n",
              "      <td>w</td>\n",
              "      <td>One</td>\n",
              "      <td>p</td>\n",
              "      <td>k</td>\n",
              "      <td>Numerous</td>\n",
              "      <td>Meadows</td>\n",
              "    </tr>\n",
              "    <tr>\n",
              "      <th>7</th>\n",
              "      <td>Edible</td>\n",
              "      <td>Bell</td>\n",
              "      <td>Scaly</td>\n",
              "      <td>White</td>\n",
              "      <td>Bruises</td>\n",
              "      <td>Anise</td>\n",
              "      <td>Free</td>\n",
              "      <td>Broad</td>\n",
              "      <td>Enlarging</td>\n",
              "      <td>Club</td>\n",
              "      <td>Smooth</td>\n",
              "      <td>Smooth</td>\n",
              "      <td>p</td>\n",
              "      <td>w</td>\n",
              "      <td>One</td>\n",
              "      <td>p</td>\n",
              "      <td>n</td>\n",
              "      <td>Scattered</td>\n",
              "      <td>Meadows</td>\n",
              "    </tr>\n",
              "    <tr>\n",
              "      <th>8</th>\n",
              "      <td>Poisonous</td>\n",
              "      <td>Convex</td>\n",
              "      <td>Scaly</td>\n",
              "      <td>White</td>\n",
              "      <td>Bruises</td>\n",
              "      <td>Pungent</td>\n",
              "      <td>Free</td>\n",
              "      <td>Narrow</td>\n",
              "      <td>Enlarging</td>\n",
              "      <td>Equal</td>\n",
              "      <td>Smooth</td>\n",
              "      <td>Smooth</td>\n",
              "      <td>p</td>\n",
              "      <td>w</td>\n",
              "      <td>One</td>\n",
              "      <td>p</td>\n",
              "      <td>k</td>\n",
              "      <td>Several</td>\n",
              "      <td>Grasses</td>\n",
              "    </tr>\n",
              "    <tr>\n",
              "      <th>9</th>\n",
              "      <td>Edible</td>\n",
              "      <td>Bell</td>\n",
              "      <td>Smooth</td>\n",
              "      <td>Yellow</td>\n",
              "      <td>Bruises</td>\n",
              "      <td>Almond</td>\n",
              "      <td>Free</td>\n",
              "      <td>Broad</td>\n",
              "      <td>Enlarging</td>\n",
              "      <td>Club</td>\n",
              "      <td>Smooth</td>\n",
              "      <td>Smooth</td>\n",
              "      <td>p</td>\n",
              "      <td>w</td>\n",
              "      <td>One</td>\n",
              "      <td>p</td>\n",
              "      <td>k</td>\n",
              "      <td>Scattered</td>\n",
              "      <td>Meadows</td>\n",
              "    </tr>\n",
              "    <tr>\n",
              "      <th>10</th>\n",
              "      <td>Edible</td>\n",
              "      <td>Convex</td>\n",
              "      <td>Scaly</td>\n",
              "      <td>Yellow</td>\n",
              "      <td>Bruises</td>\n",
              "      <td>Anise</td>\n",
              "      <td>Free</td>\n",
              "      <td>Broad</td>\n",
              "      <td>Enlarging</td>\n",
              "      <td>Club</td>\n",
              "      <td>Smooth</td>\n",
              "      <td>Smooth</td>\n",
              "      <td>p</td>\n",
              "      <td>w</td>\n",
              "      <td>One</td>\n",
              "      <td>p</td>\n",
              "      <td>n</td>\n",
              "      <td>Numerous</td>\n",
              "      <td>Grasses</td>\n",
              "    </tr>\n",
              "  </tbody>\n",
              "</table>\n",
              "</div>\n",
              "      <button class=\"colab-df-convert\" onclick=\"convertToInteractive('df-00ed5cbb-9b54-44e8-85d3-7a9e706b4c67')\"\n",
              "              title=\"Convert this dataframe to an interactive table.\"\n",
              "              style=\"display:none;\">\n",
              "        \n",
              "  <svg xmlns=\"http://www.w3.org/2000/svg\" height=\"24px\"viewBox=\"0 0 24 24\"\n",
              "       width=\"24px\">\n",
              "    <path d=\"M0 0h24v24H0V0z\" fill=\"none\"/>\n",
              "    <path d=\"M18.56 5.44l.94 2.06.94-2.06 2.06-.94-2.06-.94-.94-2.06-.94 2.06-2.06.94zm-11 1L8.5 8.5l.94-2.06 2.06-.94-2.06-.94L8.5 2.5l-.94 2.06-2.06.94zm10 10l.94 2.06.94-2.06 2.06-.94-2.06-.94-.94-2.06-.94 2.06-2.06.94z\"/><path d=\"M17.41 7.96l-1.37-1.37c-.4-.4-.92-.59-1.43-.59-.52 0-1.04.2-1.43.59L10.3 9.45l-7.72 7.72c-.78.78-.78 2.05 0 2.83L4 21.41c.39.39.9.59 1.41.59.51 0 1.02-.2 1.41-.59l7.78-7.78 2.81-2.81c.8-.78.8-2.07 0-2.86zM5.41 20L4 18.59l7.72-7.72 1.47 1.35L5.41 20z\"/>\n",
              "  </svg>\n",
              "      </button>\n",
              "      \n",
              "  <style>\n",
              "    .colab-df-container {\n",
              "      display:flex;\n",
              "      flex-wrap:wrap;\n",
              "      gap: 12px;\n",
              "    }\n",
              "\n",
              "    .colab-df-convert {\n",
              "      background-color: #E8F0FE;\n",
              "      border: none;\n",
              "      border-radius: 50%;\n",
              "      cursor: pointer;\n",
              "      display: none;\n",
              "      fill: #1967D2;\n",
              "      height: 32px;\n",
              "      padding: 0 0 0 0;\n",
              "      width: 32px;\n",
              "    }\n",
              "\n",
              "    .colab-df-convert:hover {\n",
              "      background-color: #E2EBFA;\n",
              "      box-shadow: 0px 1px 2px rgba(60, 64, 67, 0.3), 0px 1px 3px 1px rgba(60, 64, 67, 0.15);\n",
              "      fill: #174EA6;\n",
              "    }\n",
              "\n",
              "    [theme=dark] .colab-df-convert {\n",
              "      background-color: #3B4455;\n",
              "      fill: #D2E3FC;\n",
              "    }\n",
              "\n",
              "    [theme=dark] .colab-df-convert:hover {\n",
              "      background-color: #434B5C;\n",
              "      box-shadow: 0px 1px 3px 1px rgba(0, 0, 0, 0.15);\n",
              "      filter: drop-shadow(0px 1px 2px rgba(0, 0, 0, 0.3));\n",
              "      fill: #FFFFFF;\n",
              "    }\n",
              "  </style>\n",
              "\n",
              "      <script>\n",
              "        const buttonEl =\n",
              "          document.querySelector('#df-00ed5cbb-9b54-44e8-85d3-7a9e706b4c67 button.colab-df-convert');\n",
              "        buttonEl.style.display =\n",
              "          google.colab.kernel.accessAllowed ? 'block' : 'none';\n",
              "\n",
              "        async function convertToInteractive(key) {\n",
              "          const element = document.querySelector('#df-00ed5cbb-9b54-44e8-85d3-7a9e706b4c67');\n",
              "          const dataTable =\n",
              "            await google.colab.kernel.invokeFunction('convertToInteractive',\n",
              "                                                     [key], {});\n",
              "          if (!dataTable) return;\n",
              "\n",
              "          const docLinkHtml = 'Like what you see? Visit the ' +\n",
              "            '<a target=\"_blank\" href=https://colab.research.google.com/notebooks/data_table.ipynb>data table notebook</a>'\n",
              "            + ' to learn more about interactive tables.';\n",
              "          element.innerHTML = '';\n",
              "          dataTable['output_type'] = 'display_data';\n",
              "          await google.colab.output.renderOutput(dataTable, element);\n",
              "          const docLink = document.createElement('div');\n",
              "          docLink.innerHTML = docLinkHtml;\n",
              "          element.appendChild(docLink);\n",
              "        }\n",
              "      </script>\n",
              "    </div>\n",
              "  </div>\n",
              "  "
            ]
          },
          "metadata": {},
          "execution_count": 67
        }
      ]
    },
    {
      "cell_type": "code",
      "source": [
        "df['habitat'].value_counts()"
      ],
      "metadata": {
        "colab": {
          "base_uri": "https://localhost:8080/"
        },
        "id": "lgs5imQzeXIc",
        "outputId": "3819507e-7a01-4b08-f460-646400121c99"
      },
      "execution_count": 68,
      "outputs": [
        {
          "output_type": "execute_result",
          "data": {
            "text/plain": [
              "Woods      3148\n",
              "Grasses    2148\n",
              "Paths      1144\n",
              "Leaves      832\n",
              "Urban       368\n",
              "Meadows     292\n",
              "Waste       192\n",
              "Name: habitat, dtype: int64"
            ]
          },
          "metadata": {},
          "execution_count": 68
        }
      ]
    },
    {
      "cell_type": "code",
      "source": [
        "df['class'].value_counts()"
      ],
      "metadata": {
        "colab": {
          "base_uri": "https://localhost:8080/"
        },
        "id": "qGRv7jjeehdC",
        "outputId": "5f82f2a2-e233-4edb-b612-fa8f1eb241ab"
      },
      "execution_count": 69,
      "outputs": [
        {
          "output_type": "execute_result",
          "data": {
            "text/plain": [
              "Edible       4208\n",
              "Poisonous    3916\n",
              "Name: class, dtype: int64"
            ]
          },
          "metadata": {},
          "execution_count": 69
        }
      ]
    },
    {
      "cell_type": "code",
      "source": [
        "class_edible = df[df['class']!=\"Poisonous\"]\n",
        "class_poisonous = df[df['class']!=\"Edible\"]\n",
        "\n",
        "edible_habitat = class_edible['habitat'].value_counts()/class_edible['habitat'].value_counts().sum()*100\n",
        "poisonous_habitat = class_poisonous['habitat'].value_counts()/class_poisonous['habitat'].value_counts().sum()*100"
      ],
      "metadata": {
        "id": "XTDwigpZf8jh"
      },
      "execution_count": 70,
      "outputs": []
    },
    {
      "cell_type": "code",
      "source": [
        "print(\"Distribution of Edible class mushrooms who is belongs to different habbitats :\\n{}\".format(edible_habitat))\n",
        "print(\"\\nDistribution of Poisonous class mushrooms who is belongs to different habbitats :\\n{}\".format(poisonous_habitat))\n",
        "\n",
        "print('\\nDisclaimer : -  There are total 44 % of edible mushrooms whose habitat is woods and there are total 32 % of poisonous mushroom whose also habitat is woods\\n\\t\\t although we have to cautios about that not all edible mushroom grow on woods.')"
      ],
      "metadata": {
        "colab": {
          "base_uri": "https://localhost:8080/"
        },
        "id": "s3JpcZCQjgtV",
        "outputId": "73abca55-1318-42c7-99b3-443be70f1576"
      },
      "execution_count": 71,
      "outputs": [
        {
          "output_type": "stream",
          "name": "stdout",
          "text": [
            "Distribution of Edible class mushrooms who is belongs to different habbitats :\n",
            "Woods      44.676806\n",
            "Grasses    33.460076\n",
            "Meadows     6.083650\n",
            "Leaves      5.703422\n",
            "Waste       4.562738\n",
            "Paths       3.231939\n",
            "Urban       2.281369\n",
            "Name: habitat, dtype: float64\n",
            "\n",
            "Distribution of Poisonous class mushrooms who is belongs to different habbitats :\n",
            "Woods      32.379980\n",
            "Paths      25.740552\n",
            "Grasses    18.896834\n",
            "Leaves     15.117467\n",
            "Urban       6.945863\n",
            "Meadows     0.919305\n",
            "Name: habitat, dtype: float64\n",
            "\n",
            "Disclaimer : -  There are total 44 % of edible mushrooms whose habitat is woods and there are total 32 % of poisonous mushroom whose also habitat is woods\n",
            "\t\t although we have to cautios about that not all edible mushroom grow on woods.\n"
          ]
        }
      ]
    },
    {
      "cell_type": "code",
      "source": [
        "edible_flavor = class_edible['odor(flavor)'].value_counts()/class_edible['odor(flavor)'].value_counts().sum()*100\n",
        "poisonous_flavor = class_poisonous['odor(flavor)'].value_counts()/class_poisonous['odor(flavor)'].value_counts().sum()*100\n",
        "\n",
        "print(\"\\nEdible mushrooms and thier taste or flavor :\\n{}\".format(edible_flavor))\n",
        "print(\"\\nPoisonous mushrooms and thier taste or flavor :\\n{}\".format(poisonous_flavor))"
      ],
      "metadata": {
        "colab": {
          "base_uri": "https://localhost:8080/"
        },
        "id": "MDO-H_aPjfZj",
        "outputId": "3afa1458-c992-468d-e2a5-9da8c1f832a3"
      },
      "execution_count": 72,
      "outputs": [
        {
          "output_type": "stream",
          "name": "stdout",
          "text": [
            "\n",
            "Edible mushrooms and thier taste or flavor :\n",
            "None      80.988593\n",
            "Almond     9.505703\n",
            "Anise      9.505703\n",
            "Name: odor(flavor), dtype: float64\n",
            "\n",
            "Poisonous mushrooms and thier taste or flavor :\n",
            "Foul        55.158325\n",
            "Flishy      14.708887\n",
            "Spicy       14.708887\n",
            "Pungent      6.537283\n",
            "Creosote     4.902962\n",
            "None         3.064351\n",
            "Musty        0.919305\n",
            "Name: odor(flavor), dtype: float64\n"
          ]
        }
      ]
    },
    {
      "cell_type": "code",
      "source": [
        "df['population'].value_counts()"
      ],
      "metadata": {
        "colab": {
          "base_uri": "https://localhost:8080/"
        },
        "id": "c0_UCAZI4s5n",
        "outputId": "6263d963-3975-445f-aaae-8f8ebd2d2088"
      },
      "execution_count": 73,
      "outputs": [
        {
          "output_type": "execute_result",
          "data": {
            "text/plain": [
              "Several      4040\n",
              "Solitary     1712\n",
              "Scattered    1248\n",
              "Numerous      400\n",
              "Abundant      384\n",
              "Clustered     340\n",
              "Name: population, dtype: int64"
            ]
          },
          "metadata": {},
          "execution_count": 73
        }
      ]
    },
    {
      "cell_type": "code",
      "source": [
        "edible_population = class_edible['population'].value_counts()/class_edible['population'].value_counts().sum()*100\n",
        "poisonous_population = class_poisonous['population'].value_counts()/class_poisonous['population'].value_counts().sum()*100\n",
        "\n",
        "print(\"Distribution of edible mushrooms who is belongs to different population :\\n{}\".format(edible_population))\n",
        "print(\"\\nDistribution of Poisonous mushrooms who is belongs to different population :\\n{}\".format(poisonous_population))"
      ],
      "metadata": {
        "colab": {
          "base_uri": "https://localhost:8080/"
        },
        "id": "h9bCs4Se7uzr",
        "outputId": "b307cfdd-2b43-45ef-e1a1-d2d051e2e450"
      },
      "execution_count": 74,
      "outputs": [
        {
          "output_type": "stream",
          "name": "stdout",
          "text": [
            "Distribution of edible mushrooms who is belongs to different population :\n",
            "Several      28.326996\n",
            "Solitary     25.285171\n",
            "Scattered    20.912548\n",
            "Numerous      9.505703\n",
            "Abundant      9.125475\n",
            "Clustered     6.844106\n",
            "Name: population, dtype: float64\n",
            "\n",
            "Distribution of Poisonous mushrooms who is belongs to different population :\n",
            "Several      72.727273\n",
            "Solitary     16.547497\n",
            "Scattered     9.397344\n",
            "Clustered     1.327886\n",
            "Name: population, dtype: float64\n"
          ]
        }
      ]
    },
    {
      "cell_type": "code",
      "source": [
        "df.groupby(['class'])['cap-color'].value_counts()"
      ],
      "metadata": {
        "colab": {
          "base_uri": "https://localhost:8080/"
        },
        "id": "8bB7oogRAC7n",
        "outputId": "325250bf-2be7-4460-b381-071b80a5c2da"
      },
      "execution_count": 75,
      "outputs": [
        {
          "output_type": "execute_result",
          "data": {
            "text/plain": [
              "class      cap-color\n",
              "Edible     brown        1264\n",
              "           Gray         1032\n",
              "           White         720\n",
              "           Red           624\n",
              "           Yellow        400\n",
              "           Pink           56\n",
              "           Buff           48\n",
              "           cinnamon       32\n",
              "           Green          16\n",
              "           Purple         16\n",
              "Poisonous  brown        1020\n",
              "           Red           876\n",
              "           Gray          808\n",
              "           Yellow        672\n",
              "           White         320\n",
              "           Buff          120\n",
              "           Pink           88\n",
              "           cinnamon       12\n",
              "Name: cap-color, dtype: int64"
            ]
          },
          "metadata": {},
          "execution_count": 75
        }
      ]
    },
    {
      "cell_type": "code",
      "source": [
        "print(\"There are total\",len(df),\"data present in our dataframe in which\\n\")\n",
        "print(\"There are total\",len(class_edible)/len(df)*100,\" percent of data belongs to Edible mushroom group\\n\")\n",
        "print(\"There is total\",len(class_poisonous)/len(df)*100,\"percent of data belongs to Poisonous mushroom group\")"
      ],
      "metadata": {
        "colab": {
          "base_uri": "https://localhost:8080/"
        },
        "id": "WEwySFp7CJYx",
        "outputId": "97f35781-c5bb-4a6b-8371-52b0ffd74792"
      },
      "execution_count": 76,
      "outputs": [
        {
          "output_type": "stream",
          "name": "stdout",
          "text": [
            "There are total 8124 data present in our dataframe in which\n",
            "\n",
            "There are total 51.7971442639094  percent of data belongs to Edible mushroom group\n",
            "\n",
            "There is total 48.20285573609059 percent of data belongs to Poisonous mushroom group\n"
          ]
        }
      ]
    },
    {
      "cell_type": "code",
      "source": [
        "df['cap-shape'].value_counts()"
      ],
      "metadata": {
        "colab": {
          "base_uri": "https://localhost:8080/"
        },
        "id": "zJKiZLUHFhdk",
        "outputId": "38fcb62e-34d8-4eef-9c58-48e13babdc69"
      },
      "execution_count": 77,
      "outputs": [
        {
          "output_type": "execute_result",
          "data": {
            "text/plain": [
              "Convex     3656\n",
              "Flat       3152\n",
              "Knobbed     828\n",
              "Bell        452\n",
              "Sunken       32\n",
              "Conical       4\n",
              "Name: cap-shape, dtype: int64"
            ]
          },
          "metadata": {},
          "execution_count": 77
        }
      ]
    },
    {
      "cell_type": "code",
      "source": [
        "edible_cap = class_edible['cap-shape'].value_counts()/class_edible['cap-shape'].value_counts().sum()*100\n",
        "poisonoue_cap = class_poisonous['cap-shape'].value_counts()/class_poisonous['cap-shape'].value_counts().sum()*100\n",
        "\n",
        "print(\"Identify edlible mushrooms who's belong to different types of cap-shape:\\n{}\".format(edible_cap))\n",
        "print(\"\\nIdentify Poisonous mushrooms who's belong to different types of cap-shape :\\n{}\".format(poisonoue_cap))\n"
      ],
      "metadata": {
        "colab": {
          "base_uri": "https://localhost:8080/"
        },
        "id": "A5B_3SunKVh6",
        "outputId": "375888f3-dc0c-455e-986b-c1004e836b54"
      },
      "execution_count": 78,
      "outputs": [
        {
          "output_type": "stream",
          "name": "stdout",
          "text": [
            "Identify edlible mushrooms who's belong to different types of cap-shape:\n",
            "Convex     46.292776\n",
            "Flat       37.927757\n",
            "Bell        9.600760\n",
            "Knobbed     5.418251\n",
            "Sunken      0.760456\n",
            "Name: cap-shape, dtype: float64\n",
            "\n",
            "Identify Poisonous mushrooms who's belong to different types of cap-shape :\n",
            "Convex     43.615935\n",
            "Flat       39.734423\n",
            "Knobbed    15.321757\n",
            "Bell        1.225741\n",
            "Conical     0.102145\n",
            "Name: cap-shape, dtype: float64\n"
          ]
        }
      ]
    },
    {
      "cell_type": "code",
      "source": [
        "df['habitat'].value_counts()"
      ],
      "metadata": {
        "id": "dYg_e0PxL30V",
        "colab": {
          "base_uri": "https://localhost:8080/"
        },
        "outputId": "183ef231-0b87-43d6-f3ee-4f0fe74a1297"
      },
      "execution_count": 79,
      "outputs": [
        {
          "output_type": "execute_result",
          "data": {
            "text/plain": [
              "Woods      3148\n",
              "Grasses    2148\n",
              "Paths      1144\n",
              "Leaves      832\n",
              "Urban       368\n",
              "Meadows     292\n",
              "Waste       192\n",
              "Name: habitat, dtype: int64"
            ]
          },
          "metadata": {},
          "execution_count": 79
        }
      ]
    },
    {
      "cell_type": "code",
      "source": [
        "df['odor(flavor)'].value_counts()"
      ],
      "metadata": {
        "colab": {
          "base_uri": "https://localhost:8080/"
        },
        "id": "xWJtnYj3dvYY",
        "outputId": "f56d50a5-b203-4ce6-c899-61675c3d1199"
      },
      "execution_count": 80,
      "outputs": [
        {
          "output_type": "execute_result",
          "data": {
            "text/plain": [
              "None        3528\n",
              "Foul        2160\n",
              "Flishy       576\n",
              "Spicy        576\n",
              "Almond       400\n",
              "Anise        400\n",
              "Pungent      256\n",
              "Creosote     192\n",
              "Musty         36\n",
              "Name: odor(flavor), dtype: int64"
            ]
          },
          "metadata": {},
          "execution_count": 80
        }
      ]
    },
    {
      "cell_type": "code",
      "source": [
        "(df.groupby(['habitat','odor(flavor)'])['odor(flavor)'].count()/df.groupby(['habitat','odor(flavor)'])['odor(flavor)'].count().sum())*100"
      ],
      "metadata": {
        "colab": {
          "base_uri": "https://localhost:8080/"
        },
        "id": "wiRoy5mTd0H_",
        "outputId": "cd02b730-0a4a-487f-adcc-f6f9d9b762be"
      },
      "execution_count": 81,
      "outputs": [
        {
          "output_type": "execute_result",
          "data": {
            "text/plain": [
              "habitat  odor(flavor)\n",
              "Grasses  Almond           2.166420\n",
              "         Anise            2.166420\n",
              "         Foul             7.090103\n",
              "         None            13.441654\n",
              "         Pungent          1.575579\n",
              "Leaves   Flishy           2.363368\n",
              "         Foul             2.363368\n",
              "         None             3.151157\n",
              "         Spicy            2.363368\n",
              "Meadows  Almond           1.575579\n",
              "         Anise            1.575579\n",
              "         None             0.443131\n",
              "Paths    Almond           0.590842\n",
              "         Anise            0.590842\n",
              "         Flishy           2.363368\n",
              "         Foul             7.680945\n",
              "         None             0.492368\n",
              "         Spicy            2.363368\n",
              "Urban    Foul             1.772526\n",
              "         None             1.181684\n",
              "         Pungent          1.575579\n",
              "Waste    None             2.363368\n",
              "Woods    Almond           0.590842\n",
              "         Anise            0.590842\n",
              "         Creosote         2.363368\n",
              "         Flishy           2.363368\n",
              "         Foul             7.680945\n",
              "         Musty            0.443131\n",
              "         None            22.353520\n",
              "         Spicy            2.363368\n",
              "Name: odor(flavor), dtype: float64"
            ]
          },
          "metadata": {},
          "execution_count": 81
        }
      ]
    },
    {
      "cell_type": "code",
      "source": [],
      "metadata": {
        "id": "U5Fwq-4kf5ub"
      },
      "execution_count": 81,
      "outputs": []
    },
    {
      "cell_type": "markdown",
      "source": [
        "# ***Visualization***"
      ],
      "metadata": {
        "id": "7XRnHJmCgdqy"
      }
    },
    {
      "cell_type": "code",
      "source": [
        "df"
      ],
      "metadata": {
        "colab": {
          "base_uri": "https://localhost:8080/",
          "height": 540
        },
        "id": "kUU1AeHygh7B",
        "outputId": "a9a274f3-4f04-4da7-b1e7-5eee6dad88ba"
      },
      "execution_count": 82,
      "outputs": [
        {
          "output_type": "execute_result",
          "data": {
            "text/plain": [
              "          class cap-shape cap-surface cap-color  bruises odor(flavor)  \\\n",
              "0     Poisonous    Convex      Smooth     brown  Bruises      Pungent   \n",
              "1        Edible    Convex      Smooth    Yellow  Bruises       Almond   \n",
              "2        Edible      Bell      Smooth     White  Bruises        Anise   \n",
              "3     Poisonous    Convex       Scaly     White  Bruises      Pungent   \n",
              "4        Edible    Convex      Smooth      Gray       No         None   \n",
              "...         ...       ...         ...       ...      ...          ...   \n",
              "8119     Edible   Knobbed      Smooth     brown       No         None   \n",
              "8120     Edible    Convex      Smooth     brown       No         None   \n",
              "8121     Edible      Flat      Smooth     brown       No         None   \n",
              "8122  Poisonous   Knobbed       Scaly     brown       No       Flishy   \n",
              "8123     Edible    Convex      Smooth     brown       No         None   \n",
              "\n",
              "     gill-attachment gill-size stalk-shape stalk-root  \\\n",
              "0               Free    Narrow   Enlarging      Equal   \n",
              "1               Free     Broad   Enlarging       Club   \n",
              "2               Free     Broad   Enlarging       Club   \n",
              "3               Free    Narrow   Enlarging      Equal   \n",
              "4               Free     Broad    Tapering      Equal   \n",
              "...              ...       ...         ...        ...   \n",
              "8119        Attached     Broad   Enlarging    Missing   \n",
              "8120        Attached     Broad   Enlarging    Missing   \n",
              "8121        Attached     Broad   Enlarging    Missing   \n",
              "8122            Free    Narrow    Tapering    Missing   \n",
              "8123        Attached     Broad   Enlarging    Missing   \n",
              "\n",
              "     stalk-surface-above-ring stalk-surface-below-ring veil-type veil-color  \\\n",
              "0                      Smooth                   Smooth         p          w   \n",
              "1                      Smooth                   Smooth         p          w   \n",
              "2                      Smooth                   Smooth         p          w   \n",
              "3                      Smooth                   Smooth         p          w   \n",
              "4                      Smooth                   Smooth         p          w   \n",
              "...                       ...                      ...       ...        ...   \n",
              "8119                   Smooth                   Smooth         p          o   \n",
              "8120                   Smooth                   Smooth         p          n   \n",
              "8121                   Smooth                   Smooth         p          o   \n",
              "8122                   Smooth                    Silky         p          w   \n",
              "8123                   Smooth                   Smooth         p          o   \n",
              "\n",
              "     ring-number ring-type spore-print-color population  habitat  \n",
              "0            One         p                 k  Scattered    Urban  \n",
              "1            One         p                 n   Numerous  Grasses  \n",
              "2            One         p                 n   Numerous  Meadows  \n",
              "3            One         p                 k  Scattered    Urban  \n",
              "4            One         e                 n   Abundant  Grasses  \n",
              "...          ...       ...               ...        ...      ...  \n",
              "8119         One         p                 b  Clustered   Leaves  \n",
              "8120         One         p                 b    Several   Leaves  \n",
              "8121         One         p                 b  Clustered   Leaves  \n",
              "8122         One         e                 w    Several   Leaves  \n",
              "8123         One         p                 o  Clustered   Leaves  \n",
              "\n",
              "[8124 rows x 19 columns]"
            ],
            "text/html": [
              "\n",
              "  <div id=\"df-d6917024-234b-4633-b675-909343cae9ce\">\n",
              "    <div class=\"colab-df-container\">\n",
              "      <div>\n",
              "<style scoped>\n",
              "    .dataframe tbody tr th:only-of-type {\n",
              "        vertical-align: middle;\n",
              "    }\n",
              "\n",
              "    .dataframe tbody tr th {\n",
              "        vertical-align: top;\n",
              "    }\n",
              "\n",
              "    .dataframe thead th {\n",
              "        text-align: right;\n",
              "    }\n",
              "</style>\n",
              "<table border=\"1\" class=\"dataframe\">\n",
              "  <thead>\n",
              "    <tr style=\"text-align: right;\">\n",
              "      <th></th>\n",
              "      <th>class</th>\n",
              "      <th>cap-shape</th>\n",
              "      <th>cap-surface</th>\n",
              "      <th>cap-color</th>\n",
              "      <th>bruises</th>\n",
              "      <th>odor(flavor)</th>\n",
              "      <th>gill-attachment</th>\n",
              "      <th>gill-size</th>\n",
              "      <th>stalk-shape</th>\n",
              "      <th>stalk-root</th>\n",
              "      <th>stalk-surface-above-ring</th>\n",
              "      <th>stalk-surface-below-ring</th>\n",
              "      <th>veil-type</th>\n",
              "      <th>veil-color</th>\n",
              "      <th>ring-number</th>\n",
              "      <th>ring-type</th>\n",
              "      <th>spore-print-color</th>\n",
              "      <th>population</th>\n",
              "      <th>habitat</th>\n",
              "    </tr>\n",
              "  </thead>\n",
              "  <tbody>\n",
              "    <tr>\n",
              "      <th>0</th>\n",
              "      <td>Poisonous</td>\n",
              "      <td>Convex</td>\n",
              "      <td>Smooth</td>\n",
              "      <td>brown</td>\n",
              "      <td>Bruises</td>\n",
              "      <td>Pungent</td>\n",
              "      <td>Free</td>\n",
              "      <td>Narrow</td>\n",
              "      <td>Enlarging</td>\n",
              "      <td>Equal</td>\n",
              "      <td>Smooth</td>\n",
              "      <td>Smooth</td>\n",
              "      <td>p</td>\n",
              "      <td>w</td>\n",
              "      <td>One</td>\n",
              "      <td>p</td>\n",
              "      <td>k</td>\n",
              "      <td>Scattered</td>\n",
              "      <td>Urban</td>\n",
              "    </tr>\n",
              "    <tr>\n",
              "      <th>1</th>\n",
              "      <td>Edible</td>\n",
              "      <td>Convex</td>\n",
              "      <td>Smooth</td>\n",
              "      <td>Yellow</td>\n",
              "      <td>Bruises</td>\n",
              "      <td>Almond</td>\n",
              "      <td>Free</td>\n",
              "      <td>Broad</td>\n",
              "      <td>Enlarging</td>\n",
              "      <td>Club</td>\n",
              "      <td>Smooth</td>\n",
              "      <td>Smooth</td>\n",
              "      <td>p</td>\n",
              "      <td>w</td>\n",
              "      <td>One</td>\n",
              "      <td>p</td>\n",
              "      <td>n</td>\n",
              "      <td>Numerous</td>\n",
              "      <td>Grasses</td>\n",
              "    </tr>\n",
              "    <tr>\n",
              "      <th>2</th>\n",
              "      <td>Edible</td>\n",
              "      <td>Bell</td>\n",
              "      <td>Smooth</td>\n",
              "      <td>White</td>\n",
              "      <td>Bruises</td>\n",
              "      <td>Anise</td>\n",
              "      <td>Free</td>\n",
              "      <td>Broad</td>\n",
              "      <td>Enlarging</td>\n",
              "      <td>Club</td>\n",
              "      <td>Smooth</td>\n",
              "      <td>Smooth</td>\n",
              "      <td>p</td>\n",
              "      <td>w</td>\n",
              "      <td>One</td>\n",
              "      <td>p</td>\n",
              "      <td>n</td>\n",
              "      <td>Numerous</td>\n",
              "      <td>Meadows</td>\n",
              "    </tr>\n",
              "    <tr>\n",
              "      <th>3</th>\n",
              "      <td>Poisonous</td>\n",
              "      <td>Convex</td>\n",
              "      <td>Scaly</td>\n",
              "      <td>White</td>\n",
              "      <td>Bruises</td>\n",
              "      <td>Pungent</td>\n",
              "      <td>Free</td>\n",
              "      <td>Narrow</td>\n",
              "      <td>Enlarging</td>\n",
              "      <td>Equal</td>\n",
              "      <td>Smooth</td>\n",
              "      <td>Smooth</td>\n",
              "      <td>p</td>\n",
              "      <td>w</td>\n",
              "      <td>One</td>\n",
              "      <td>p</td>\n",
              "      <td>k</td>\n",
              "      <td>Scattered</td>\n",
              "      <td>Urban</td>\n",
              "    </tr>\n",
              "    <tr>\n",
              "      <th>4</th>\n",
              "      <td>Edible</td>\n",
              "      <td>Convex</td>\n",
              "      <td>Smooth</td>\n",
              "      <td>Gray</td>\n",
              "      <td>No</td>\n",
              "      <td>None</td>\n",
              "      <td>Free</td>\n",
              "      <td>Broad</td>\n",
              "      <td>Tapering</td>\n",
              "      <td>Equal</td>\n",
              "      <td>Smooth</td>\n",
              "      <td>Smooth</td>\n",
              "      <td>p</td>\n",
              "      <td>w</td>\n",
              "      <td>One</td>\n",
              "      <td>e</td>\n",
              "      <td>n</td>\n",
              "      <td>Abundant</td>\n",
              "      <td>Grasses</td>\n",
              "    </tr>\n",
              "    <tr>\n",
              "      <th>...</th>\n",
              "      <td>...</td>\n",
              "      <td>...</td>\n",
              "      <td>...</td>\n",
              "      <td>...</td>\n",
              "      <td>...</td>\n",
              "      <td>...</td>\n",
              "      <td>...</td>\n",
              "      <td>...</td>\n",
              "      <td>...</td>\n",
              "      <td>...</td>\n",
              "      <td>...</td>\n",
              "      <td>...</td>\n",
              "      <td>...</td>\n",
              "      <td>...</td>\n",
              "      <td>...</td>\n",
              "      <td>...</td>\n",
              "      <td>...</td>\n",
              "      <td>...</td>\n",
              "      <td>...</td>\n",
              "    </tr>\n",
              "    <tr>\n",
              "      <th>8119</th>\n",
              "      <td>Edible</td>\n",
              "      <td>Knobbed</td>\n",
              "      <td>Smooth</td>\n",
              "      <td>brown</td>\n",
              "      <td>No</td>\n",
              "      <td>None</td>\n",
              "      <td>Attached</td>\n",
              "      <td>Broad</td>\n",
              "      <td>Enlarging</td>\n",
              "      <td>Missing</td>\n",
              "      <td>Smooth</td>\n",
              "      <td>Smooth</td>\n",
              "      <td>p</td>\n",
              "      <td>o</td>\n",
              "      <td>One</td>\n",
              "      <td>p</td>\n",
              "      <td>b</td>\n",
              "      <td>Clustered</td>\n",
              "      <td>Leaves</td>\n",
              "    </tr>\n",
              "    <tr>\n",
              "      <th>8120</th>\n",
              "      <td>Edible</td>\n",
              "      <td>Convex</td>\n",
              "      <td>Smooth</td>\n",
              "      <td>brown</td>\n",
              "      <td>No</td>\n",
              "      <td>None</td>\n",
              "      <td>Attached</td>\n",
              "      <td>Broad</td>\n",
              "      <td>Enlarging</td>\n",
              "      <td>Missing</td>\n",
              "      <td>Smooth</td>\n",
              "      <td>Smooth</td>\n",
              "      <td>p</td>\n",
              "      <td>n</td>\n",
              "      <td>One</td>\n",
              "      <td>p</td>\n",
              "      <td>b</td>\n",
              "      <td>Several</td>\n",
              "      <td>Leaves</td>\n",
              "    </tr>\n",
              "    <tr>\n",
              "      <th>8121</th>\n",
              "      <td>Edible</td>\n",
              "      <td>Flat</td>\n",
              "      <td>Smooth</td>\n",
              "      <td>brown</td>\n",
              "      <td>No</td>\n",
              "      <td>None</td>\n",
              "      <td>Attached</td>\n",
              "      <td>Broad</td>\n",
              "      <td>Enlarging</td>\n",
              "      <td>Missing</td>\n",
              "      <td>Smooth</td>\n",
              "      <td>Smooth</td>\n",
              "      <td>p</td>\n",
              "      <td>o</td>\n",
              "      <td>One</td>\n",
              "      <td>p</td>\n",
              "      <td>b</td>\n",
              "      <td>Clustered</td>\n",
              "      <td>Leaves</td>\n",
              "    </tr>\n",
              "    <tr>\n",
              "      <th>8122</th>\n",
              "      <td>Poisonous</td>\n",
              "      <td>Knobbed</td>\n",
              "      <td>Scaly</td>\n",
              "      <td>brown</td>\n",
              "      <td>No</td>\n",
              "      <td>Flishy</td>\n",
              "      <td>Free</td>\n",
              "      <td>Narrow</td>\n",
              "      <td>Tapering</td>\n",
              "      <td>Missing</td>\n",
              "      <td>Smooth</td>\n",
              "      <td>Silky</td>\n",
              "      <td>p</td>\n",
              "      <td>w</td>\n",
              "      <td>One</td>\n",
              "      <td>e</td>\n",
              "      <td>w</td>\n",
              "      <td>Several</td>\n",
              "      <td>Leaves</td>\n",
              "    </tr>\n",
              "    <tr>\n",
              "      <th>8123</th>\n",
              "      <td>Edible</td>\n",
              "      <td>Convex</td>\n",
              "      <td>Smooth</td>\n",
              "      <td>brown</td>\n",
              "      <td>No</td>\n",
              "      <td>None</td>\n",
              "      <td>Attached</td>\n",
              "      <td>Broad</td>\n",
              "      <td>Enlarging</td>\n",
              "      <td>Missing</td>\n",
              "      <td>Smooth</td>\n",
              "      <td>Smooth</td>\n",
              "      <td>p</td>\n",
              "      <td>o</td>\n",
              "      <td>One</td>\n",
              "      <td>p</td>\n",
              "      <td>o</td>\n",
              "      <td>Clustered</td>\n",
              "      <td>Leaves</td>\n",
              "    </tr>\n",
              "  </tbody>\n",
              "</table>\n",
              "<p>8124 rows × 19 columns</p>\n",
              "</div>\n",
              "      <button class=\"colab-df-convert\" onclick=\"convertToInteractive('df-d6917024-234b-4633-b675-909343cae9ce')\"\n",
              "              title=\"Convert this dataframe to an interactive table.\"\n",
              "              style=\"display:none;\">\n",
              "        \n",
              "  <svg xmlns=\"http://www.w3.org/2000/svg\" height=\"24px\"viewBox=\"0 0 24 24\"\n",
              "       width=\"24px\">\n",
              "    <path d=\"M0 0h24v24H0V0z\" fill=\"none\"/>\n",
              "    <path d=\"M18.56 5.44l.94 2.06.94-2.06 2.06-.94-2.06-.94-.94-2.06-.94 2.06-2.06.94zm-11 1L8.5 8.5l.94-2.06 2.06-.94-2.06-.94L8.5 2.5l-.94 2.06-2.06.94zm10 10l.94 2.06.94-2.06 2.06-.94-2.06-.94-.94-2.06-.94 2.06-2.06.94z\"/><path d=\"M17.41 7.96l-1.37-1.37c-.4-.4-.92-.59-1.43-.59-.52 0-1.04.2-1.43.59L10.3 9.45l-7.72 7.72c-.78.78-.78 2.05 0 2.83L4 21.41c.39.39.9.59 1.41.59.51 0 1.02-.2 1.41-.59l7.78-7.78 2.81-2.81c.8-.78.8-2.07 0-2.86zM5.41 20L4 18.59l7.72-7.72 1.47 1.35L5.41 20z\"/>\n",
              "  </svg>\n",
              "      </button>\n",
              "      \n",
              "  <style>\n",
              "    .colab-df-container {\n",
              "      display:flex;\n",
              "      flex-wrap:wrap;\n",
              "      gap: 12px;\n",
              "    }\n",
              "\n",
              "    .colab-df-convert {\n",
              "      background-color: #E8F0FE;\n",
              "      border: none;\n",
              "      border-radius: 50%;\n",
              "      cursor: pointer;\n",
              "      display: none;\n",
              "      fill: #1967D2;\n",
              "      height: 32px;\n",
              "      padding: 0 0 0 0;\n",
              "      width: 32px;\n",
              "    }\n",
              "\n",
              "    .colab-df-convert:hover {\n",
              "      background-color: #E2EBFA;\n",
              "      box-shadow: 0px 1px 2px rgba(60, 64, 67, 0.3), 0px 1px 3px 1px rgba(60, 64, 67, 0.15);\n",
              "      fill: #174EA6;\n",
              "    }\n",
              "\n",
              "    [theme=dark] .colab-df-convert {\n",
              "      background-color: #3B4455;\n",
              "      fill: #D2E3FC;\n",
              "    }\n",
              "\n",
              "    [theme=dark] .colab-df-convert:hover {\n",
              "      background-color: #434B5C;\n",
              "      box-shadow: 0px 1px 3px 1px rgba(0, 0, 0, 0.15);\n",
              "      filter: drop-shadow(0px 1px 2px rgba(0, 0, 0, 0.3));\n",
              "      fill: #FFFFFF;\n",
              "    }\n",
              "  </style>\n",
              "\n",
              "      <script>\n",
              "        const buttonEl =\n",
              "          document.querySelector('#df-d6917024-234b-4633-b675-909343cae9ce button.colab-df-convert');\n",
              "        buttonEl.style.display =\n",
              "          google.colab.kernel.accessAllowed ? 'block' : 'none';\n",
              "\n",
              "        async function convertToInteractive(key) {\n",
              "          const element = document.querySelector('#df-d6917024-234b-4633-b675-909343cae9ce');\n",
              "          const dataTable =\n",
              "            await google.colab.kernel.invokeFunction('convertToInteractive',\n",
              "                                                     [key], {});\n",
              "          if (!dataTable) return;\n",
              "\n",
              "          const docLinkHtml = 'Like what you see? Visit the ' +\n",
              "            '<a target=\"_blank\" href=https://colab.research.google.com/notebooks/data_table.ipynb>data table notebook</a>'\n",
              "            + ' to learn more about interactive tables.';\n",
              "          element.innerHTML = '';\n",
              "          dataTable['output_type'] = 'display_data';\n",
              "          await google.colab.output.renderOutput(dataTable, element);\n",
              "          const docLink = document.createElement('div');\n",
              "          docLink.innerHTML = docLinkHtml;\n",
              "          element.appendChild(docLink);\n",
              "        }\n",
              "      </script>\n",
              "    </div>\n",
              "  </div>\n",
              "  "
            ]
          },
          "metadata": {},
          "execution_count": 82
        }
      ]
    },
    {
      "cell_type": "code",
      "source": [
        "dfv1 = df.groupby(['class','habitat'])['habitat'].size()\n",
        "dfv1 = dfv1.unstack()\n",
        "\n",
        "dfv1.plot(kind= 'barh',figsize=(15,8),title='Distribution of Edible and poisonous class mushrooms who is belongs to different habbitats');"
      ],
      "metadata": {
        "colab": {
          "base_uri": "https://localhost:8080/",
          "height": 499
        },
        "id": "OTWjld6XhNNj",
        "outputId": "3b3f4b75-1ccf-47a3-e52e-4f01bfd8dba5"
      },
      "execution_count": 83,
      "outputs": [
        {
          "output_type": "display_data",
          "data": {
            "text/plain": [
              "<Figure size 1080x576 with 1 Axes>"
            ],
            "image/png": "[encoded data removed]"
          },
          "metadata": {
            "needs_background": "light"
          }
        }
      ]
    },
    {
      "cell_type": "code",
      "source": [
        "plt.figure(figsize=(7,10))\n",
        "plt.bar(list(df['class'].value_counts().keys()),list(df['class'].value_counts()));"
      ],
      "metadata": {
        "colab": {
          "base_uri": "https://localhost:8080/",
          "height": 592
        },
        "id": "j74cZ7DBhtmb",
        "outputId": "498ee062-3aeb-46d8-cf37-10c15a115b2c"
      },
      "execution_count": 84,
      "outputs": [
        {
          "output_type": "display_data",
          "data": {
            "text/plain": [
              "<Figure size 504x720 with 1 Axes>"
            ],
            "image/png": "[encoded data removed]"
          },
          "metadata": {
            "needs_background": "light"
          }
        }
      ]
    },
    {
      "cell_type": "code",
      "source": [
        "count_population = df['population'].value_counts()"
      ],
      "metadata": {
        "id": "MMnZzNTzlcJ2"
      },
      "execution_count": 85,
      "outputs": []
    },
    {
      "cell_type": "code",
      "source": [
        "plt.figure(figsize=(14,8)) # Subplot containing a bar and pie chart\n",
        "plt.subplot(1,2,1)\n",
        "plot = count_population.plot(kind='bar', title = \"Distribution of mushrooms by Area\",color = ['#7F58AF','#64C5EB','#E84D8A','#6F459E','#F66F8D','#FFB643'])\n",
        "plt.xticks(fontsize =10 , rotation=90)\n",
        "\n",
        "\n",
        "\n",
        "plt.subplot(1,2,2)\n",
        "colors = ['#7F58AF','#64C5EB','#E84D8A','#6F459E','#F66F8D','#FFB643']\n",
        "plt.pie(list(df['population'].value_counts()),labels = list(df['population'].value_counts().keys()), autopct='%1.1f%%',pctdistance=0.700,startangle = 45,colors = colors,shadow=True)\n",
        "plt.title(\"Distribution of mushrooms by Area\",fontsize = 14)\n",
        "plt.legend(loc=(1,1),edgecolor=\"red\",title=\"Types of area\",fontsize = 14)\n",
        "plt.show()"
      ],
      "metadata": {
        "colab": {
          "base_uri": "https://localhost:8080/",
          "height": 631
        },
        "id": "ZzhCHoDckqB0",
        "outputId": "d16a1438-2c63-4dcd-f56f-54c27a6e82e9"
      },
      "execution_count": 86,
      "outputs": [
        {
          "output_type": "display_data",
          "data": {
            "text/plain": [
              "<Figure size 1008x576 with 2 Axes>"
            ],
            "image/png": "[encoded data removed]"
          },
          "metadata": {
            "needs_background": "light"
          }
        }
      ]
    },
    {
      "cell_type": "code",
      "source": [
        "dfv2 = df.groupby(['class','stalk-root'])['stalk-root'].size()\n",
        "dfv2 =dfv2.unstack()\n",
        "dfv2.plot(kind= 'bar',figsize=(15,10),title='Edible and poisonous type mushrooms and thier different type of stalk - roots');\n"
      ],
      "metadata": {
        "colab": {
          "base_uri": "https://localhost:8080/",
          "height": 661
        },
        "id": "BdQ-5KV5lyU2",
        "outputId": "e1b6b11a-8003-414a-e375-0f140da35f8a"
      },
      "execution_count": 87,
      "outputs": [
        {
          "output_type": "display_data",
          "data": {
            "text/plain": [
              "<Figure size 1080x720 with 1 Axes>"
            ],
            "image/png": "[encoded data removed]"
          },
          "metadata": {
            "needs_background": "light"
          }
        }
      ]
    },
    {
      "cell_type": "code",
      "source": [
        "dfv2.plot(kind='bar', stacked=True,figsize=(15,10))"
      ],
      "metadata": {
        "colab": {
          "base_uri": "https://localhost:8080/",
          "height": 662
        },
        "id": "KHjXTfW013mx",
        "outputId": "f8785710-aa8f-4c0e-dc47-99866ddc7cb5"
      },
      "execution_count": 88,
      "outputs": [
        {
          "output_type": "execute_result",
          "data": {
            "text/plain": [
              "<matplotlib.axes._subplots.AxesSubplot at 0x7fced3e0c950>"
            ]
          },
          "metadata": {},
          "execution_count": 88
        },
        {
          "output_type": "display_data",
          "data": {
            "text/plain": [
              "<Figure size 1080x720 with 1 Axes>"
            ],
            "image/png": "[encoded data removed]"
          },
          "metadata": {
            "needs_background": "light"
          }
        }
      ]
    },
    {
      "cell_type": "markdown",
      "source": [
        "# ***Machine Learning***"
      ],
      "metadata": {
        "id": "ZBSSeqH3X6Kt"
      }
    },
    {
      "cell_type": "code",
      "source": [
        "rdf"
      ],
      "metadata": {
        "colab": {
          "base_uri": "https://localhost:8080/",
          "height": 540
        },
        "id": "X8g2GqI1X864",
        "outputId": "9c29ebff-a3a8-4bc6-9289-e41ea40b5009"
      },
      "execution_count": 89,
      "outputs": [
        {
          "output_type": "execute_result",
          "data": {
            "text/plain": [
              "     class cap-shape cap-surface cap-color bruises odor gill-attachment  \\\n",
              "0        p         x           s         n       t    p               f   \n",
              "1        e         x           s         y       t    a               f   \n",
              "2        e         b           s         w       t    l               f   \n",
              "3        p         x           y         w       t    p               f   \n",
              "4        e         x           s         g       f    n               f   \n",
              "...    ...       ...         ...       ...     ...  ...             ...   \n",
              "8119     e         k           s         n       f    n               a   \n",
              "8120     e         x           s         n       f    n               a   \n",
              "8121     e         f           s         n       f    n               a   \n",
              "8122     p         k           y         n       f    y               f   \n",
              "8123     e         x           s         n       f    n               a   \n",
              "\n",
              "     gill-spacing gill-size gill-color  ... stalk-surface-below-ring  \\\n",
              "0               c         n          k  ...                        s   \n",
              "1               c         b          k  ...                        s   \n",
              "2               c         b          n  ...                        s   \n",
              "3               c         n          n  ...                        s   \n",
              "4               w         b          k  ...                        s   \n",
              "...           ...       ...        ...  ...                      ...   \n",
              "8119            c         b          y  ...                        s   \n",
              "8120            c         b          y  ...                        s   \n",
              "8121            c         b          n  ...                        s   \n",
              "8122            c         n          b  ...                        k   \n",
              "8123            c         b          y  ...                        s   \n",
              "\n",
              "     stalk-color-above-ring stalk-color-below-ring veil-type veil-color  \\\n",
              "0                         w                      w         p          w   \n",
              "1                         w                      w         p          w   \n",
              "2                         w                      w         p          w   \n",
              "3                         w                      w         p          w   \n",
              "4                         w                      w         p          w   \n",
              "...                     ...                    ...       ...        ...   \n",
              "8119                      o                      o         p          o   \n",
              "8120                      o                      o         p          n   \n",
              "8121                      o                      o         p          o   \n",
              "8122                      w                      w         p          w   \n",
              "8123                      o                      o         p          o   \n",
              "\n",
              "     ring-number ring-type spore-print-color population habitat  \n",
              "0              o         p                 k          s       u  \n",
              "1              o         p                 n          n       g  \n",
              "2              o         p                 n          n       m  \n",
              "3              o         p                 k          s       u  \n",
              "4              o         e                 n          a       g  \n",
              "...          ...       ...               ...        ...     ...  \n",
              "8119           o         p                 b          c       l  \n",
              "8120           o         p                 b          v       l  \n",
              "8121           o         p                 b          c       l  \n",
              "8122           o         e                 w          v       l  \n",
              "8123           o         p                 o          c       l  \n",
              "\n",
              "[8124 rows x 23 columns]"
            ],
            "text/html": [
              "\n",
              "  <div id=\"df-d94115a7-7a5c-4ca2-926e-077c45a92844\">\n",
              "    <div class=\"colab-df-container\">\n",
              "      <div>\n",
              "<style scoped>\n",
              "    .dataframe tbody tr th:only-of-type {\n",
              "        vertical-align: middle;\n",
              "    }\n",
              "\n",
              "    .dataframe tbody tr th {\n",
              "        vertical-align: top;\n",
              "    }\n",
              "\n",
              "    .dataframe thead th {\n",
              "        text-align: right;\n",
              "    }\n",
              "</style>\n",
              "<table border=\"1\" class=\"dataframe\">\n",
              "  <thead>\n",
              "    <tr style=\"text-align: right;\">\n",
              "      <th></th>\n",
              "      <th>class</th>\n",
              "      <th>cap-shape</th>\n",
              "      <th>cap-surface</th>\n",
              "      <th>cap-color</th>\n",
              "      <th>bruises</th>\n",
              "      <th>odor</th>\n",
              "      <th>gill-attachment</th>\n",
              "      <th>gill-spacing</th>\n",
              "      <th>gill-size</th>\n",
              "      <th>gill-color</th>\n",
              "      <th>...</th>\n",
              "      <th>stalk-surface-below-ring</th>\n",
              "      <th>stalk-color-above-ring</th>\n",
              "      <th>stalk-color-below-ring</th>\n",
              "      <th>veil-type</th>\n",
              "      <th>veil-color</th>\n",
              "      <th>ring-number</th>\n",
              "      <th>ring-type</th>\n",
              "      <th>spore-print-color</th>\n",
              "      <th>population</th>\n",
              "      <th>habitat</th>\n",
              "    </tr>\n",
              "  </thead>\n",
              "  <tbody>\n",
              "    <tr>\n",
              "      <th>0</th>\n",
              "      <td>p</td>\n",
              "      <td>x</td>\n",
              "      <td>s</td>\n",
              "      <td>n</td>\n",
              "      <td>t</td>\n",
              "      <td>p</td>\n",
              "      <td>f</td>\n",
              "      <td>c</td>\n",
              "      <td>n</td>\n",
              "      <td>k</td>\n",
              "      <td>...</td>\n",
              "      <td>s</td>\n",
              "      <td>w</td>\n",
              "      <td>w</td>\n",
              "      <td>p</td>\n",
              "      <td>w</td>\n",
              "      <td>o</td>\n",
              "      <td>p</td>\n",
              "      <td>k</td>\n",
              "      <td>s</td>\n",
              "      <td>u</td>\n",
              "    </tr>\n",
              "    <tr>\n",
              "      <th>1</th>\n",
              "      <td>e</td>\n",
              "      <td>x</td>\n",
              "      <td>s</td>\n",
              "      <td>y</td>\n",
              "      <td>t</td>\n",
              "      <td>a</td>\n",
              "      <td>f</td>\n",
              "      <td>c</td>\n",
              "      <td>b</td>\n",
              "      <td>k</td>\n",
              "      <td>...</td>\n",
              "      <td>s</td>\n",
              "      <td>w</td>\n",
              "      <td>w</td>\n",
              "      <td>p</td>\n",
              "      <td>w</td>\n",
              "      <td>o</td>\n",
              "      <td>p</td>\n",
              "      <td>n</td>\n",
              "      <td>n</td>\n",
              "      <td>g</td>\n",
              "    </tr>\n",
              "    <tr>\n",
              "      <th>2</th>\n",
              "      <td>e</td>\n",
              "      <td>b</td>\n",
              "      <td>s</td>\n",
              "      <td>w</td>\n",
              "      <td>t</td>\n",
              "      <td>l</td>\n",
              "      <td>f</td>\n",
              "      <td>c</td>\n",
              "      <td>b</td>\n",
              "      <td>n</td>\n",
              "      <td>...</td>\n",
              "      <td>s</td>\n",
              "      <td>w</td>\n",
              "      <td>w</td>\n",
              "      <td>p</td>\n",
              "      <td>w</td>\n",
              "      <td>o</td>\n",
              "      <td>p</td>\n",
              "      <td>n</td>\n",
              "      <td>n</td>\n",
              "      <td>m</td>\n",
              "    </tr>\n",
              "    <tr>\n",
              "      <th>3</th>\n",
              "      <td>p</td>\n",
              "      <td>x</td>\n",
              "      <td>y</td>\n",
              "      <td>w</td>\n",
              "      <td>t</td>\n",
              "      <td>p</td>\n",
              "      <td>f</td>\n",
              "      <td>c</td>\n",
              "      <td>n</td>\n",
              "      <td>n</td>\n",
              "      <td>...</td>\n",
              "      <td>s</td>\n",
              "      <td>w</td>\n",
              "      <td>w</td>\n",
              "      <td>p</td>\n",
              "      <td>w</td>\n",
              "      <td>o</td>\n",
              "      <td>p</td>\n",
              "      <td>k</td>\n",
              "      <td>s</td>\n",
              "      <td>u</td>\n",
              "    </tr>\n",
              "    <tr>\n",
              "      <th>4</th>\n",
              "      <td>e</td>\n",
              "      <td>x</td>\n",
              "      <td>s</td>\n",
              "      <td>g</td>\n",
              "      <td>f</td>\n",
              "      <td>n</td>\n",
              "      <td>f</td>\n",
              "      <td>w</td>\n",
              "      <td>b</td>\n",
              "      <td>k</td>\n",
              "      <td>...</td>\n",
              "      <td>s</td>\n",
              "      <td>w</td>\n",
              "      <td>w</td>\n",
              "      <td>p</td>\n",
              "      <td>w</td>\n",
              "      <td>o</td>\n",
              "      <td>e</td>\n",
              "      <td>n</td>\n",
              "      <td>a</td>\n",
              "      <td>g</td>\n",
              "    </tr>\n",
              "    <tr>\n",
              "      <th>...</th>\n",
              "      <td>...</td>\n",
              "      <td>...</td>\n",
              "      <td>...</td>\n",
              "      <td>...</td>\n",
              "      <td>...</td>\n",
              "      <td>...</td>\n",
              "      <td>...</td>\n",
              "      <td>...</td>\n",
              "      <td>...</td>\n",
              "      <td>...</td>\n",
              "      <td>...</td>\n",
              "      <td>...</td>\n",
              "      <td>...</td>\n",
              "      <td>...</td>\n",
              "      <td>...</td>\n",
              "      <td>...</td>\n",
              "      <td>...</td>\n",
              "      <td>...</td>\n",
              "      <td>...</td>\n",
              "      <td>...</td>\n",
              "      <td>...</td>\n",
              "    </tr>\n",
              "    <tr>\n",
              "      <th>8119</th>\n",
              "      <td>e</td>\n",
              "      <td>k</td>\n",
              "      <td>s</td>\n",
              "      <td>n</td>\n",
              "      <td>f</td>\n",
              "      <td>n</td>\n",
              "      <td>a</td>\n",
              "      <td>c</td>\n",
              "      <td>b</td>\n",
              "      <td>y</td>\n",
              "      <td>...</td>\n",
              "      <td>s</td>\n",
              "      <td>o</td>\n",
              "      <td>o</td>\n",
              "      <td>p</td>\n",
              "      <td>o</td>\n",
              "      <td>o</td>\n",
              "      <td>p</td>\n",
              "      <td>b</td>\n",
              "      <td>c</td>\n",
              "      <td>l</td>\n",
              "    </tr>\n",
              "    <tr>\n",
              "      <th>8120</th>\n",
              "      <td>e</td>\n",
              "      <td>x</td>\n",
              "      <td>s</td>\n",
              "      <td>n</td>\n",
              "      <td>f</td>\n",
              "      <td>n</td>\n",
              "      <td>a</td>\n",
              "      <td>c</td>\n",
              "      <td>b</td>\n",
              "      <td>y</td>\n",
              "      <td>...</td>\n",
              "      <td>s</td>\n",
              "      <td>o</td>\n",
              "      <td>o</td>\n",
              "      <td>p</td>\n",
              "      <td>n</td>\n",
              "      <td>o</td>\n",
              "      <td>p</td>\n",
              "      <td>b</td>\n",
              "      <td>v</td>\n",
              "      <td>l</td>\n",
              "    </tr>\n",
              "    <tr>\n",
              "      <th>8121</th>\n",
              "      <td>e</td>\n",
              "      <td>f</td>\n",
              "      <td>s</td>\n",
              "      <td>n</td>\n",
              "      <td>f</td>\n",
              "      <td>n</td>\n",
              "      <td>a</td>\n",
              "      <td>c</td>\n",
              "      <td>b</td>\n",
              "      <td>n</td>\n",
              "      <td>...</td>\n",
              "      <td>s</td>\n",
              "      <td>o</td>\n",
              "      <td>o</td>\n",
              "      <td>p</td>\n",
              "      <td>o</td>\n",
              "      <td>o</td>\n",
              "      <td>p</td>\n",
              "      <td>b</td>\n",
              "      <td>c</td>\n",
              "      <td>l</td>\n",
              "    </tr>\n",
              "    <tr>\n",
              "      <th>8122</th>\n",
              "      <td>p</td>\n",
              "      <td>k</td>\n",
              "      <td>y</td>\n",
              "      <td>n</td>\n",
              "      <td>f</td>\n",
              "      <td>y</td>\n",
              "      <td>f</td>\n",
              "      <td>c</td>\n",
              "      <td>n</td>\n",
              "      <td>b</td>\n",
              "      <td>...</td>\n",
              "      <td>k</td>\n",
              "      <td>w</td>\n",
              "      <td>w</td>\n",
              "      <td>p</td>\n",
              "      <td>w</td>\n",
              "      <td>o</td>\n",
              "      <td>e</td>\n",
              "      <td>w</td>\n",
              "      <td>v</td>\n",
              "      <td>l</td>\n",
              "    </tr>\n",
              "    <tr>\n",
              "      <th>8123</th>\n",
              "      <td>e</td>\n",
              "      <td>x</td>\n",
              "      <td>s</td>\n",
              "      <td>n</td>\n",
              "      <td>f</td>\n",
              "      <td>n</td>\n",
              "      <td>a</td>\n",
              "      <td>c</td>\n",
              "      <td>b</td>\n",
              "      <td>y</td>\n",
              "      <td>...</td>\n",
              "      <td>s</td>\n",
              "      <td>o</td>\n",
              "      <td>o</td>\n",
              "      <td>p</td>\n",
              "      <td>o</td>\n",
              "      <td>o</td>\n",
              "      <td>p</td>\n",
              "      <td>o</td>\n",
              "      <td>c</td>\n",
              "      <td>l</td>\n",
              "    </tr>\n",
              "  </tbody>\n",
              "</table>\n",
              "<p>8124 rows × 23 columns</p>\n",
              "</div>\n",
              "      <button class=\"colab-df-convert\" onclick=\"convertToInteractive('df-d94115a7-7a5c-4ca2-926e-077c45a92844')\"\n",
              "              title=\"Convert this dataframe to an interactive table.\"\n",
              "              style=\"display:none;\">\n",
              "        \n",
              "  <svg xmlns=\"http://www.w3.org/2000/svg\" height=\"24px\"viewBox=\"0 0 24 24\"\n",
              "       width=\"24px\">\n",
              "    <path d=\"M0 0h24v24H0V0z\" fill=\"none\"/>\n",
              "    <path d=\"M18.56 5.44l.94 2.06.94-2.06 2.06-.94-2.06-.94-.94-2.06-.94 2.06-2.06.94zm-11 1L8.5 8.5l.94-2.06 2.06-.94-2.06-.94L8.5 2.5l-.94 2.06-2.06.94zm10 10l.94 2.06.94-2.06 2.06-.94-2.06-.94-.94-2.06-.94 2.06-2.06.94z\"/><path d=\"M17.41 7.96l-1.37-1.37c-.4-.4-.92-.59-1.43-.59-.52 0-1.04.2-1.43.59L10.3 9.45l-7.72 7.72c-.78.78-.78 2.05 0 2.83L4 21.41c.39.39.9.59 1.41.59.51 0 1.02-.2 1.41-.59l7.78-7.78 2.81-2.81c.8-.78.8-2.07 0-2.86zM5.41 20L4 18.59l7.72-7.72 1.47 1.35L5.41 20z\"/>\n",
              "  </svg>\n",
              "      </button>\n",
              "      \n",
              "  <style>\n",
              "    .colab-df-container {\n",
              "      display:flex;\n",
              "      flex-wrap:wrap;\n",
              "      gap: 12px;\n",
              "    }\n",
              "\n",
              "    .colab-df-convert {\n",
              "      background-color: #E8F0FE;\n",
              "      border: none;\n",
              "      border-radius: 50%;\n",
              "      cursor: pointer;\n",
              "      display: none;\n",
              "      fill: #1967D2;\n",
              "      height: 32px;\n",
              "      padding: 0 0 0 0;\n",
              "      width: 32px;\n",
              "    }\n",
              "\n",
              "    .colab-df-convert:hover {\n",
              "      background-color: #E2EBFA;\n",
              "      box-shadow: 0px 1px 2px rgba(60, 64, 67, 0.3), 0px 1px 3px 1px rgba(60, 64, 67, 0.15);\n",
              "      fill: #174EA6;\n",
              "    }\n",
              "\n",
              "    [theme=dark] .colab-df-convert {\n",
              "      background-color: #3B4455;\n",
              "      fill: #D2E3FC;\n",
              "    }\n",
              "\n",
              "    [theme=dark] .colab-df-convert:hover {\n",
              "      background-color: #434B5C;\n",
              "      box-shadow: 0px 1px 3px 1px rgba(0, 0, 0, 0.15);\n",
              "      filter: drop-shadow(0px 1px 2px rgba(0, 0, 0, 0.3));\n",
              "      fill: #FFFFFF;\n",
              "    }\n",
              "  </style>\n",
              "\n",
              "      <script>\n",
              "        const buttonEl =\n",
              "          document.querySelector('#df-d94115a7-7a5c-4ca2-926e-077c45a92844 button.colab-df-convert');\n",
              "        buttonEl.style.display =\n",
              "          google.colab.kernel.accessAllowed ? 'block' : 'none';\n",
              "\n",
              "        async function convertToInteractive(key) {\n",
              "          const element = document.querySelector('#df-d94115a7-7a5c-4ca2-926e-077c45a92844');\n",
              "          const dataTable =\n",
              "            await google.colab.kernel.invokeFunction('convertToInteractive',\n",
              "                                                     [key], {});\n",
              "          if (!dataTable) return;\n",
              "\n",
              "          const docLinkHtml = 'Like what you see? Visit the ' +\n",
              "            '<a target=\"_blank\" href=https://colab.research.google.com/notebooks/data_table.ipynb>data table notebook</a>'\n",
              "            + ' to learn more about interactive tables.';\n",
              "          element.innerHTML = '';\n",
              "          dataTable['output_type'] = 'display_data';\n",
              "          await google.colab.output.renderOutput(dataTable, element);\n",
              "          const docLink = document.createElement('div');\n",
              "          docLink.innerHTML = docLinkHtml;\n",
              "          element.appendChild(docLink);\n",
              "        }\n",
              "      </script>\n",
              "    </div>\n",
              "  </div>\n",
              "  "
            ]
          },
          "metadata": {},
          "execution_count": 89
        }
      ]
    },
    {
      "cell_type": "code",
      "source": [
        "from sklearn.preprocessing import LabelEncoder\n",
        "le = LabelEncoder()\n",
        "rdf['class'] = le.fit_transform(rdf['class'])\n",
        "rdf['cap-shape'] = le.fit_transform(rdf['cap-shape'])\n",
        "rdf['cap-surface'] = le.fit_transform(rdf['cap-surface'])\n",
        "rdf['cap-color'] = le.fit_transform(rdf['cap-color'])\n",
        "rdf['bruises'] = le.fit_transform(rdf['bruises'])\n",
        "rdf['odor'] = le.fit_transform(rdf['odor'])\n",
        "rdf['gill-attachment'] = le.fit_transform(rdf['gill-attachment'])\n",
        "rdf['gill-spacing'] = le.fit_transform(rdf['gill-spacing'])\n",
        "rdf['gill-size'] = le.fit_transform(rdf['gill-size'])\n",
        "rdf['gill-color'] = le.fit_transform(rdf['gill-color'])\n",
        "rdf['stalk-shape'] = le.fit_transform(rdf['stalk-shape'])\n",
        "rdf['stalk-root'] = le.fit_transform(rdf['stalk-root'])\n",
        "rdf['stalk-surface-above-ring'] = le.fit_transform(rdf['stalk-surface-above-ring'])\n",
        "rdf['stalk-surface-below-ring'] = le.fit_transform(rdf['stalk-surface-below-ring'])\n",
        "rdf['stalk-color-above-ring'] = le.fit_transform(rdf['stalk-color-above-ring'])\n",
        "rdf['stalk-color-below-ring'] = le.fit_transform(rdf['stalk-color-below-ring'])\n",
        "rdf['veil-type'] = le.fit_transform(rdf['veil-type'])\n",
        "rdf['veil-color'] = le.fit_transform(rdf['veil-color'])\n",
        "rdf['ring-number'] = le.fit_transform(rdf['ring-number'])\n",
        "rdf['ring-type'] = le.fit_transform(rdf['ring-type'])\n",
        "rdf['spore-print-color'] = le.fit_transform(rdf['spore-print-color'])\n",
        "rdf['population'] = le.fit_transform(rdf['population'])\n",
        "rdf['habitat'] = le.fit_transform(rdf['habitat'])\n"
      ],
      "metadata": {
        "id": "dklhzrnuYZeI"
      },
      "execution_count": 90,
      "outputs": []
    },
    {
      "cell_type": "code",
      "source": [
        "rdf.head(4)"
      ],
      "metadata": {
        "colab": {
          "base_uri": "https://localhost:8080/",
          "height": 320
        },
        "id": "nI8I76k1Y_eN",
        "outputId": "a596a479-3101-4b03-dca3-925975346820"
      },
      "execution_count": 91,
      "outputs": [
        {
          "output_type": "execute_result",
          "data": {
            "text/plain": [
              "   class  cap-shape  cap-surface  cap-color  bruises  odor  gill-attachment  \\\n",
              "0      1          5            2          4        1     6                1   \n",
              "1      0          5            2          9        1     0                1   \n",
              "2      0          0            2          8        1     3                1   \n",
              "3      1          5            3          8        1     6                1   \n",
              "\n",
              "   gill-spacing  gill-size  gill-color  ...  stalk-surface-below-ring  \\\n",
              "0             0          1           4  ...                         2   \n",
              "1             0          0           4  ...                         2   \n",
              "2             0          0           5  ...                         2   \n",
              "3             0          1           5  ...                         2   \n",
              "\n",
              "   stalk-color-above-ring  stalk-color-below-ring  veil-type  veil-color  \\\n",
              "0                       7                       7          0           2   \n",
              "1                       7                       7          0           2   \n",
              "2                       7                       7          0           2   \n",
              "3                       7                       7          0           2   \n",
              "\n",
              "   ring-number  ring-type  spore-print-color  population  habitat  \n",
              "0            1          4                  2           3        5  \n",
              "1            1          4                  3           2        1  \n",
              "2            1          4                  3           2        3  \n",
              "3            1          4                  2           3        5  \n",
              "\n",
              "[4 rows x 23 columns]"
            ],
            "text/html": [
              "\n",
              "  <div id=\"df-0e51b218-9ee1-4192-b198-4767a0f7bb3a\">\n",
              "    <div class=\"colab-df-container\">\n",
              "      <div>\n",
              "<style scoped>\n",
              "    .dataframe tbody tr th:only-of-type {\n",
              "        vertical-align: middle;\n",
              "    }\n",
              "\n",
              "    .dataframe tbody tr th {\n",
              "        vertical-align: top;\n",
              "    }\n",
              "\n",
              "    .dataframe thead th {\n",
              "        text-align: right;\n",
              "    }\n",
              "</style>\n",
              "<table border=\"1\" class=\"dataframe\">\n",
              "  <thead>\n",
              "    <tr style=\"text-align: right;\">\n",
              "      <th></th>\n",
              "      <th>class</th>\n",
              "      <th>cap-shape</th>\n",
              "      <th>cap-surface</th>\n",
              "      <th>cap-color</th>\n",
              "      <th>bruises</th>\n",
              "      <th>odor</th>\n",
              "      <th>gill-attachment</th>\n",
              "      <th>gill-spacing</th>\n",
              "      <th>gill-size</th>\n",
              "      <th>gill-color</th>\n",
              "      <th>...</th>\n",
              "      <th>stalk-surface-below-ring</th>\n",
              "      <th>stalk-color-above-ring</th>\n",
              "      <th>stalk-color-below-ring</th>\n",
              "      <th>veil-type</th>\n",
              "      <th>veil-color</th>\n",
              "      <th>ring-number</th>\n",
              "      <th>ring-type</th>\n",
              "      <th>spore-print-color</th>\n",
              "      <th>population</th>\n",
              "      <th>habitat</th>\n",
              "    </tr>\n",
              "  </thead>\n",
              "  <tbody>\n",
              "    <tr>\n",
              "      <th>0</th>\n",
              "      <td>1</td>\n",
              "      <td>5</td>\n",
              "      <td>2</td>\n",
              "      <td>4</td>\n",
              "      <td>1</td>\n",
              "      <td>6</td>\n",
              "      <td>1</td>\n",
              "      <td>0</td>\n",
              "      <td>1</td>\n",
              "      <td>4</td>\n",
              "      <td>...</td>\n",
              "      <td>2</td>\n",
              "      <td>7</td>\n",
              "      <td>7</td>\n",
              "      <td>0</td>\n",
              "      <td>2</td>\n",
              "      <td>1</td>\n",
              "      <td>4</td>\n",
              "      <td>2</td>\n",
              "      <td>3</td>\n",
              "      <td>5</td>\n",
              "    </tr>\n",
              "    <tr>\n",
              "      <th>1</th>\n",
              "      <td>0</td>\n",
              "      <td>5</td>\n",
              "      <td>2</td>\n",
              "      <td>9</td>\n",
              "      <td>1</td>\n",
              "      <td>0</td>\n",
              "      <td>1</td>\n",
              "      <td>0</td>\n",
              "      <td>0</td>\n",
              "      <td>4</td>\n",
              "      <td>...</td>\n",
              "      <td>2</td>\n",
              "      <td>7</td>\n",
              "      <td>7</td>\n",
              "      <td>0</td>\n",
              "      <td>2</td>\n",
              "      <td>1</td>\n",
              "      <td>4</td>\n",
              "      <td>3</td>\n",
              "      <td>2</td>\n",
              "      <td>1</td>\n",
              "    </tr>\n",
              "    <tr>\n",
              "      <th>2</th>\n",
              "      <td>0</td>\n",
              "      <td>0</td>\n",
              "      <td>2</td>\n",
              "      <td>8</td>\n",
              "      <td>1</td>\n",
              "      <td>3</td>\n",
              "      <td>1</td>\n",
              "      <td>0</td>\n",
              "      <td>0</td>\n",
              "      <td>5</td>\n",
              "      <td>...</td>\n",
              "      <td>2</td>\n",
              "      <td>7</td>\n",
              "      <td>7</td>\n",
              "      <td>0</td>\n",
              "      <td>2</td>\n",
              "      <td>1</td>\n",
              "      <td>4</td>\n",
              "      <td>3</td>\n",
              "      <td>2</td>\n",
              "      <td>3</td>\n",
              "    </tr>\n",
              "    <tr>\n",
              "      <th>3</th>\n",
              "      <td>1</td>\n",
              "      <td>5</td>\n",
              "      <td>3</td>\n",
              "      <td>8</td>\n",
              "      <td>1</td>\n",
              "      <td>6</td>\n",
              "      <td>1</td>\n",
              "      <td>0</td>\n",
              "      <td>1</td>\n",
              "      <td>5</td>\n",
              "      <td>...</td>\n",
              "      <td>2</td>\n",
              "      <td>7</td>\n",
              "      <td>7</td>\n",
              "      <td>0</td>\n",
              "      <td>2</td>\n",
              "      <td>1</td>\n",
              "      <td>4</td>\n",
              "      <td>2</td>\n",
              "      <td>3</td>\n",
              "      <td>5</td>\n",
              "    </tr>\n",
              "  </tbody>\n",
              "</table>\n",
              "<p>4 rows × 23 columns</p>\n",
              "</div>\n",
              "      <button class=\"colab-df-convert\" onclick=\"convertToInteractive('df-0e51b218-9ee1-4192-b198-4767a0f7bb3a')\"\n",
              "              title=\"Convert this dataframe to an interactive table.\"\n",
              "              style=\"display:none;\">\n",
              "        \n",
              "  <svg xmlns=\"http://www.w3.org/2000/svg\" height=\"24px\"viewBox=\"0 0 24 24\"\n",
              "       width=\"24px\">\n",
              "    <path d=\"M0 0h24v24H0V0z\" fill=\"none\"/>\n",
              "    <path d=\"M18.56 5.44l.94 2.06.94-2.06 2.06-.94-2.06-.94-.94-2.06-.94 2.06-2.06.94zm-11 1L8.5 8.5l.94-2.06 2.06-.94-2.06-.94L8.5 2.5l-.94 2.06-2.06.94zm10 10l.94 2.06.94-2.06 2.06-.94-2.06-.94-.94-2.06-.94 2.06-2.06.94z\"/><path d=\"M17.41 7.96l-1.37-1.37c-.4-.4-.92-.59-1.43-.59-.52 0-1.04.2-1.43.59L10.3 9.45l-7.72 7.72c-.78.78-.78 2.05 0 2.83L4 21.41c.39.39.9.59 1.41.59.51 0 1.02-.2 1.41-.59l7.78-7.78 2.81-2.81c.8-.78.8-2.07 0-2.86zM5.41 20L4 18.59l7.72-7.72 1.47 1.35L5.41 20z\"/>\n",
              "  </svg>\n",
              "      </button>\n",
              "      \n",
              "  <style>\n",
              "    .colab-df-container {\n",
              "      display:flex;\n",
              "      flex-wrap:wrap;\n",
              "      gap: 12px;\n",
              "    }\n",
              "\n",
              "    .colab-df-convert {\n",
              "      background-color: #E8F0FE;\n",
              "      border: none;\n",
              "      border-radius: 50%;\n",
              "      cursor: pointer;\n",
              "      display: none;\n",
              "      fill: #1967D2;\n",
              "      height: 32px;\n",
              "      padding: 0 0 0 0;\n",
              "      width: 32px;\n",
              "    }\n",
              "\n",
              "    .colab-df-convert:hover {\n",
              "      background-color: #E2EBFA;\n",
              "      box-shadow: 0px 1px 2px rgba(60, 64, 67, 0.3), 0px 1px 3px 1px rgba(60, 64, 67, 0.15);\n",
              "      fill: #174EA6;\n",
              "    }\n",
              "\n",
              "    [theme=dark] .colab-df-convert {\n",
              "      background-color: #3B4455;\n",
              "      fill: #D2E3FC;\n",
              "    }\n",
              "\n",
              "    [theme=dark] .colab-df-convert:hover {\n",
              "      background-color: #434B5C;\n",
              "      box-shadow: 0px 1px 3px 1px rgba(0, 0, 0, 0.15);\n",
              "      filter: drop-shadow(0px 1px 2px rgba(0, 0, 0, 0.3));\n",
              "      fill: #FFFFFF;\n",
              "    }\n",
              "  </style>\n",
              "\n",
              "      <script>\n",
              "        const buttonEl =\n",
              "          document.querySelector('#df-0e51b218-9ee1-4192-b198-4767a0f7bb3a button.colab-df-convert');\n",
              "        buttonEl.style.display =\n",
              "          google.colab.kernel.accessAllowed ? 'block' : 'none';\n",
              "\n",
              "        async function convertToInteractive(key) {\n",
              "          const element = document.querySelector('#df-0e51b218-9ee1-4192-b198-4767a0f7bb3a');\n",
              "          const dataTable =\n",
              "            await google.colab.kernel.invokeFunction('convertToInteractive',\n",
              "                                                     [key], {});\n",
              "          if (!dataTable) return;\n",
              "\n",
              "          const docLinkHtml = 'Like what you see? Visit the ' +\n",
              "            '<a target=\"_blank\" href=https://colab.research.google.com/notebooks/data_table.ipynb>data table notebook</a>'\n",
              "            + ' to learn more about interactive tables.';\n",
              "          element.innerHTML = '';\n",
              "          dataTable['output_type'] = 'display_data';\n",
              "          await google.colab.output.renderOutput(dataTable, element);\n",
              "          const docLink = document.createElement('div');\n",
              "          docLink.innerHTML = docLinkHtml;\n",
              "          element.appendChild(docLink);\n",
              "        }\n",
              "      </script>\n",
              "    </div>\n",
              "  </div>\n",
              "  "
            ]
          },
          "metadata": {},
          "execution_count": 91
        }
      ]
    },
    {
      "cell_type": "code",
      "source": [],
      "metadata": {
        "id": "BUDaWqzNY_cA"
      },
      "execution_count": 91,
      "outputs": []
    },
    {
      "cell_type": "markdown",
      "source": [
        "# ***Decide Dependant and Independant Elements in Data Set***"
      ],
      "metadata": {
        "id": "Xcxn2D0KZPV7"
      }
    },
    {
      "cell_type": "code",
      "source": [
        "rdf.columns # Print all columns "
      ],
      "metadata": {
        "colab": {
          "base_uri": "https://localhost:8080/"
        },
        "id": "iOd1rrFIZf7H",
        "outputId": "d5010fbf-5042-4931-d066-f494b5b02d8b"
      },
      "execution_count": 92,
      "outputs": [
        {
          "output_type": "execute_result",
          "data": {
            "text/plain": [
              "Index(['class', 'cap-shape', 'cap-surface', 'cap-color', 'bruises', 'odor',\n",
              "       'gill-attachment', 'gill-spacing', 'gill-size', 'gill-color',\n",
              "       'stalk-shape', 'stalk-root', 'stalk-surface-above-ring',\n",
              "       'stalk-surface-below-ring', 'stalk-color-above-ring',\n",
              "       'stalk-color-below-ring', 'veil-type', 'veil-color', 'ring-number',\n",
              "       'ring-type', 'spore-print-color', 'population', 'habitat'],\n",
              "      dtype='object')"
            ]
          },
          "metadata": {},
          "execution_count": 92
        }
      ]
    },
    {
      "cell_type": "code",
      "source": [
        "x=rdf.drop(['class'],axis=1)  # Decide the independent variable for machine learning"
      ],
      "metadata": {
        "id": "cuWQ2o8QZRaf"
      },
      "execution_count": 93,
      "outputs": []
    },
    {
      "cell_type": "code",
      "source": [
        "print(x)"
      ],
      "metadata": {
        "colab": {
          "base_uri": "https://localhost:8080/"
        },
        "id": "3rLvNJJuZwWe",
        "outputId": "b771818b-1c2f-49c8-c01f-35397d56d9a5"
      },
      "execution_count": 94,
      "outputs": [
        {
          "output_type": "stream",
          "name": "stdout",
          "text": [
            "      cap-shape  cap-surface  cap-color  bruises  odor  gill-attachment  \\\n",
            "0             5            2          4        1     6                1   \n",
            "1             5            2          9        1     0                1   \n",
            "2             0            2          8        1     3                1   \n",
            "3             5            3          8        1     6                1   \n",
            "4             5            2          3        0     5                1   \n",
            "...         ...          ...        ...      ...   ...              ...   \n",
            "8119          3            2          4        0     5                0   \n",
            "8120          5            2          4        0     5                0   \n",
            "8121          2            2          4        0     5                0   \n",
            "8122          3            3          4        0     8                1   \n",
            "8123          5            2          4        0     5                0   \n",
            "\n",
            "      gill-spacing  gill-size  gill-color  stalk-shape  ...  \\\n",
            "0                0          1           4            0  ...   \n",
            "1                0          0           4            0  ...   \n",
            "2                0          0           5            0  ...   \n",
            "3                0          1           5            0  ...   \n",
            "4                1          0           4            1  ...   \n",
            "...            ...        ...         ...          ...  ...   \n",
            "8119             0          0          11            0  ...   \n",
            "8120             0          0          11            0  ...   \n",
            "8121             0          0           5            0  ...   \n",
            "8122             0          1           0            1  ...   \n",
            "8123             0          0          11            0  ...   \n",
            "\n",
            "      stalk-surface-below-ring  stalk-color-above-ring  \\\n",
            "0                            2                       7   \n",
            "1                            2                       7   \n",
            "2                            2                       7   \n",
            "3                            2                       7   \n",
            "4                            2                       7   \n",
            "...                        ...                     ...   \n",
            "8119                         2                       5   \n",
            "8120                         2                       5   \n",
            "8121                         2                       5   \n",
            "8122                         1                       7   \n",
            "8123                         2                       5   \n",
            "\n",
            "      stalk-color-below-ring  veil-type  veil-color  ring-number  ring-type  \\\n",
            "0                          7          0           2            1          4   \n",
            "1                          7          0           2            1          4   \n",
            "2                          7          0           2            1          4   \n",
            "3                          7          0           2            1          4   \n",
            "4                          7          0           2            1          0   \n",
            "...                      ...        ...         ...          ...        ...   \n",
            "8119                       5          0           1            1          4   \n",
            "8120                       5          0           0            1          4   \n",
            "8121                       5          0           1            1          4   \n",
            "8122                       7          0           2            1          0   \n",
            "8123                       5          0           1            1          4   \n",
            "\n",
            "      spore-print-color  population  habitat  \n",
            "0                     2           3        5  \n",
            "1                     3           2        1  \n",
            "2                     3           2        3  \n",
            "3                     2           3        5  \n",
            "4                     3           0        1  \n",
            "...                 ...         ...      ...  \n",
            "8119                  0           1        2  \n",
            "8120                  0           4        2  \n",
            "8121                  0           1        2  \n",
            "8122                  7           4        2  \n",
            "8123                  4           1        2  \n",
            "\n",
            "[8124 rows x 22 columns]\n"
          ]
        }
      ]
    },
    {
      "cell_type": "code",
      "source": [
        "y=rdf[['class']] # Decide the dependent variable for machine learning"
      ],
      "metadata": {
        "id": "AuGS1ujhY_X_"
      },
      "execution_count": 95,
      "outputs": []
    },
    {
      "cell_type": "code",
      "source": [
        "y.shape"
      ],
      "metadata": {
        "colab": {
          "base_uri": "https://localhost:8080/"
        },
        "id": "u9Y4P20QY_VR",
        "outputId": "71bca288-f46d-4042-84d5-11a63e9aed26"
      },
      "execution_count": 96,
      "outputs": [
        {
          "output_type": "execute_result",
          "data": {
            "text/plain": [
              "(8124, 1)"
            ]
          },
          "metadata": {},
          "execution_count": 96
        }
      ]
    },
    {
      "cell_type": "code",
      "source": [],
      "metadata": {
        "id": "bIy05MRrZucU"
      },
      "execution_count": 96,
      "outputs": []
    },
    {
      "cell_type": "markdown",
      "source": [
        "# ***Train Test Split***"
      ],
      "metadata": {
        "id": "I3lCLceWZ3H2"
      }
    },
    {
      "cell_type": "code",
      "source": [
        "from sklearn.model_selection import train_test_split # Import train and split function from sklearn lib."
      ],
      "metadata": {
        "id": "YAhmPELwZ4lW"
      },
      "execution_count": 97,
      "outputs": []
    },
    {
      "cell_type": "code",
      "source": [
        "X_train, X_test, y_train, y_test =train_test_split(x,y,test_size=0.3)  # Spliting 70% data for training and 30% data for testing and store values in variable"
      ],
      "metadata": {
        "id": "qX0rOTGHaBIH"
      },
      "execution_count": 98,
      "outputs": []
    },
    {
      "cell_type": "code",
      "source": [
        "print(X_train.shape) #Print the shape of training dataframe"
      ],
      "metadata": {
        "colab": {
          "base_uri": "https://localhost:8080/"
        },
        "id": "TpFBd8YVaF8B",
        "outputId": "7a03b957-a980-4530-e9f7-3b34ab36c242"
      },
      "execution_count": 99,
      "outputs": [
        {
          "output_type": "stream",
          "name": "stdout",
          "text": [
            "(5686, 22)\n"
          ]
        }
      ]
    },
    {
      "cell_type": "code",
      "source": [
        "print(X_test.shape) #Print the shape of testing dataframe"
      ],
      "metadata": {
        "colab": {
          "base_uri": "https://localhost:8080/"
        },
        "id": "GAG7D135aJvd",
        "outputId": "b9cbeea1-7115-4d9a-d2d3-e8784b09ccf9"
      },
      "execution_count": 100,
      "outputs": [
        {
          "output_type": "stream",
          "name": "stdout",
          "text": [
            "(2438, 22)\n"
          ]
        }
      ]
    },
    {
      "cell_type": "code",
      "source": [],
      "metadata": {
        "id": "6dr4ZvLPaOc8"
      },
      "execution_count": 100,
      "outputs": []
    },
    {
      "cell_type": "markdown",
      "source": [
        "# ***Random Forest***"
      ],
      "metadata": {
        "id": "sdyJw1tUaU9I"
      }
    },
    {
      "cell_type": "code",
      "source": [
        "from sklearn.ensemble import RandomForestClassifier"
      ],
      "metadata": {
        "id": "Bc8IsoxaaXMv"
      },
      "execution_count": 101,
      "outputs": []
    },
    {
      "cell_type": "code",
      "source": [
        "rfc = RandomForestClassifier(n_estimators=100)"
      ],
      "metadata": {
        "id": "fvJdnJ7Gaadz"
      },
      "execution_count": 102,
      "outputs": []
    },
    {
      "cell_type": "code",
      "source": [
        "rfc.fit(X_train,y_train)"
      ],
      "metadata": {
        "colab": {
          "base_uri": "https://localhost:8080/"
        },
        "id": "iuDIXjlpaekZ",
        "outputId": "dd749e13-c132-4cf3-e344-8479f2682ccf"
      },
      "execution_count": 103,
      "outputs": [
        {
          "output_type": "stream",
          "name": "stderr",
          "text": [
            "/usr/local/lib/python3.7/dist-packages/ipykernel_launcher.py:1: DataConversionWarning: A column-vector y was passed when a 1d array was expected. Please change the shape of y to (n_samples,), for example using ravel().\n",
            "  \"\"\"Entry point for launching an IPython kernel.\n"
          ]
        },
        {
          "output_type": "execute_result",
          "data": {
            "text/plain": [
              "RandomForestClassifier()"
            ]
          },
          "metadata": {},
          "execution_count": 103
        }
      ]
    },
    {
      "cell_type": "code",
      "source": [
        "predictions = rfc.predict(X_test)"
      ],
      "metadata": {
        "id": "lKc4bIzcahjI"
      },
      "execution_count": 104,
      "outputs": []
    },
    {
      "cell_type": "code",
      "source": [
        "from sklearn.metrics import classification_report # model Evalation"
      ],
      "metadata": {
        "id": "s31jHFX7akrD"
      },
      "execution_count": 105,
      "outputs": []
    },
    {
      "cell_type": "code",
      "source": [
        "print(classification_report(y_test,predictions)) # Check accuracy of model"
      ],
      "metadata": {
        "colab": {
          "base_uri": "https://localhost:8080/"
        },
        "id": "sgQaQFYVawU_",
        "outputId": "074308fc-5be6-4338-c506-828aa61d0dfb"
      },
      "execution_count": 106,
      "outputs": [
        {
          "output_type": "stream",
          "name": "stdout",
          "text": [
            "              precision    recall  f1-score   support\n",
            "\n",
            "           0       1.00      1.00      1.00      1246\n",
            "           1       1.00      1.00      1.00      1192\n",
            "\n",
            "    accuracy                           1.00      2438\n",
            "   macro avg       1.00      1.00      1.00      2438\n",
            "weighted avg       1.00      1.00      1.00      2438\n",
            "\n"
          ]
        }
      ]
    },
    {
      "cell_type": "code",
      "source": [
        "from sklearn.metrics import confusion_matrix"
      ],
      "metadata": {
        "id": "VqUW1F1_awys"
      },
      "execution_count": 107,
      "outputs": []
    },
    {
      "cell_type": "code",
      "source": [
        "print(confusion_matrix(y_test,predictions))"
      ],
      "metadata": {
        "colab": {
          "base_uri": "https://localhost:8080/"
        },
        "id": "2FON33Uwa1ni",
        "outputId": "ab7aee03-72af-49b0-f6ac-ca46e8f07380"
      },
      "execution_count": 108,
      "outputs": [
        {
          "output_type": "stream",
          "name": "stdout",
          "text": [
            "[[1246    0]\n",
            " [   0 1192]]\n"
          ]
        }
      ]
    },
    {
      "cell_type": "code",
      "source": [],
      "metadata": {
        "id": "8CeKi3Kca3LU"
      },
      "execution_count": 108,
      "outputs": []
    }
  ]
}